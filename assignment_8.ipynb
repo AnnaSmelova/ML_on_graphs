{
  "cells": [
    {
      "cell_type": "markdown",
      "metadata": {
        "id": "2Lp8BtVfxfSn"
      },
      "source": [
        "# Assignment — Link prediction"
      ]
    },
    {
      "cell_type": "code",
      "execution_count": 1,
      "metadata": {
        "id": "8kk2_fDyxfSr"
      },
      "outputs": [],
      "source": [
        "import networkx as nx\n",
        "import matplotlib.pyplot as plt\n",
        "import requests\n",
        "from sklearn.decomposition import TruncatedSVD\n",
        "import pandas as pd\n",
        "import numpy as np\n",
        "from sklearn.metrics import roc_curve, auc\n",
        "from sklearn.linear_model import LogisticRegression"
      ]
    },
    {
      "cell_type": "markdown",
      "metadata": {
        "id": "Dr8ZEIgdxfSs"
      },
      "source": [
        "### Task 1. Dataset for link prediction (0 points)"
      ]
    },
    {
      "cell_type": "markdown",
      "metadata": {
        "id": "911HbcW8xfSt"
      },
      "source": [
        "Consider link prediction on the [e-mails network](http://snap.stanford.edu/data/email-Eu-core-temporal.html) where nodes are members of a research institution and edges are e-mails given with timestamps. The goal is to predict occurrence of edges in the test time period using information from the train time period only."
      ]
    },
    {
      "cell_type": "code",
      "execution_count": 2,
      "metadata": {
        "id": "lv37PXOCxfSt"
      },
      "outputs": [],
      "source": [
        "url = 'https://raw.githubusercontent.com/netspractice/network-science/main/datasets/email-Eu-core-temporal.txt'\n",
        "open('email-Eu-core-temporal.txt', 'wb').write(requests.get(url).content);\n"
      ]
    },
    {
      "cell_type": "code",
      "execution_count": 3,
      "metadata": {
        "id": "006UqebKxfSu",
        "outputId": "8cae70be-e130-49b9-b29c-b0b8f66c1028",
        "colab": {
          "base_uri": "https://localhost:8080/",
          "height": 206
        }
      },
      "outputs": [
        {
          "output_type": "execute_result",
          "data": {
            "text/html": [
              "\n",
              "  <div id=\"df-50332f69-b73b-47fb-b921-df17a7787b2e\">\n",
              "    <div class=\"colab-df-container\">\n",
              "      <div>\n",
              "<style scoped>\n",
              "    .dataframe tbody tr th:only-of-type {\n",
              "        vertical-align: middle;\n",
              "    }\n",
              "\n",
              "    .dataframe tbody tr th {\n",
              "        vertical-align: top;\n",
              "    }\n",
              "\n",
              "    .dataframe thead th {\n",
              "        text-align: right;\n",
              "    }\n",
              "</style>\n",
              "<table border=\"1\" class=\"dataframe\">\n",
              "  <thead>\n",
              "    <tr style=\"text-align: right;\">\n",
              "      <th></th>\n",
              "      <th>sender</th>\n",
              "      <th>receiver</th>\n",
              "      <th>timestamp</th>\n",
              "    </tr>\n",
              "  </thead>\n",
              "  <tbody>\n",
              "    <tr>\n",
              "      <th>0</th>\n",
              "      <td>582</td>\n",
              "      <td>364</td>\n",
              "      <td>0</td>\n",
              "    </tr>\n",
              "    <tr>\n",
              "      <th>1</th>\n",
              "      <td>168</td>\n",
              "      <td>472</td>\n",
              "      <td>2797</td>\n",
              "    </tr>\n",
              "    <tr>\n",
              "      <th>2</th>\n",
              "      <td>168</td>\n",
              "      <td>912</td>\n",
              "      <td>3304</td>\n",
              "    </tr>\n",
              "    <tr>\n",
              "      <th>3</th>\n",
              "      <td>2</td>\n",
              "      <td>790</td>\n",
              "      <td>4523</td>\n",
              "    </tr>\n",
              "    <tr>\n",
              "      <th>4</th>\n",
              "      <td>2</td>\n",
              "      <td>322</td>\n",
              "      <td>7926</td>\n",
              "    </tr>\n",
              "  </tbody>\n",
              "</table>\n",
              "</div>\n",
              "      <button class=\"colab-df-convert\" onclick=\"convertToInteractive('df-50332f69-b73b-47fb-b921-df17a7787b2e')\"\n",
              "              title=\"Convert this dataframe to an interactive table.\"\n",
              "              style=\"display:none;\">\n",
              "        \n",
              "  <svg xmlns=\"http://www.w3.org/2000/svg\" height=\"24px\"viewBox=\"0 0 24 24\"\n",
              "       width=\"24px\">\n",
              "    <path d=\"M0 0h24v24H0V0z\" fill=\"none\"/>\n",
              "    <path d=\"M18.56 5.44l.94 2.06.94-2.06 2.06-.94-2.06-.94-.94-2.06-.94 2.06-2.06.94zm-11 1L8.5 8.5l.94-2.06 2.06-.94-2.06-.94L8.5 2.5l-.94 2.06-2.06.94zm10 10l.94 2.06.94-2.06 2.06-.94-2.06-.94-.94-2.06-.94 2.06-2.06.94z\"/><path d=\"M17.41 7.96l-1.37-1.37c-.4-.4-.92-.59-1.43-.59-.52 0-1.04.2-1.43.59L10.3 9.45l-7.72 7.72c-.78.78-.78 2.05 0 2.83L4 21.41c.39.39.9.59 1.41.59.51 0 1.02-.2 1.41-.59l7.78-7.78 2.81-2.81c.8-.78.8-2.07 0-2.86zM5.41 20L4 18.59l7.72-7.72 1.47 1.35L5.41 20z\"/>\n",
              "  </svg>\n",
              "      </button>\n",
              "      \n",
              "  <style>\n",
              "    .colab-df-container {\n",
              "      display:flex;\n",
              "      flex-wrap:wrap;\n",
              "      gap: 12px;\n",
              "    }\n",
              "\n",
              "    .colab-df-convert {\n",
              "      background-color: #E8F0FE;\n",
              "      border: none;\n",
              "      border-radius: 50%;\n",
              "      cursor: pointer;\n",
              "      display: none;\n",
              "      fill: #1967D2;\n",
              "      height: 32px;\n",
              "      padding: 0 0 0 0;\n",
              "      width: 32px;\n",
              "    }\n",
              "\n",
              "    .colab-df-convert:hover {\n",
              "      background-color: #E2EBFA;\n",
              "      box-shadow: 0px 1px 2px rgba(60, 64, 67, 0.3), 0px 1px 3px 1px rgba(60, 64, 67, 0.15);\n",
              "      fill: #174EA6;\n",
              "    }\n",
              "\n",
              "    [theme=dark] .colab-df-convert {\n",
              "      background-color: #3B4455;\n",
              "      fill: #D2E3FC;\n",
              "    }\n",
              "\n",
              "    [theme=dark] .colab-df-convert:hover {\n",
              "      background-color: #434B5C;\n",
              "      box-shadow: 0px 1px 3px 1px rgba(0, 0, 0, 0.15);\n",
              "      filter: drop-shadow(0px 1px 2px rgba(0, 0, 0, 0.3));\n",
              "      fill: #FFFFFF;\n",
              "    }\n",
              "  </style>\n",
              "\n",
              "      <script>\n",
              "        const buttonEl =\n",
              "          document.querySelector('#df-50332f69-b73b-47fb-b921-df17a7787b2e button.colab-df-convert');\n",
              "        buttonEl.style.display =\n",
              "          google.colab.kernel.accessAllowed ? 'block' : 'none';\n",
              "\n",
              "        async function convertToInteractive(key) {\n",
              "          const element = document.querySelector('#df-50332f69-b73b-47fb-b921-df17a7787b2e');\n",
              "          const dataTable =\n",
              "            await google.colab.kernel.invokeFunction('convertToInteractive',\n",
              "                                                     [key], {});\n",
              "          if (!dataTable) return;\n",
              "\n",
              "          const docLinkHtml = 'Like what you see? Visit the ' +\n",
              "            '<a target=\"_blank\" href=https://colab.research.google.com/notebooks/data_table.ipynb>data table notebook</a>'\n",
              "            + ' to learn more about interactive tables.';\n",
              "          element.innerHTML = '';\n",
              "          dataTable['output_type'] = 'display_data';\n",
              "          await google.colab.output.renderOutput(dataTable, element);\n",
              "          const docLink = document.createElement('div');\n",
              "          docLink.innerHTML = docLinkHtml;\n",
              "          element.appendChild(docLink);\n",
              "        }\n",
              "      </script>\n",
              "    </div>\n",
              "  </div>\n",
              "  "
            ],
            "text/plain": [
              "   sender  receiver  timestamp\n",
              "0     582       364          0\n",
              "1     168       472       2797\n",
              "2     168       912       3304\n",
              "3       2       790       4523\n",
              "4       2       322       7926"
            ]
          },
          "metadata": {},
          "execution_count": 3
        }
      ],
      "source": [
        "email_df = pd.read_csv(\n",
        "    'email-Eu-core-temporal.txt', \n",
        "    delimiter=' ', \n",
        "    names=['sender', 'receiver', 'timestamp']\n",
        ")\n",
        "email_df.head()"
      ]
    },
    {
      "cell_type": "markdown",
      "metadata": {
        "id": "onrtDR-6xfSv"
      },
      "source": [
        "Next, consider the following preprocessing procedure:\n",
        "1. Select edges by given train and test time periods, for example, [0, 1000) is train and [1000, 2000) is test\n",
        "2. Build a _core_ — a connected network where every edge occurs at least $k_\\text{train}$ times in the train time period or at least $k_\\text{test}$ times in the test time period. Let the core be undirected, so occurrences edges (1, 0) and (0, 1) are computed together.\n",
        "3. From the core, select a train set of edges $E_\\text{train}$ that occur for the first time in the train period. All others are included to $E_\\text{test}$.\n",
        "3. Exclude test edges that contain nodes that do not occur in train edges.\n",
        "\n",
        "Write a function `train_test_edges` that takes a pd.DataFrame `email_df` with e-mail network, a tuple with the train time period borders `train_period`, say, (0, 1000), a similar tuple `test_period`, the number of edges occurrences `ktrain` and `ktest`. The function returns two lists with tuples — train and test edges. Every edge is returned of the form where the first node is less than the second, for example [(1, 2), (2, 3)] is ok, but [(2, 1), (3, 2)] is wrong."
      ]
    },
    {
      "cell_type": "code",
      "source": [
        "train_period, test_period, ktrain, ktest = (1e7, 2e7), (2e7, 2.5e7), 3, 3"
      ],
      "metadata": {
        "id": "1ywrRg2d0QcV"
      },
      "execution_count": 4,
      "outputs": []
    },
    {
      "cell_type": "code",
      "source": [
        "email_temp = email_df.copy()\n",
        "email_temp = email_temp[\n",
        "    (train_period[0] <= email_temp.timestamp) \n",
        "    & (email_temp.timestamp < test_period[1])\n",
        "]\n",
        "email_temp['from'] = email_temp[['sender', 'receiver']].min(axis=1)\n",
        "email_temp['to'] = email_temp[['sender', 'receiver']].max(axis=1)\n",
        "email_temp = email_temp.drop(['sender', 'receiver'], axis=1)\n",
        "email_temp = email_temp.set_index(['from', 'to'])\n",
        "\n",
        "email_train = email_temp[email_temp.timestamp < train_period[1]]\n",
        "email_train = email_train.groupby(['from', 'to']).count()\n",
        "train_core = email_train[email_train.timestamp >= ktrain].index.tolist()\n",
        "\n",
        "email_test = email_temp[test_period[0] <= email_temp.timestamp]\n",
        "email_test = email_test.groupby(['from', 'to']).count()\n",
        "test_core = email_test[email_test.timestamp >= ktest].index.tolist()\n",
        "\n",
        "core = list(set(train_core + test_core))"
      ],
      "metadata": {
        "id": "_iISNIuW0IGa"
      },
      "execution_count": 5,
      "outputs": []
    },
    {
      "cell_type": "code",
      "source": [
        "first_edges = email_temp.loc[core].groupby(['from', 'to']).min()"
      ],
      "metadata": {
        "id": "k49_AIj10dAH"
      },
      "execution_count": 6,
      "outputs": []
    },
    {
      "cell_type": "code",
      "source": [
        "train_edges = first_edges[first_edges.timestamp < test_period[0]].index.tolist()\n",
        "_test_edges = first_edges[first_edges.timestamp >= test_period[0]].index.tolist()"
      ],
      "metadata": {
        "id": "DGy_Z9xR1cFe"
      },
      "execution_count": 7,
      "outputs": []
    },
    {
      "cell_type": "code",
      "source": [
        "train_nodes = np.unique(train_edges)\n",
        "test_edges = [(u, v) for (u, v) in _test_edges if u in train_nodes and v in train_nodes]"
      ],
      "metadata": {
        "id": "4lghMa7d2JG1"
      },
      "execution_count": 8,
      "outputs": []
    },
    {
      "cell_type": "code",
      "execution_count": 9,
      "metadata": {
        "deletable": false,
        "nbgrader": {
          "cell_type": "code",
          "checksum": "d02465886cf63caec30af195db4cf5b9",
          "grade": false,
          "grade_id": "cell-676bd18fcab3c342",
          "locked": false,
          "schema_version": 3,
          "solution": true,
          "task": false
        },
        "id": "SiDIs_g-xfSw"
      },
      "outputs": [],
      "source": [
        "def train_test_edges(email_df, train_period, test_period, ktrain, ktest):\n",
        "    \n",
        "    email_temp = email_df.copy()\n",
        "    email_temp = email_temp[\n",
        "        (train_period[0] <= email_temp.timestamp) \n",
        "        & (email_temp.timestamp < test_period[1])\n",
        "    ]\n",
        "    email_temp['from'] = email_temp[['sender', 'receiver']].min(axis=1)\n",
        "    email_temp['to'] = email_temp[['sender', 'receiver']].max(axis=1)\n",
        "    email_temp = email_temp.drop(['sender', 'receiver'], axis=1)\n",
        "    email_temp = email_temp.set_index(['from', 'to'])\n",
        "\n",
        "    email_train = email_temp[email_temp.timestamp < train_period[1]]\n",
        "    email_train = email_train.groupby(['from', 'to']).count()\n",
        "    train_core = email_train[email_train.timestamp >= ktrain].index.tolist()\n",
        "\n",
        "    email_test = email_temp[test_period[0] <= email_temp.timestamp]\n",
        "    email_test = email_test.groupby(['from', 'to']).count()\n",
        "    test_core = email_test[email_test.timestamp >= ktest].index.tolist()\n",
        "    \n",
        "    core = list(set(train_core + test_core))\n",
        "    first_edges = email_temp.loc[core].groupby(['from', 'to']).min()\n",
        "    train_edges = first_edges[first_edges.timestamp < test_period[0]].index.tolist()\n",
        "    _test_edges = first_edges[first_edges.timestamp >= test_period[0]].index.tolist()\n",
        "    train_nodes = np.unique(train_edges)\n",
        "    test_edges = [(u, v) for (u, v) in _test_edges if u in train_nodes and v in train_nodes]\n",
        "    return train_edges, test_edges"
      ]
    },
    {
      "cell_type": "code",
      "execution_count": 10,
      "metadata": {
        "deletable": false,
        "editable": false,
        "nbgrader": {
          "cell_type": "code",
          "checksum": "da565e34660337c25e9701492519f95a",
          "grade": true,
          "grade_id": "cell-a77f2fa764e87595",
          "locked": true,
          "points": 0,
          "schema_version": 3,
          "solution": false,
          "task": false
        },
        "id": "c5VTRNb2xfS0"
      },
      "outputs": [],
      "source": [
        "train_edges, test_edges = train_test_edges(email_df, (1e7, 2e7), (2e7, 2.5e7), 3, 3)\n",
        "_train_edges, _test_edges = np.array(train_edges), np.array(test_edges)\n",
        "assert np.all(_train_edges[:, 0] < _train_edges[:, 1])\n",
        "assert np.all(_test_edges[:, 0] < _test_edges[:, 1])\n",
        "assert len(set(train_edges).intersection(test_edges)) == 0\n",
        "assert _train_edges.shape == (4147, 2)\n",
        "assert _test_edges.shape == (391, 2)"
      ]
    },
    {
      "cell_type": "markdown",
      "metadata": {
        "id": "OneZC0IGxfS1"
      },
      "source": [
        "### Task 2. Negative sampling (0 points)"
      ]
    },
    {
      "cell_type": "markdown",
      "metadata": {
        "id": "4zWZyvmGxfS1"
      },
      "source": [
        "Usually, graphs are sparse, so there is a high imbalance between positive (edge exists) and negative classes.\n",
        "To eliminate this problem, we can use the undersampling technique. \n",
        "\n",
        "The `negative_sampling` function samples the unexisted edges from the graph."
      ]
    },
    {
      "cell_type": "code",
      "execution_count": 11,
      "metadata": {
        "deletable": false,
        "nbgrader": {
          "cell_type": "code",
          "checksum": "550f4ed4fd88b68491c86ca5c1310695",
          "grade": false,
          "grade_id": "cell-2086061e022dc394",
          "locked": false,
          "schema_version": 3,
          "solution": true,
          "task": false
        },
        "id": "-vFJ-5QUxfS2"
      },
      "outputs": [],
      "source": [
        "def negative_sampling(train_edges, test_edges):\n",
        "    negative_edges = set()\n",
        "    all_edges = train_edges + test_edges\n",
        "    nodes = np.unique(all_edges)\n",
        "    len_test_edges = len(test_edges)\n",
        "    while len(negative_edges) < len_test_edges:\n",
        "        u, v = np.random.choice(nodes, size=2)\n",
        "        u, v = min(u, v), max(u, v)\n",
        "        if (u, v) not in all_edges:\n",
        "            negative_edges.add((u, v))\n",
        "    return list(negative_edges)"
      ]
    },
    {
      "cell_type": "code",
      "execution_count": 12,
      "metadata": {
        "deletable": false,
        "editable": false,
        "nbgrader": {
          "cell_type": "code",
          "checksum": "1bc37a39b370339c2b5af888964df05e",
          "grade": true,
          "grade_id": "cell-e71e5d52cb2cae88",
          "locked": true,
          "points": 0,
          "schema_version": 3,
          "solution": false,
          "task": false
        },
        "id": "COpNd_SzxfS2"
      },
      "outputs": [],
      "source": [
        "negatives = negative_sampling(train_edges, test_edges)\n",
        "assert len(negatives) == len(test_edges)\n",
        "assert len(set(negatives) & set(test_edges)) == 0\n",
        "assert len(set(negatives) & set(train_edges)) == 0"
      ]
    },
    {
      "cell_type": "markdown",
      "metadata": {
        "id": "km7iMEUSxfS2"
      },
      "source": [
        "Build test pairs of nodes that contains test and negative edges."
      ]
    },
    {
      "cell_type": "code",
      "execution_count": 13,
      "metadata": {
        "id": "UEQRfeH4xfS3",
        "outputId": "7bcc7b20-966f-487b-a7d6-2548695e1dbb",
        "colab": {
          "base_uri": "https://localhost:8080/"
        }
      },
      "outputs": [
        {
          "output_type": "execute_result",
          "data": {
            "text/plain": [
              "[1, 0, 1, 1, 0, 0, 0, 0, 1, 1]"
            ]
          },
          "metadata": {},
          "execution_count": 13
        }
      ],
      "source": [
        "test_pairs = np.random.permutation(negatives + test_edges)\n",
        "y_true = [int((u, v) in test_edges) for (u, v) in test_pairs]\n",
        "y_true[:10]"
      ]
    },
    {
      "cell_type": "markdown",
      "metadata": {
        "id": "GUVTgSjQxfS3"
      },
      "source": [
        "### Task 3. Similarity based algorithm (0 points)"
      ]
    },
    {
      "cell_type": "markdown",
      "metadata": {
        "id": "0NwOlHKdxfS3"
      },
      "source": [
        "The similarity based algorithm:\n",
        "1. Compute similarity matrix for test pairs using a graph on train edges\n",
        "2. Order that pairs in descending of similarity\n",
        "3. Select some threshold and predict links for all pairs above the threshold\n",
        "\n",
        "Write a function `sim_link_prediction` that takes a list with train edges, test pairs and true lables. The function predicts links and returns a tuple with metrics: \n",
        "* two np.arrays: FPR (false positive rate) and TPR (true positive rate) in descending of thresholds obtained by Jaccard coefficient, `nx.jaccard_coefficient`\n",
        "* the same, by Adamic/Adar index, `nx.adamic_adar_index`\n",
        "* the same, by resource allocation index, `nx.resource_allocation_index`\n",
        "\n",
        "_Hint: use `sklearn.metrics.roc_curve`._"
      ]
    },
    {
      "cell_type": "code",
      "source": [
        "G = nx.Graph()\n",
        "G.add_edges_from(train_edges)"
      ],
      "metadata": {
        "id": "JuMjaLle9tpH"
      },
      "execution_count": 14,
      "outputs": []
    },
    {
      "cell_type": "code",
      "execution_count": 15,
      "metadata": {
        "deletable": false,
        "nbgrader": {
          "cell_type": "code",
          "checksum": "1d3210041a30feb318d3198a746276a6",
          "grade": false,
          "grade_id": "cell-4125af6f7f2c4f56",
          "locked": false,
          "schema_version": 3,
          "solution": true,
          "task": false
        },
        "id": "YsyypTFjxfS4"
      },
      "outputs": [],
      "source": [
        "def sim_link_prediction(train_edges, test_pairs, y_true):\n",
        "    G = nx.Graph()\n",
        "    G.add_edges_from(train_edges)\n",
        "    res = []\n",
        "    sim = [p for u, v, p in nx.jaccard_coefficient(G, test_pairs)]\n",
        "    fpr, tpr, _ = roc_curve(y_true, sim)\n",
        "    res.append((fpr, tpr))\n",
        "    sim = [p for u, v, p in nx.adamic_adar_index(G, test_pairs)]\n",
        "    fpr, tpr, _ = roc_curve(y_true, sim)\n",
        "    res.append((fpr, tpr))\n",
        "    sim = [p for u, v, p in nx.resource_allocation_index(G, test_pairs)]\n",
        "    fpr, tpr, _ = roc_curve(y_true, sim)\n",
        "    res.append((fpr, tpr))\n",
        "    return res"
      ]
    },
    {
      "cell_type": "code",
      "execution_count": 16,
      "metadata": {
        "deletable": false,
        "editable": false,
        "nbgrader": {
          "cell_type": "code",
          "checksum": "e3033a917096b4adfdfce88d37eb630e",
          "grade": true,
          "grade_id": "cell-ea34274053a92113",
          "locked": true,
          "points": 0,
          "schema_version": 3,
          "solution": false,
          "task": false
        },
        "id": "l3ur9EqLxfS4"
      },
      "outputs": [],
      "source": [
        "jac, adam, res = sim_link_prediction(\n",
        "    train_edges, \n",
        "    [[537, 120], [267, 630], [37, 730], [251, 887], [773, 97], [327, 506], [280, 687]],\n",
        "    [0, 1, 1, 0, 0, 1, 0]\n",
        ")\n",
        "assert jac[0].shape == jac[1].shape\n",
        "assert adam[0].shape == adam[1].shape\n",
        "assert res[0].shape == res[1].shape\n",
        "assert round(auc(jac[0], jac[1]), 4) == 1\n",
        "assert round(auc(adam[0], adam[1]), 4) == 0.8333\n",
        "assert round(auc(res[0], res[1]), 4) == 0.9167"
      ]
    },
    {
      "cell_type": "markdown",
      "metadata": {
        "id": "Ml4enNiSxfS5"
      },
      "source": [
        "Let us look at ROC AUC curve to compare similaritites."
      ]
    },
    {
      "cell_type": "code",
      "source": [
        "fpr, tpr = jac\n",
        "fpr"
      ],
      "metadata": {
        "id": "Z-VkC734_1HO",
        "outputId": "8fd0a20c-96ea-411a-d16c-f9dc84c1804b",
        "colab": {
          "base_uri": "https://localhost:8080/"
        }
      },
      "execution_count": 17,
      "outputs": [
        {
          "output_type": "execute_result",
          "data": {
            "text/plain": [
              "array([0. , 0. , 0. , 0.5, 1. ])"
            ]
          },
          "metadata": {},
          "execution_count": 17
        }
      ]
    },
    {
      "cell_type": "code",
      "execution_count": 18,
      "metadata": {
        "id": "XeAeq-YZxfS5",
        "outputId": "934a085c-b91d-474b-98dd-a2d44e37c0bd",
        "colab": {
          "base_uri": "https://localhost:8080/",
          "height": 404
        }
      },
      "outputs": [
        {
          "output_type": "display_data",
          "data": {
            "image/png": "[encoded data removed]",
            "text/plain": [
              "<Figure size 720x432 with 1 Axes>"
            ]
          },
          "metadata": {
            "needs_background": "light"
          }
        }
      ],
      "source": [
        "jac, adam, res = sim_link_prediction(train_edges, test_pairs, y_true)\n",
        "plt.figure(figsize=(10, 6))\n",
        "cases = [[jac[0], jac[1], 'Jaccard'], \n",
        "         [adam[0], adam[1], 'Adamic/Adar'], \n",
        "         [res[0], res[1], 'Resource alloc.']]\n",
        "for fpr, tpr, label in cases:\n",
        "    plt.plot(fpr, tpr, lw=2, \n",
        "             label='{}, AUC={:.4f}'.format(label, auc(fpr, tpr)))\n",
        "plt.plot([0, 1], [0, 1], lw=2, linestyle='--', label='Random, AUC=0.5')\n",
        "plt.xlabel('FPR')\n",
        "plt.ylabel('TPR')\n",
        "plt.title('ROC AUC')\n",
        "plt.legend()\n",
        "plt.show()"
      ]
    },
    {
      "cell_type": "code",
      "source": [
        ""
      ],
      "metadata": {
        "id": "suARbhEmBRRH"
      },
      "execution_count": 18,
      "outputs": []
    },
    {
      "cell_type": "markdown",
      "metadata": {
        "id": "56jPsXClxfS5"
      },
      "source": [
        "### Task 4. Reconstruction adjacency matrix using SVD (3 points)"
      ]
    },
    {
      "cell_type": "markdown",
      "metadata": {
        "id": "Clqsf0SExfS5"
      },
      "source": [
        "Similarly to the node classification task, node embeddings could be helpful in the link prediction problem. A simple way to obtain similarity score for link prediction is to reconstruct adjacency matrix using dot product of truncated SVD node embeddings $$\\tilde A_{ij} = \\langle e_i, e_j \\rangle$$"
      ]
    },
    {
      "cell_type": "code",
      "execution_count": 19,
      "metadata": {
        "id": "BBZya0N3xfS6",
        "colab": {
          "base_uri": "https://localhost:8080/"
        },
        "outputId": "dfb7ed2b-8942-4206-96a8-f73f1bb1bd81"
      },
      "outputs": [
        {
          "output_type": "execute_result",
          "data": {
            "text/plain": [
              "array([[ 0.8326, -0.9149, -0.5145,  2.3371],\n",
              "       [ 0.049 ,  0.0031, -0.0374, -0.0332],\n",
              "       [ 2.0368,  0.8498,  0.2494,  0.7608],\n",
              "       ...,\n",
              "       [ 0.0062, -0.0032, -0.0087,  0.0039],\n",
              "       [ 0.137 , -0.0427, -0.1047, -0.0818],\n",
              "       [ 0.471 , -0.4594, -0.4649,  1.4184]])"
            ]
          },
          "metadata": {},
          "execution_count": 19
        }
      ],
      "source": [
        "G = nx.Graph()\n",
        "G.add_nodes_from(range(np.max(train_edges) + 1))\n",
        "G.add_edges_from(train_edges)\n",
        "A = nx.to_numpy_array(G)\n",
        "model = TruncatedSVD(n_components=4, random_state=0)\n",
        "emb = model.fit_transform(A)\n",
        "emb.round(4)"
      ]
    },
    {
      "cell_type": "markdown",
      "metadata": {
        "id": "MxrsoWNkxfS6"
      },
      "source": [
        "Write a function `dot_product_scores` that takes node embeddings, test pairs, returns reconstructed scores for test pairs."
      ]
    },
    {
      "cell_type": "code",
      "execution_count": 20,
      "metadata": {
        "deletable": false,
        "nbgrader": {
          "cell_type": "code",
          "checksum": "f2eb68405b8b45411bfd09ce363857f9",
          "grade": false,
          "grade_id": "cell-e3728903f481eed8",
          "locked": false,
          "schema_version": 3,
          "solution": true,
          "task": false
        },
        "id": "9A1YhAtFxfS6"
      },
      "outputs": [],
      "source": [
        "def dot_product_scores(emb, test_pairs):\n",
        "    # YOUR CODE HERE\n",
        "    scores = []\n",
        "    for pair in test_pairs:\n",
        "      pair_score = emb[pair[0]] * emb[pair[1]]\n",
        "      pair_score = sum(pair_score)\n",
        "      scores.append(pair_score)\n",
        "    return np.array(scores)\n",
        "    # raise NotImplementedError()"
      ]
    },
    {
      "cell_type": "code",
      "execution_count": 21,
      "metadata": {
        "deletable": false,
        "editable": false,
        "nbgrader": {
          "cell_type": "code",
          "checksum": "6109a9d205365fc16f2d6b5d1cd64cc4",
          "grade": true,
          "grade_id": "cell-d7b6b9f3c20abc71",
          "locked": true,
          "points": 3,
          "schema_version": 3,
          "solution": false,
          "task": false
        },
        "id": "hvRExmdixfS6"
      },
      "outputs": [],
      "source": [
        "scores = dot_product_scores(emb, test_pairs)\n",
        "assert scores.shape == (782, )\n",
        "fpr, tpr, _ = roc_curve(y_true, scores)\n",
        "assert auc(fpr, tpr) > 0.8"
      ]
    },
    {
      "cell_type": "code",
      "execution_count": 22,
      "metadata": {
        "id": "3O9Zi4jDxfS7",
        "colab": {
          "base_uri": "https://localhost:8080/",
          "height": 404
        },
        "outputId": "e30d6ca5-a0e3-4acf-a6ce-2985b8ce008b"
      },
      "outputs": [
        {
          "output_type": "display_data",
          "data": {
            "image/png": "[encoded data removed]",
            "text/plain": [
              "<Figure size 720x432 with 1 Axes>"
            ]
          },
          "metadata": {
            "needs_background": "light"
          }
        }
      ],
      "source": [
        "plt.figure(figsize=(10, 6))\n",
        "plt.plot(fpr, tpr, lw=2, \n",
        "         label='{}, AUC={:.4f}'.format('Adjacency SVD', auc(fpr, tpr)))\n",
        "plt.plot([0, 1], [0, 1], lw=2, linestyle='--', label='Random, AUC=0.5')\n",
        "plt.xlabel('FPR')\n",
        "plt.ylabel('TPR')\n",
        "plt.title('ROC AUC')\n",
        "plt.legend()\n",
        "plt.show()"
      ]
    },
    {
      "cell_type": "markdown",
      "metadata": {
        "id": "dX5nO7BjxfS7"
      },
      "source": [
        "### Task 5. Edge emdedding (3 points)"
      ]
    },
    {
      "cell_type": "markdown",
      "metadata": {
        "id": "JJfs9x5xxfS7"
      },
      "source": [
        "In this task we will solve the link prediction as classification task on edge embeddings. Let us compare several techniques of edge embedding calculation from the [paper](https://peerj.com/articles/cs-172/#table-2). We will compare the different vector aggregations as features for `sklearn.linear_model.LogisticRegression` for classification task."
      ]
    },
    {
      "cell_type": "code",
      "execution_count": 23,
      "metadata": {
        "id": "lEXP_GPNxfS8",
        "colab": {
          "base_uri": "https://localhost:8080/"
        },
        "outputId": "32602a2e-2c9d-44af-9598-9c95c58b9b75"
      },
      "outputs": [
        {
          "output_type": "execute_result",
          "data": {
            "text/plain": [
              "array([[ 0.8326, -0.9151, -0.5147,  2.339 ],\n",
              "       [ 0.049 ,  0.0031, -0.0374, -0.0319],\n",
              "       [ 2.0368,  0.8496,  0.2487,  0.7585],\n",
              "       ...,\n",
              "       [ 0.0062, -0.0032, -0.0086,  0.0043],\n",
              "       [ 0.137 , -0.0427, -0.1049, -0.0812],\n",
              "       [ 0.471 , -0.4592, -0.4643,  1.4151]])"
            ]
          },
          "metadata": {},
          "execution_count": 23
        }
      ],
      "source": [
        "G = nx.Graph()\n",
        "G.add_nodes_from(range(np.max(train_edges) + 1))\n",
        "G.add_edges_from(train_edges)\n",
        "A = nx.to_numpy_array(G)\n",
        "model = TruncatedSVD(n_components=4, n_iter=100)\n",
        "emb = model.fit_transform(A)\n",
        "emb.round(4)"
      ]
    },
    {
      "cell_type": "markdown",
      "metadata": {
        "id": "Gd9NG8zyxfS8"
      },
      "source": [
        "All following functions should return np.array with embeddings of edges from edges param. Average operator is simple elementwise average of node embeddings"
      ]
    },
    {
      "cell_type": "code",
      "execution_count": 24,
      "metadata": {
        "deletable": false,
        "nbgrader": {
          "cell_type": "code",
          "checksum": "58f462d94128ad39168d5c1651115bbc",
          "grade": false,
          "grade_id": "cell-26173c0c479136b7",
          "locked": false,
          "schema_version": 3,
          "solution": true,
          "task": false
        },
        "id": "WY1wYEgBxfS8"
      },
      "outputs": [],
      "source": [
        "def average_operator(G, embeddings, edges):\n",
        "    # YOUR CODE HERE\n",
        "    av_op = []\n",
        "    for edge in edges:\n",
        "        av = (embeddings[edge[0]] + embeddings[edge[1]]) / 2\n",
        "        av_op.append(av)\n",
        "    return np.array(av_op)\n",
        "    # raise NotImplementedError()"
      ]
    },
    {
      "cell_type": "code",
      "execution_count": 25,
      "metadata": {
        "deletable": false,
        "editable": false,
        "nbgrader": {
          "cell_type": "code",
          "checksum": "bc61e04094cfdf04d4a4357b8afd1c8f",
          "grade": true,
          "grade_id": "cell-eaefe9963be3c2d0",
          "locked": true,
          "points": 0.5,
          "schema_version": 3,
          "solution": false,
          "task": false
        },
        "id": "NKSW0YYDxfS9"
      },
      "outputs": [],
      "source": [
        "assert np.allclose(\n",
        "    average_operator(G, emb, np.array([[42,70]])).round(2),\n",
        "    [[ 0.55, -0.14, -0.26, -0.13]]\n",
        ")"
      ]
    },
    {
      "cell_type": "markdown",
      "metadata": {
        "id": "d_7nbeh8xfS9"
      },
      "source": [
        "Hadamard product is an elementwise product of node embeddings"
      ]
    },
    {
      "cell_type": "code",
      "execution_count": 26,
      "metadata": {
        "deletable": false,
        "nbgrader": {
          "cell_type": "code",
          "checksum": "dca0930cdead56210ac1d3ed38a1da2d",
          "grade": false,
          "grade_id": "cell-f662abe3d0579575",
          "locked": false,
          "schema_version": 3,
          "solution": true,
          "task": false
        },
        "id": "IGXeGyEuxfS9"
      },
      "outputs": [],
      "source": [
        "def hadamard_operator(G, embeddings, edges):\n",
        "    # YOUR CODE HERE\n",
        "    hm_op = []\n",
        "    for edge in edges:\n",
        "        hm = embeddings[edge[0]] * embeddings[edge[1]]\n",
        "        hm_op.append(hm)\n",
        "    return np.array(hm_op)\n",
        "    # raise NotImplementedError()"
      ]
    },
    {
      "cell_type": "code",
      "execution_count": 27,
      "metadata": {
        "deletable": false,
        "editable": false,
        "nbgrader": {
          "cell_type": "code",
          "checksum": "440462a8cfd997877c13c9929e7b5772",
          "grade": true,
          "grade_id": "cell-db04660af550adc7",
          "locked": true,
          "points": 0.5,
          "schema_version": 3,
          "solution": false,
          "task": false
        },
        "id": "kPq0Q3QfxfS9"
      },
      "outputs": [],
      "source": [
        "assert np.allclose(\n",
        "    hadamard_operator(G, emb, np.array([[42,70]])).round(2),\n",
        "    [[0.2 , 0.02, 0.06, 0.02]]\n",
        ")"
      ]
    },
    {
      "cell_type": "markdown",
      "metadata": {
        "id": "7dot5u_jxfS9"
      },
      "source": [
        "Weighted L1 is a absolute of elementwise difference between node embeddings"
      ]
    },
    {
      "cell_type": "code",
      "execution_count": 28,
      "metadata": {
        "deletable": false,
        "nbgrader": {
          "cell_type": "code",
          "checksum": "d6257c4c2eb4680600acc5867ddba862",
          "grade": false,
          "grade_id": "cell-5e44fbdf6a64715d",
          "locked": false,
          "schema_version": 3,
          "solution": true,
          "task": false
        },
        "id": "rtW6IICLxfS-"
      },
      "outputs": [],
      "source": [
        "def weighted_l1_operator(G, embeddings, edges):\n",
        "    # YOUR CODE HERE\n",
        "    wl1_op = []\n",
        "    for edge in edges:\n",
        "        wl1 = np.abs(embeddings[edge[0]] - embeddings[edge[1]])\n",
        "        wl1_op.append(wl1)\n",
        "    return np.array(wl1_op)\n",
        "    # raise NotImplementedError()"
      ]
    },
    {
      "cell_type": "code",
      "execution_count": 29,
      "metadata": {
        "deletable": false,
        "editable": false,
        "nbgrader": {
          "cell_type": "code",
          "checksum": "ec862cd555da0fe6278aa191d0855aff",
          "grade": true,
          "grade_id": "cell-f2c7878af729fcb5",
          "locked": true,
          "points": 0.5,
          "schema_version": 3,
          "solution": false,
          "task": false
        },
        "id": "7tVe-TihxfS-"
      },
      "outputs": [],
      "source": [
        "assert np.allclose(\n",
        "    weighted_l1_operator(G, emb, np.array([[42,70]])).round(2),\n",
        "    [[0.64, 0.07, 0.16, 0.11]]\n",
        ")"
      ]
    },
    {
      "cell_type": "markdown",
      "metadata": {
        "id": "acmKU5hSxfS-"
      },
      "source": [
        "Weighted L2 is a square of elementwise difference between node embeddings"
      ]
    },
    {
      "cell_type": "code",
      "execution_count": 30,
      "metadata": {
        "deletable": false,
        "nbgrader": {
          "cell_type": "code",
          "checksum": "c81ca1cb9941e2216cb755dcb6b1d6df",
          "grade": false,
          "grade_id": "cell-0f7f5b3663337374",
          "locked": false,
          "schema_version": 3,
          "solution": true,
          "task": false
        },
        "id": "BGQhK8bqxfS-"
      },
      "outputs": [],
      "source": [
        "def weighted_l2_operator(G, embeddings, edges):\n",
        "    # YOUR CODE HERE\n",
        "    wl2_op = []\n",
        "    for edge in edges:\n",
        "        wl2 = (embeddings[edge[0]] - embeddings[edge[1]])**2\n",
        "        wl2_op.append(wl2)\n",
        "    return np.array(wl2_op)\n",
        "    # raise NotImplementedError()"
      ]
    },
    {
      "cell_type": "code",
      "execution_count": 31,
      "metadata": {
        "deletable": false,
        "editable": false,
        "nbgrader": {
          "cell_type": "code",
          "checksum": "1e6fb9bbeff70f61d8b1c3974464baee",
          "grade": true,
          "grade_id": "cell-957e1faea3e9127d",
          "locked": true,
          "points": 0.5,
          "schema_version": 3,
          "solution": false,
          "task": false
        },
        "id": "wVwTyrjkxfS-"
      },
      "outputs": [],
      "source": [
        "assert np.allclose(\n",
        "    weighted_l2_operator(G, emb, np.array([[42,70]])).round(2),\n",
        "    [[0.41, 0.01, 0.03, 0.01]]\n",
        ")"
      ]
    },
    {
      "cell_type": "markdown",
      "metadata": {
        "id": "J5FB6bkBxfS-"
      },
      "source": [
        "Neighbor weighted L1 is a absolute of elementwise difference between mean embeddings of node neigbors with itself"
      ]
    },
    {
      "cell_type": "code",
      "execution_count": 32,
      "metadata": {
        "deletable": false,
        "nbgrader": {
          "cell_type": "code",
          "checksum": "91862e3967ecf48894e45a0adf8af354",
          "grade": false,
          "grade_id": "cell-9663ec4df9dbb751",
          "locked": false,
          "schema_version": 3,
          "solution": true,
          "task": false
        },
        "id": "QNYqPr3JxfS_"
      },
      "outputs": [],
      "source": [
        "def neighbor_weighted_l1_operator(G, embeddings, edges):\n",
        "    # YOUR CODE HERE\n",
        "    nwl1_op = []\n",
        "    for edge in edges:\n",
        "        neighbours_0 = list(G.neighbors(edge[0]))\n",
        "        neighbours_1 = list(G.neighbors(edge[1]))\n",
        "        len_0 = len(neighbours_0)\n",
        "        neighbours_0.append(edge[0])\n",
        "        len_1 = len(neighbours_1)\n",
        "        neighbours_1.append(edge[1])\n",
        "        sum_0 = sum(embeddings[neighbours_0]) / (len_0 + 1)\n",
        "        sum_1 = sum(embeddings[neighbours_1]) / (len_1 + 1)\n",
        "        nwl1 = np.abs(sum_0 - sum_1)\n",
        "        nwl1_op.append(nwl1)\n",
        "    return np.array(nwl1_op)\n",
        "    #raise NotImplementedError()"
      ]
    },
    {
      "cell_type": "code",
      "execution_count": 33,
      "metadata": {
        "deletable": false,
        "editable": false,
        "nbgrader": {
          "cell_type": "code",
          "checksum": "1cbefe98af2a1b6b2376f799b866d939",
          "grade": true,
          "grade_id": "cell-fe7f124fa265373c",
          "locked": true,
          "points": 0.5,
          "schema_version": 3,
          "solution": false,
          "task": false
        },
        "id": "y8jDFQ-NxfS_"
      },
      "outputs": [],
      "source": [
        "assert np.allclose(\n",
        "    neighbor_weighted_l1_operator(G, emb, np.array([[42,70]])).round(2),\n",
        "    [[2.17, 0.18, 0.34, 0.2 ]]\n",
        ")"
      ]
    },
    {
      "cell_type": "markdown",
      "metadata": {
        "id": "OcbUXklTxfS_"
      },
      "source": [
        "Neighbor weighted L1 is a square of elementwise difference between mean embeddings of node neigbors with itself"
      ]
    },
    {
      "cell_type": "code",
      "execution_count": 34,
      "metadata": {
        "deletable": false,
        "nbgrader": {
          "cell_type": "code",
          "checksum": "6fe87475999a79b39066260f060f80ca",
          "grade": false,
          "grade_id": "cell-cb55782d381636cd",
          "locked": false,
          "schema_version": 3,
          "solution": true,
          "task": false
        },
        "id": "qVeGGa1pxfS_"
      },
      "outputs": [],
      "source": [
        "def neighbor_weighted_l2_operator(G, embeddings, edges):\n",
        "    # YOUR CODE HERE\n",
        "    nwl2_op = []\n",
        "    for edge in edges:\n",
        "        neighbours_0 = list(G.neighbors(edge[0]))\n",
        "        neighbours_1 = list(G.neighbors(edge[1]))\n",
        "        len_0 = len(neighbours_0)\n",
        "        neighbours_0.append(edge[0])\n",
        "        len_1 = len(neighbours_1)\n",
        "        neighbours_1.append(edge[1])\n",
        "        sum_0 = sum(embeddings[neighbours_0]) / (len_0 + 1)\n",
        "        sum_1 = sum(embeddings[neighbours_1]) / (len_1 + 1)\n",
        "        nwl2 = (sum_0 - sum_1)**2\n",
        "        nwl2_op.append(nwl2)\n",
        "    return np.array(nwl2_op)\n",
        "    # raise NotImplementedError()"
      ]
    },
    {
      "cell_type": "code",
      "execution_count": 35,
      "metadata": {
        "deletable": false,
        "editable": false,
        "nbgrader": {
          "cell_type": "code",
          "checksum": "4ae389acc9d3af30a4e104f746d1f56f",
          "grade": true,
          "grade_id": "cell-b3ea740a7d8e7422",
          "locked": true,
          "points": 0.5,
          "schema_version": 3,
          "solution": false,
          "task": false
        },
        "id": "qmLTlfY8xfS_"
      },
      "outputs": [],
      "source": [
        "assert np.allclose(\n",
        "    neighbor_weighted_l2_operator(G, emb, np.array([[42,70]])).round(2),\n",
        "    [[4.69, 0.03, 0.12, 0.04]]\n",
        ")"
      ]
    },
    {
      "cell_type": "code",
      "execution_count": 36,
      "metadata": {
        "id": "Q-i3sQpjxfS_"
      },
      "outputs": [],
      "source": [
        "operators = {\n",
        "    \"average_operator\": average_operator,\n",
        "    \"hadamard_operator\": hadamard_operator,\n",
        "    \"weighted_l1_operator\": weighted_l1_operator,\n",
        "    \"weighted_l2_operator\": weighted_l2_operator,\n",
        "    \"neighbor_weighted_l1_operator\": neighbor_weighted_l1_operator,\n",
        "    \"neighbor_weighted_l2_operator\": neighbor_weighted_l2_operator\n",
        "}\n",
        "\n",
        "train_split = int(len(test_pairs) * 0.8)\n",
        "res = {}\n",
        "for name, operator in operators.items():\n",
        "    lr = LogisticRegression()\n",
        "    edge_emb = operator(G, emb, test_pairs)\n",
        "    lr.fit(edge_emb[:train_split], y_true[:train_split])\n",
        "    preds = lr.predict_proba(edge_emb[train_split:])[:, 1]\n",
        "    fpr, tpr, _ = roc_curve(y_true[train_split:], preds)\n",
        "    res[name] = {\n",
        "        'fpr': fpr,\n",
        "        'tpr': tpr\n",
        "    }"
      ]
    },
    {
      "cell_type": "code",
      "execution_count": 37,
      "metadata": {
        "id": "PADbF7g6xfTA",
        "colab": {
          "base_uri": "https://localhost:8080/",
          "height": 404
        },
        "outputId": "5bb0e40b-6bc2-4201-a8f8-760a1be585e3"
      },
      "outputs": [
        {
          "output_type": "display_data",
          "data": {
            "image/png": "[encoded data removed]",
            "text/plain": [
              "<Figure size 720x432 with 1 Axes>"
            ]
          },
          "metadata": {
            "needs_background": "light"
          }
        }
      ],
      "source": [
        "plt.figure(figsize=(10, 6))\n",
        "for label, v in res.items():\n",
        "    fpr, tpr = v['fpr'], v['tpr']\n",
        "    plt.plot(fpr, tpr, lw=2, \n",
        "             label='{}, AUC={:.4f}'.format(label, auc(fpr, tpr)))\n",
        "plt.plot([0, 1], [0, 1], lw=2, linestyle='--', label='Random, AUC=0.5')\n",
        "plt.xlabel('FPR')\n",
        "plt.ylabel('TPR')\n",
        "plt.title('ROC AUC')\n",
        "plt.legend()\n",
        "plt.show()"
      ]
    },
    {
      "cell_type": "markdown",
      "metadata": {
        "id": "MoBc8TOsxfTA"
      },
      "source": [
        "### Task 6. Walklets model (4 points)"
      ]
    },
    {
      "cell_type": "code",
      "execution_count": 38,
      "metadata": {
        "id": "-20HyVEexfTA",
        "colab": {
          "base_uri": "https://localhost:8080/"
        },
        "outputId": "e38cc3f1-25b6-4f7e-bc20-5311fc58293d"
      },
      "outputs": [
        {
          "output_type": "stream",
          "name": "stdout",
          "text": [
            "Requirement already satisfied: gensim==4.0.0 in /usr/local/lib/python3.7/dist-packages (4.0.0)\n",
            "Requirement already satisfied: smart-open>=1.8.1 in /usr/local/lib/python3.7/dist-packages (from gensim==4.0.0) (5.2.1)\n",
            "Requirement already satisfied: numpy>=1.11.3 in /usr/local/lib/python3.7/dist-packages (from gensim==4.0.0) (1.21.5)\n",
            "Requirement already satisfied: scipy>=0.18.1 in /usr/local/lib/python3.7/dist-packages (from gensim==4.0.0) (1.4.1)\n"
          ]
        }
      ],
      "source": [
        "!pip install gensim==4.0.0"
      ]
    },
    {
      "cell_type": "code",
      "execution_count": 39,
      "metadata": {
        "id": "Cu76boIyxfTA",
        "colab": {
          "base_uri": "https://localhost:8080/"
        },
        "outputId": "ac621aa5-0717-4280-fdd9-87994c8399e5"
      },
      "outputs": [
        {
          "output_type": "stream",
          "name": "stderr",
          "text": [
            "/usr/local/lib/python3.7/dist-packages/gensim/similarities/__init__.py:15: UserWarning: The gensim.similarities.levenshtein submodule is disabled, because the optional Levenshtein package <https://pypi.org/project/python-Levenshtein/> is unavailable. Install Levenhstein (e.g. `pip install python-Levenshtein`) to suppress this warning.\n",
            "  warnings.warn(msg)\n"
          ]
        }
      ],
      "source": [
        "from gensim.models.word2vec import Word2Vec"
      ]
    },
    {
      "cell_type": "markdown",
      "metadata": {
        "id": "psKhlef8xfTF"
      },
      "source": [
        "Walklets (Perozzi, Kulkarni & Skiena, 2016) use a weighted combination of embeddings of powers of adjacency matrix $A$, $A^2$, …, $A^k$ to reduce the bias of Deepwalk for low-order proximities, and approximates computing $A^i$ by skipping nodes using short random walks (Perozzi et al., 2017). Walklets captures multiple scales of relationships between vertices in a graph. The method itself is scalable, and can be run on graphs with millions of vertices.\n",
        "\n",
        "Firstly, we need to sample some random walks. You can take this function from the DeepWalk task of the node classification assignment."
      ]
    },
    {
      "cell_type": "code",
      "execution_count": 40,
      "metadata": {
        "deletable": false,
        "nbgrader": {
          "cell_type": "code",
          "checksum": "999ee0e8c86557f2448d8a05ed3037b7",
          "grade": false,
          "grade_id": "cell-15f0d69f9b2d6d42",
          "locked": false,
          "schema_version": 3,
          "solution": true,
          "task": false
        },
        "id": "aetNq-sNxfTF"
      },
      "outputs": [],
      "source": [
        "def random_walks(G, n_walks, path_length):\n",
        "    # YOUR CODE HERE\n",
        "    N = G.number_of_nodes()\n",
        "    pathes = []\n",
        "    for i in G.nodes:\n",
        "        node = i\n",
        "        for _ in range(n_walks):\n",
        "            path = [i]\n",
        "            for _ in range(1, path_length): \n",
        "                neighbors = [n for n in G.neighbors(node)]\n",
        "                probs = []\n",
        "                probs = probs + [1./len(neighbors)] * len(neighbors)\n",
        "                node = np.random.choice(neighbors, p=probs)\n",
        "                path.append(node)\n",
        "            pathes.append(path)\n",
        "    return np.array(pathes)   \n",
        "    # raise NotImplementedError()"
      ]
    },
    {
      "cell_type": "code",
      "execution_count": 41,
      "metadata": {
        "deletable": false,
        "editable": false,
        "nbgrader": {
          "cell_type": "code",
          "checksum": "4ed1cd07b868701427efb505f8729593",
          "grade": true,
          "grade_id": "cell-1832ce04312cc4a9",
          "locked": true,
          "points": 0.8,
          "schema_version": 3,
          "solution": false,
          "task": false
        },
        "id": "bc_YZRS3xfTG"
      },
      "outputs": [],
      "source": [
        "walks = random_walks(nx.karate_club_graph(), 10, 5)\n",
        "\n",
        "assert walks.shape == (34*10, 5)\n",
        "for i, j in zip(walks[0, :-1], walks[0, 1:]):\n",
        "    assert nx.karate_club_graph().has_edge(i, j)\n",
        "assert np.all(walks[:, 0] == np.repeat(np.arange(34), 10))"
      ]
    },
    {
      "cell_type": "markdown",
      "metadata": {
        "id": "6z1-5nvIxfTG"
      },
      "source": [
        "Similar to DeepWalk, we model the network through a series of truncated random walks started at each node. However, we make a key change to the sampling procedure. Specifically, we choose to skip some of the the nodes in the random walk. In this way, we form a set of relationships which are sampled from successively higher powers of A.\n",
        "\n",
        "Function `skip_steps` separates a random walk `walk` on the several walks with `n_steps` steps between nodes. It returns list of lists with random walks with skips steps, look at asserts."
      ]
    },
    {
      "cell_type": "code",
      "execution_count": 42,
      "metadata": {
        "deletable": false,
        "nbgrader": {
          "cell_type": "code",
          "checksum": "27ca9a612f54a5c3a87db00e84c97339",
          "grade": false,
          "grade_id": "cell-94ff0150d47246f3",
          "locked": false,
          "schema_version": 3,
          "solution": true,
          "task": false
        },
        "id": "Dz_q4vbuxfTH"
      },
      "outputs": [],
      "source": [
        "def skip_steps(walk, n_steps):\n",
        "    # YOUR CODE HERE\n",
        "    #print(walk)\n",
        "    sep_walk = []\n",
        "    n = len(walk)\n",
        "    for i in range(n_steps + 1):\n",
        "        part = list(walk[i:n:n_steps])\n",
        "        #print(part)\n",
        "        sep_walk.append(part)\n",
        "    return sep_walk\n",
        "    #raise NotImplementedError()"
      ]
    },
    {
      "cell_type": "code",
      "execution_count": 43,
      "metadata": {
        "deletable": false,
        "editable": false,
        "nbgrader": {
          "cell_type": "code",
          "checksum": "2bb15f7e8e35cb4d34d398d34f820814",
          "grade": true,
          "grade_id": "cell-cf0f3db3a583d5c7",
          "locked": true,
          "points": 0.8,
          "schema_version": 3,
          "solution": false,
          "task": false
        },
        "id": "U9yIQBd7xfTI"
      },
      "outputs": [],
      "source": [
        "walk = [0, 1, 2, 3, 4, 5, 6, 7, 8, 9]\n",
        "assert skip_steps(walk, 2) == [[0, 2, 4, 6, 8], [1, 3, 5, 7, 9], [2, 4, 6, 8]]\n",
        "assert skip_steps(walk, 3) == [[0, 3, 6, 9], [1, 4, 7], [2, 5, 8], [3, 6, 9]]\n",
        "\n",
        "skipped = skip_steps(walks[0], 2)\n",
        "assert len(skipped) == 3\n",
        "assert len(skipped[1]) == 2"
      ]
    },
    {
      "cell_type": "markdown",
      "metadata": {
        "id": "IE0a6zcXxfTI"
      },
      "source": [
        "Next, we prepare walklets as follows: skip steps in each random walk and union them into a single list. Write a function `generate_walklets` that takes input random walks and number of steps, return a dataset with skipped random walks."
      ]
    },
    {
      "cell_type": "code",
      "execution_count": 44,
      "metadata": {
        "deletable": false,
        "nbgrader": {
          "cell_type": "code",
          "checksum": "50b5c40024da6b6fafc6f52cc67f2405",
          "grade": false,
          "grade_id": "cell-37b67a0e80a3f3d3",
          "locked": false,
          "schema_version": 3,
          "solution": true,
          "task": false
        },
        "id": "LWNC_jjDxfTI"
      },
      "outputs": [],
      "source": [
        "def generate_walklets(input_walks, n_steps):\n",
        "    # YOUR CODE HERE\n",
        "    walklets = []\n",
        "    for walk in input_walks:\n",
        "        sep_walk = skip_steps(walk, n_steps)\n",
        "        walklets.extend(sep_walk)\n",
        "    return walklets\n",
        "    #raise NotImplementedError()"
      ]
    },
    {
      "cell_type": "code",
      "execution_count": 45,
      "metadata": {
        "deletable": false,
        "editable": false,
        "nbgrader": {
          "cell_type": "code",
          "checksum": "30dfa61724fb749e61147204b78e1b95",
          "grade": true,
          "grade_id": "cell-92b5dc686df237f5",
          "locked": true,
          "points": 0.8,
          "schema_version": 3,
          "solution": false,
          "task": false
        },
        "id": "c23jnyaQxfTJ"
      },
      "outputs": [],
      "source": [
        "example_walks = [[0, 2, 4, 6, 8], [1, 3, 5, 7, 9], [2, 4, 6, 8]]\n",
        "assert (\n",
        "    generate_walklets(example_walks, 2) == \n",
        "    [[0, 4, 8], [2, 6], [4, 8], [1, 5, 9], [3, 7], [5, 9], [2, 6], [4, 8], [6]]\n",
        ")\n",
        "\n",
        "walklets = generate_walklets(walks, 2)\n",
        "assert len(walklets) == 1020\n",
        "assert len(walklets[1]) == 2"
      ]
    },
    {
      "cell_type": "markdown",
      "metadata": {
        "id": "OChd35zfxfTJ"
      },
      "source": [
        "To train embedding you need to know the set of nodes, sampled random walks without skips, size of the maximal desired skip (window_size) and dimension of embedding for the one skip.\n",
        "\n",
        "The function `train_embedding` should work as follows:\n",
        "For each skip_length between `1` and `window_size + 1`\n",
        "1. Create dataset with splits\n",
        "2. Train Word2Vec model on the created walklets with given vector_size, min_count=1, epochs=10 and window=1.\n",
        "3. Save embeddings for the given step\n",
        "\n",
        "After all iterations you need to take a mean of received embeddings for a node from each step. Finally, we return np.array with embeddings ordered by the id of node, if node id has no embedding, then use `np.zeros(vector_size)`"
      ]
    },
    {
      "cell_type": "code",
      "execution_count": 46,
      "metadata": {
        "deletable": false,
        "nbgrader": {
          "cell_type": "code",
          "checksum": "71fffccd20964f4663aa4d08567059c3",
          "grade": false,
          "grade_id": "cell-2dd995c4351416bf",
          "locked": false,
          "schema_version": 3,
          "solution": true,
          "task": false
        },
        "id": "haJJOl7lxfTJ"
      },
      "outputs": [],
      "source": [
        "def train_embedding(nodes, walks, window_size, vector_size):\n",
        "    # YOUR CODE HERE\n",
        "    d = {}\n",
        "    for node in nodes:\n",
        "        d[node] = []\n",
        "    for sl in range(1, window_size + 1):\n",
        "        walkl = generate_walklets(walks, sl)\n",
        "        model = Word2Vec(vector_size=vector_size, window=1, min_count=1)\n",
        "        model.build_vocab(walkl)\n",
        "        model.train(walkl, total_examples=model.corpus_count, epochs=10)\n",
        "        kd_embeddings = model.wv\n",
        "    for node in nodes:\n",
        "        if node in kd_embeddings:\n",
        "            d[node].append(kd_embeddings[node])\n",
        "        else:\n",
        "            d[node].append(np.zeros(vector_size))\n",
        "    embeddings = []\n",
        "    for k in d.keys():\n",
        "        embedding = np.array(d[k]).mean(axis=0)\n",
        "        embeddings.append(embedding)\n",
        "    return np.array(embeddings)\n",
        "    # raise NotImplementedError()"
      ]
    },
    {
      "cell_type": "code",
      "execution_count": 47,
      "metadata": {
        "deletable": false,
        "editable": false,
        "nbgrader": {
          "cell_type": "code",
          "checksum": "302b7fb73d64e62624e2d87c1c39a275",
          "grade": true,
          "grade_id": "cell-caa5c52f4660af25",
          "locked": true,
          "points": 0.8,
          "schema_version": 3,
          "solution": false,
          "task": false
        },
        "id": "6KshtVSnxfTJ"
      },
      "outputs": [],
      "source": [
        "np.random.seed(0)\n",
        "G = nx.Graph(train_edges)\n",
        "nodes = np.arange(np.max(train_edges) + 1)\n",
        "walks = random_walks(G, n_walks=5, path_length=10)\n",
        "emb = train_embedding(nodes, walks, window_size=3, vector_size=8)\n",
        "assert emb.shape == (1005, 8)"
      ]
    },
    {
      "cell_type": "code",
      "execution_count": 48,
      "metadata": {
        "deletable": false,
        "editable": false,
        "nbgrader": {
          "cell_type": "code",
          "checksum": "2e8dc6e7dfe8f09ed4a7d9e5b707aa33",
          "grade": true,
          "grade_id": "cell-98cf8c96d4d4ad52",
          "locked": true,
          "points": 0.7999999999999998,
          "schema_version": 3,
          "solution": false,
          "task": false
        },
        "id": "4ulcC7QAxfTJ"
      },
      "outputs": [],
      "source": [
        "operators = {\n",
        "    \"average_operator\": average_operator,\n",
        "    \"hadamard_operator\": hadamard_operator,\n",
        "    \"weighted_l1_operator\": weighted_l1_operator,\n",
        "    \"weighted_l2_operator\": weighted_l2_operator,\n",
        "    \"neighbor_weighted_l1_operator\": neighbor_weighted_l1_operator,\n",
        "    \"neighbor_weighted_l2_operator\": neighbor_weighted_l2_operator\n",
        "}\n",
        "\n",
        "train_split = int(len(test_pairs) * 0.8)\n",
        "res = {}\n",
        "for name, operator in operators.items():\n",
        "    lr = LogisticRegression()\n",
        "    edge_emb = operator(G, emb, test_pairs)\n",
        "    lr.fit(edge_emb[:train_split], y_true[:train_split])\n",
        "    preds = lr.predict_proba(edge_emb[train_split:])[:, 1]\n",
        "    fpr, tpr, _ = roc_curve(y_true[train_split:], preds)\n",
        "    res[name] = {\n",
        "        'fpr': fpr,\n",
        "        'tpr': tpr\n",
        "    }\n",
        "assert auc(fpr, tpr) > 0.75"
      ]
    },
    {
      "cell_type": "code",
      "execution_count": 49,
      "metadata": {
        "id": "_HoJacZ8xfTJ",
        "colab": {
          "base_uri": "https://localhost:8080/",
          "height": 404
        },
        "outputId": "67284b40-12c7-4038-92da-88b20e832b74"
      },
      "outputs": [
        {
          "output_type": "display_data",
          "data": {
            "image/png": "[encoded data removed]",
            "text/plain": [
              "<Figure size 720x432 with 1 Axes>"
            ]
          },
          "metadata": {
            "needs_background": "light"
          }
        }
      ],
      "source": [
        "plt.figure(figsize=(10, 6))\n",
        "for label, v in res.items():\n",
        "    fpr, tpr = v['fpr'], v['tpr']\n",
        "    plt.plot(fpr, tpr, lw=2, \n",
        "             label='{}, AUC={:.4f}'.format(label, auc(fpr, tpr)))\n",
        "plt.plot([0, 1], [0, 1], lw=2, linestyle='--', label='Random, AUC=0.5')\n",
        "plt.xlabel('FPR')\n",
        "plt.ylabel('TPR')\n",
        "plt.title('ROC AUC')\n",
        "plt.legend()\n",
        "plt.show()"
      ]
    },
    {
      "cell_type": "code",
      "execution_count": 49,
      "metadata": {
        "id": "F6FIqb3pxfTK"
      },
      "outputs": [],
      "source": [
        ""
      ]
    }
  ],
  "metadata": {
    "kernelspec": {
      "display_name": "Python 3",
      "language": "python",
      "name": "python3"
    },
    "language_info": {
      "codemirror_mode": {
        "name": "ipython",
        "version": 3
      },
      "file_extension": ".py",
      "mimetype": "text/x-python",
      "name": "python",
      "nbconvert_exporter": "python",
      "pygments_lexer": "ipython3",
      "version": "3.7.4"
    },
    "colab": {
      "name": "assignment_8",
      "provenance": [],
      "collapsed_sections": [],
      "toc_visible": true
    }
  },
  "nbformat": 4,
  "nbformat_minor": 0
}