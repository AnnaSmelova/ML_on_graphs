{
  "cells": [
    {
      "cell_type": "markdown",
      "metadata": {
        "id": "B8zJ1ajw9CO_"
      },
      "source": [
        "# Assignment — Node embedding"
      ]
    },
    {
      "cell_type": "code",
      "execution_count": 1,
      "metadata": {
        "id": "hmpWzV0v9CPA"
      },
      "outputs": [],
      "source": [
        "import numpy as np\n",
        "import requests\n",
        "from sklearn.metrics import f1_score\n",
        "from sklearn.decomposition import TruncatedSVD, PCA\n",
        "from time import time\n",
        "from tqdm.notebook import tqdm\n",
        "from sklearn.model_selection import train_test_split\n",
        "import pandas as pd\n",
        "from sklearn.ensemble import GradientBoostingClassifier\n",
        "import networkx as nx\n",
        "import matplotlib.pyplot as plt"
      ]
    },
    {
      "cell_type": "markdown",
      "metadata": {
        "id": "8K9AfG3H9CPB"
      },
      "source": [
        "### Cora dataset EDA"
      ]
    },
    {
      "cell_type": "markdown",
      "metadata": {
        "id": "hLuuONLB9CPC"
      },
      "source": [
        "The Cora dataset consists of 2708 scientific publications classified into one of seven classes. The citation network consists of 5429 links. Let us take a closer look at this dataset."
      ]
    },
    {
      "cell_type": "code",
      "execution_count": 2,
      "metadata": {
        "id": "KHEgez3V9CPC"
      },
      "outputs": [],
      "source": [
        "url = 'https://raw.githubusercontent.com/netspractice/network-science/main/datasets/cora_cites.txt'\n",
        "open('cora_cites.txt', 'wb').write(requests.get(url).content)\n",
        "\n",
        "url = 'https://raw.githubusercontent.com/netspractice/network-science/main/datasets/cora_content.txt'\n",
        "open('cora_content.txt', 'wb').write(requests.get(url).content);"
      ]
    },
    {
      "cell_type": "markdown",
      "metadata": {
        "id": "wTKFERJQ9CPC"
      },
      "source": [
        "Number of nodes in the graph"
      ]
    },
    {
      "cell_type": "code",
      "execution_count": 3,
      "metadata": {
        "id": "wVXfmeiL9CPC",
        "colab": {
          "base_uri": "https://localhost:8080/"
        },
        "outputId": "5c5053f5-5b4a-4a37-aa61-c2ee0d11e4b2"
      },
      "outputs": [
        {
          "output_type": "execute_result",
          "data": {
            "text/plain": [
              "2708"
            ]
          },
          "metadata": {},
          "execution_count": 3
        }
      ],
      "source": [
        "cora = nx.read_edgelist('cora_cites.txt')\n",
        "len(cora)"
      ]
    },
    {
      "cell_type": "markdown",
      "metadata": {
        "id": "Y18Oqu_49CPD"
      },
      "source": [
        "Number of nodes in a gigantic connected component (GCC)"
      ]
    },
    {
      "cell_type": "code",
      "execution_count": 4,
      "metadata": {
        "id": "hVNHwdaT9CPD",
        "colab": {
          "base_uri": "https://localhost:8080/"
        },
        "outputId": "25e1484c-7f5c-469a-a763-65fdf1fb5125"
      },
      "outputs": [
        {
          "output_type": "execute_result",
          "data": {
            "text/plain": [
              "2485"
            ]
          },
          "metadata": {},
          "execution_count": 4
        }
      ],
      "source": [
        "gcc_nodes = sorted(list(nx.connected_components(cora)), \n",
        "                   key=lambda x: len(x))[-1]\n",
        "gcc_cora = cora.subgraph(gcc_nodes).copy()\n",
        "len(gcc_cora)"
      ]
    },
    {
      "cell_type": "markdown",
      "metadata": {
        "id": "TzyMQ9P29CPE"
      },
      "source": [
        "Nodes content"
      ]
    },
    {
      "cell_type": "code",
      "execution_count": 5,
      "metadata": {
        "id": "YQjWwzBF9CPE",
        "colab": {
          "base_uri": "https://localhost:8080/",
          "height": 237
        },
        "outputId": "8d91edfb-2b13-49fe-de51-2e96597dbb73"
      },
      "outputs": [
        {
          "output_type": "execute_result",
          "data": {
            "text/plain": [
              "         1   2   3   4   5   6   7   8   9   10  11  12  13  14  15  16  17  \\\n",
              "node                                                                          \n",
              "31336     0   0   0   0   0   0   0   0   0   0   0   0   0   0   0   0   0   \n",
              "1061127   0   0   0   0   0   0   0   0   0   0   0   0   1   0   0   0   0   \n",
              "1106406   0   0   0   0   0   0   0   0   0   0   0   0   0   0   0   0   0   \n",
              "13195     0   0   0   0   0   0   0   0   0   0   0   0   0   0   0   0   0   \n",
              "37879     0   0   0   0   0   0   0   0   0   0   0   0   0   0   0   0   0   \n",
              "\n",
              "         18  19  20  \n",
              "node                 \n",
              "31336     0   0   0  \n",
              "1061127   0   0   0  \n",
              "1106406   0   0   0  \n",
              "13195     0   0   0  \n",
              "37879     0   0   0  "
            ],
            "text/html": [
              "\n",
              "  <div id=\"df-a2de058a-dff7-4fc6-beaf-dca80580de65\">\n",
              "    <div class=\"colab-df-container\">\n",
              "      <div>\n",
              "<style scoped>\n",
              "    .dataframe tbody tr th:only-of-type {\n",
              "        vertical-align: middle;\n",
              "    }\n",
              "\n",
              "    .dataframe tbody tr th {\n",
              "        vertical-align: top;\n",
              "    }\n",
              "\n",
              "    .dataframe thead th {\n",
              "        text-align: right;\n",
              "    }\n",
              "</style>\n",
              "<table border=\"1\" class=\"dataframe\">\n",
              "  <thead>\n",
              "    <tr style=\"text-align: right;\">\n",
              "      <th></th>\n",
              "      <th>1</th>\n",
              "      <th>2</th>\n",
              "      <th>3</th>\n",
              "      <th>4</th>\n",
              "      <th>5</th>\n",
              "      <th>6</th>\n",
              "      <th>7</th>\n",
              "      <th>8</th>\n",
              "      <th>9</th>\n",
              "      <th>10</th>\n",
              "      <th>11</th>\n",
              "      <th>12</th>\n",
              "      <th>13</th>\n",
              "      <th>14</th>\n",
              "      <th>15</th>\n",
              "      <th>16</th>\n",
              "      <th>17</th>\n",
              "      <th>18</th>\n",
              "      <th>19</th>\n",
              "      <th>20</th>\n",
              "    </tr>\n",
              "    <tr>\n",
              "      <th>node</th>\n",
              "      <th></th>\n",
              "      <th></th>\n",
              "      <th></th>\n",
              "      <th></th>\n",
              "      <th></th>\n",
              "      <th></th>\n",
              "      <th></th>\n",
              "      <th></th>\n",
              "      <th></th>\n",
              "      <th></th>\n",
              "      <th></th>\n",
              "      <th></th>\n",
              "      <th></th>\n",
              "      <th></th>\n",
              "      <th></th>\n",
              "      <th></th>\n",
              "      <th></th>\n",
              "      <th></th>\n",
              "      <th></th>\n",
              "      <th></th>\n",
              "    </tr>\n",
              "  </thead>\n",
              "  <tbody>\n",
              "    <tr>\n",
              "      <th>31336</th>\n",
              "      <td>0</td>\n",
              "      <td>0</td>\n",
              "      <td>0</td>\n",
              "      <td>0</td>\n",
              "      <td>0</td>\n",
              "      <td>0</td>\n",
              "      <td>0</td>\n",
              "      <td>0</td>\n",
              "      <td>0</td>\n",
              "      <td>0</td>\n",
              "      <td>0</td>\n",
              "      <td>0</td>\n",
              "      <td>0</td>\n",
              "      <td>0</td>\n",
              "      <td>0</td>\n",
              "      <td>0</td>\n",
              "      <td>0</td>\n",
              "      <td>0</td>\n",
              "      <td>0</td>\n",
              "      <td>0</td>\n",
              "    </tr>\n",
              "    <tr>\n",
              "      <th>1061127</th>\n",
              "      <td>0</td>\n",
              "      <td>0</td>\n",
              "      <td>0</td>\n",
              "      <td>0</td>\n",
              "      <td>0</td>\n",
              "      <td>0</td>\n",
              "      <td>0</td>\n",
              "      <td>0</td>\n",
              "      <td>0</td>\n",
              "      <td>0</td>\n",
              "      <td>0</td>\n",
              "      <td>0</td>\n",
              "      <td>1</td>\n",
              "      <td>0</td>\n",
              "      <td>0</td>\n",
              "      <td>0</td>\n",
              "      <td>0</td>\n",
              "      <td>0</td>\n",
              "      <td>0</td>\n",
              "      <td>0</td>\n",
              "    </tr>\n",
              "    <tr>\n",
              "      <th>1106406</th>\n",
              "      <td>0</td>\n",
              "      <td>0</td>\n",
              "      <td>0</td>\n",
              "      <td>0</td>\n",
              "      <td>0</td>\n",
              "      <td>0</td>\n",
              "      <td>0</td>\n",
              "      <td>0</td>\n",
              "      <td>0</td>\n",
              "      <td>0</td>\n",
              "      <td>0</td>\n",
              "      <td>0</td>\n",
              "      <td>0</td>\n",
              "      <td>0</td>\n",
              "      <td>0</td>\n",
              "      <td>0</td>\n",
              "      <td>0</td>\n",
              "      <td>0</td>\n",
              "      <td>0</td>\n",
              "      <td>0</td>\n",
              "    </tr>\n",
              "    <tr>\n",
              "      <th>13195</th>\n",
              "      <td>0</td>\n",
              "      <td>0</td>\n",
              "      <td>0</td>\n",
              "      <td>0</td>\n",
              "      <td>0</td>\n",
              "      <td>0</td>\n",
              "      <td>0</td>\n",
              "      <td>0</td>\n",
              "      <td>0</td>\n",
              "      <td>0</td>\n",
              "      <td>0</td>\n",
              "      <td>0</td>\n",
              "      <td>0</td>\n",
              "      <td>0</td>\n",
              "      <td>0</td>\n",
              "      <td>0</td>\n",
              "      <td>0</td>\n",
              "      <td>0</td>\n",
              "      <td>0</td>\n",
              "      <td>0</td>\n",
              "    </tr>\n",
              "    <tr>\n",
              "      <th>37879</th>\n",
              "      <td>0</td>\n",
              "      <td>0</td>\n",
              "      <td>0</td>\n",
              "      <td>0</td>\n",
              "      <td>0</td>\n",
              "      <td>0</td>\n",
              "      <td>0</td>\n",
              "      <td>0</td>\n",
              "      <td>0</td>\n",
              "      <td>0</td>\n",
              "      <td>0</td>\n",
              "      <td>0</td>\n",
              "      <td>0</td>\n",
              "      <td>0</td>\n",
              "      <td>0</td>\n",
              "      <td>0</td>\n",
              "      <td>0</td>\n",
              "      <td>0</td>\n",
              "      <td>0</td>\n",
              "      <td>0</td>\n",
              "    </tr>\n",
              "  </tbody>\n",
              "</table>\n",
              "</div>\n",
              "      <button class=\"colab-df-convert\" onclick=\"convertToInteractive('df-a2de058a-dff7-4fc6-beaf-dca80580de65')\"\n",
              "              title=\"Convert this dataframe to an interactive table.\"\n",
              "              style=\"display:none;\">\n",
              "        \n",
              "  <svg xmlns=\"http://www.w3.org/2000/svg\" height=\"24px\"viewBox=\"0 0 24 24\"\n",
              "       width=\"24px\">\n",
              "    <path d=\"M0 0h24v24H0V0z\" fill=\"none\"/>\n",
              "    <path d=\"M18.56 5.44l.94 2.06.94-2.06 2.06-.94-2.06-.94-.94-2.06-.94 2.06-2.06.94zm-11 1L8.5 8.5l.94-2.06 2.06-.94-2.06-.94L8.5 2.5l-.94 2.06-2.06.94zm10 10l.94 2.06.94-2.06 2.06-.94-2.06-.94-.94-2.06-.94 2.06-2.06.94z\"/><path d=\"M17.41 7.96l-1.37-1.37c-.4-.4-.92-.59-1.43-.59-.52 0-1.04.2-1.43.59L10.3 9.45l-7.72 7.72c-.78.78-.78 2.05 0 2.83L4 21.41c.39.39.9.59 1.41.59.51 0 1.02-.2 1.41-.59l7.78-7.78 2.81-2.81c.8-.78.8-2.07 0-2.86zM5.41 20L4 18.59l7.72-7.72 1.47 1.35L5.41 20z\"/>\n",
              "  </svg>\n",
              "      </button>\n",
              "      \n",
              "  <style>\n",
              "    .colab-df-container {\n",
              "      display:flex;\n",
              "      flex-wrap:wrap;\n",
              "      gap: 12px;\n",
              "    }\n",
              "\n",
              "    .colab-df-convert {\n",
              "      background-color: #E8F0FE;\n",
              "      border: none;\n",
              "      border-radius: 50%;\n",
              "      cursor: pointer;\n",
              "      display: none;\n",
              "      fill: #1967D2;\n",
              "      height: 32px;\n",
              "      padding: 0 0 0 0;\n",
              "      width: 32px;\n",
              "    }\n",
              "\n",
              "    .colab-df-convert:hover {\n",
              "      background-color: #E2EBFA;\n",
              "      box-shadow: 0px 1px 2px rgba(60, 64, 67, 0.3), 0px 1px 3px 1px rgba(60, 64, 67, 0.15);\n",
              "      fill: #174EA6;\n",
              "    }\n",
              "\n",
              "    [theme=dark] .colab-df-convert {\n",
              "      background-color: #3B4455;\n",
              "      fill: #D2E3FC;\n",
              "    }\n",
              "\n",
              "    [theme=dark] .colab-df-convert:hover {\n",
              "      background-color: #434B5C;\n",
              "      box-shadow: 0px 1px 3px 1px rgba(0, 0, 0, 0.15);\n",
              "      filter: drop-shadow(0px 1px 2px rgba(0, 0, 0, 0.3));\n",
              "      fill: #FFFFFF;\n",
              "    }\n",
              "  </style>\n",
              "\n",
              "      <script>\n",
              "        const buttonEl =\n",
              "          document.querySelector('#df-a2de058a-dff7-4fc6-beaf-dca80580de65 button.colab-df-convert');\n",
              "        buttonEl.style.display =\n",
              "          google.colab.kernel.accessAllowed ? 'block' : 'none';\n",
              "\n",
              "        async function convertToInteractive(key) {\n",
              "          const element = document.querySelector('#df-a2de058a-dff7-4fc6-beaf-dca80580de65');\n",
              "          const dataTable =\n",
              "            await google.colab.kernel.invokeFunction('convertToInteractive',\n",
              "                                                     [key], {});\n",
              "          if (!dataTable) return;\n",
              "\n",
              "          const docLinkHtml = 'Like what you see? Visit the ' +\n",
              "            '<a target=\"_blank\" href=https://colab.research.google.com/notebooks/data_table.ipynb>data table notebook</a>'\n",
              "            + ' to learn more about interactive tables.';\n",
              "          element.innerHTML = '';\n",
              "          dataTable['output_type'] = 'display_data';\n",
              "          await google.colab.output.renderOutput(dataTable, element);\n",
              "          const docLink = document.createElement('div');\n",
              "          docLink.innerHTML = docLinkHtml;\n",
              "          element.appendChild(docLink);\n",
              "        }\n",
              "      </script>\n",
              "    </div>\n",
              "  </div>\n",
              "  "
            ]
          },
          "metadata": {},
          "execution_count": 5
        }
      ],
      "source": [
        "cora_content = pd.read_csv('cora_content.txt', sep='\t', \n",
        "                           header=None, index_col=0)\n",
        "cora_content.index = cora_content.index.astype('str')\n",
        "cora_content.index.name = 'node'\n",
        "cora_content.iloc[:5, :20]"
      ]
    },
    {
      "cell_type": "markdown",
      "metadata": {
        "id": "j7bn6jcw9CPE"
      },
      "source": [
        "Each publication in the dataset is described by a 0/1-valued word vector indicating the absence/presence of the corresponding word from the dictionary. The dictionary consists of 1433 unique words. In this assignment, we will only work with categories and will not touch any information about words.\n",
        "\n",
        "Examples of node categories"
      ]
    },
    {
      "cell_type": "code",
      "execution_count": 6,
      "metadata": {
        "id": "5KKAzyvt9CPE",
        "colab": {
          "base_uri": "https://localhost:8080/",
          "height": 237
        },
        "outputId": "72fe8e4c-c24b-4826-ecd0-3c0a9c2e6020"
      },
      "outputs": [
        {
          "output_type": "execute_result",
          "data": {
            "text/plain": [
              "                 category_name\n",
              "node                          \n",
              "593022      Genetic_Algorithms\n",
              "430329         Neural_Networks\n",
              "1127566  Probabilistic_Methods\n",
              "1125393             Case_Based\n",
              "1129570     Genetic_Algorithms"
            ],
            "text/html": [
              "\n",
              "  <div id=\"df-b7473ca0-99c6-4c74-9cd2-9e4e302b0f54\">\n",
              "    <div class=\"colab-df-container\">\n",
              "      <div>\n",
              "<style scoped>\n",
              "    .dataframe tbody tr th:only-of-type {\n",
              "        vertical-align: middle;\n",
              "    }\n",
              "\n",
              "    .dataframe tbody tr th {\n",
              "        vertical-align: top;\n",
              "    }\n",
              "\n",
              "    .dataframe thead th {\n",
              "        text-align: right;\n",
              "    }\n",
              "</style>\n",
              "<table border=\"1\" class=\"dataframe\">\n",
              "  <thead>\n",
              "    <tr style=\"text-align: right;\">\n",
              "      <th></th>\n",
              "      <th>category_name</th>\n",
              "    </tr>\n",
              "    <tr>\n",
              "      <th>node</th>\n",
              "      <th></th>\n",
              "    </tr>\n",
              "  </thead>\n",
              "  <tbody>\n",
              "    <tr>\n",
              "      <th>593022</th>\n",
              "      <td>Genetic_Algorithms</td>\n",
              "    </tr>\n",
              "    <tr>\n",
              "      <th>430329</th>\n",
              "      <td>Neural_Networks</td>\n",
              "    </tr>\n",
              "    <tr>\n",
              "      <th>1127566</th>\n",
              "      <td>Probabilistic_Methods</td>\n",
              "    </tr>\n",
              "    <tr>\n",
              "      <th>1125393</th>\n",
              "      <td>Case_Based</td>\n",
              "    </tr>\n",
              "    <tr>\n",
              "      <th>1129570</th>\n",
              "      <td>Genetic_Algorithms</td>\n",
              "    </tr>\n",
              "  </tbody>\n",
              "</table>\n",
              "</div>\n",
              "      <button class=\"colab-df-convert\" onclick=\"convertToInteractive('df-b7473ca0-99c6-4c74-9cd2-9e4e302b0f54')\"\n",
              "              title=\"Convert this dataframe to an interactive table.\"\n",
              "              style=\"display:none;\">\n",
              "        \n",
              "  <svg xmlns=\"http://www.w3.org/2000/svg\" height=\"24px\"viewBox=\"0 0 24 24\"\n",
              "       width=\"24px\">\n",
              "    <path d=\"M0 0h24v24H0V0z\" fill=\"none\"/>\n",
              "    <path d=\"M18.56 5.44l.94 2.06.94-2.06 2.06-.94-2.06-.94-.94-2.06-.94 2.06-2.06.94zm-11 1L8.5 8.5l.94-2.06 2.06-.94-2.06-.94L8.5 2.5l-.94 2.06-2.06.94zm10 10l.94 2.06.94-2.06 2.06-.94-2.06-.94-.94-2.06-.94 2.06-2.06.94z\"/><path d=\"M17.41 7.96l-1.37-1.37c-.4-.4-.92-.59-1.43-.59-.52 0-1.04.2-1.43.59L10.3 9.45l-7.72 7.72c-.78.78-.78 2.05 0 2.83L4 21.41c.39.39.9.59 1.41.59.51 0 1.02-.2 1.41-.59l7.78-7.78 2.81-2.81c.8-.78.8-2.07 0-2.86zM5.41 20L4 18.59l7.72-7.72 1.47 1.35L5.41 20z\"/>\n",
              "  </svg>\n",
              "      </button>\n",
              "      \n",
              "  <style>\n",
              "    .colab-df-container {\n",
              "      display:flex;\n",
              "      flex-wrap:wrap;\n",
              "      gap: 12px;\n",
              "    }\n",
              "\n",
              "    .colab-df-convert {\n",
              "      background-color: #E8F0FE;\n",
              "      border: none;\n",
              "      border-radius: 50%;\n",
              "      cursor: pointer;\n",
              "      display: none;\n",
              "      fill: #1967D2;\n",
              "      height: 32px;\n",
              "      padding: 0 0 0 0;\n",
              "      width: 32px;\n",
              "    }\n",
              "\n",
              "    .colab-df-convert:hover {\n",
              "      background-color: #E2EBFA;\n",
              "      box-shadow: 0px 1px 2px rgba(60, 64, 67, 0.3), 0px 1px 3px 1px rgba(60, 64, 67, 0.15);\n",
              "      fill: #174EA6;\n",
              "    }\n",
              "\n",
              "    [theme=dark] .colab-df-convert {\n",
              "      background-color: #3B4455;\n",
              "      fill: #D2E3FC;\n",
              "    }\n",
              "\n",
              "    [theme=dark] .colab-df-convert:hover {\n",
              "      background-color: #434B5C;\n",
              "      box-shadow: 0px 1px 3px 1px rgba(0, 0, 0, 0.15);\n",
              "      filter: drop-shadow(0px 1px 2px rgba(0, 0, 0, 0.3));\n",
              "      fill: #FFFFFF;\n",
              "    }\n",
              "  </style>\n",
              "\n",
              "      <script>\n",
              "        const buttonEl =\n",
              "          document.querySelector('#df-b7473ca0-99c6-4c74-9cd2-9e4e302b0f54 button.colab-df-convert');\n",
              "        buttonEl.style.display =\n",
              "          google.colab.kernel.accessAllowed ? 'block' : 'none';\n",
              "\n",
              "        async function convertToInteractive(key) {\n",
              "          const element = document.querySelector('#df-b7473ca0-99c6-4c74-9cd2-9e4e302b0f54');\n",
              "          const dataTable =\n",
              "            await google.colab.kernel.invokeFunction('convertToInteractive',\n",
              "                                                     [key], {});\n",
              "          if (!dataTable) return;\n",
              "\n",
              "          const docLinkHtml = 'Like what you see? Visit the ' +\n",
              "            '<a target=\"_blank\" href=https://colab.research.google.com/notebooks/data_table.ipynb>data table notebook</a>'\n",
              "            + ' to learn more about interactive tables.';\n",
              "          element.innerHTML = '';\n",
              "          dataTable['output_type'] = 'display_data';\n",
              "          await google.colab.output.renderOutput(dataTable, element);\n",
              "          const docLink = document.createElement('div');\n",
              "          docLink.innerHTML = docLinkHtml;\n",
              "          element.appendChild(docLink);\n",
              "        }\n",
              "      </script>\n",
              "    </div>\n",
              "  </div>\n",
              "  "
            ]
          },
          "metadata": {},
          "execution_count": 6
        }
      ],
      "source": [
        "category = cora_content.loc[gcc_nodes, [1434]]\n",
        "category = category.rename(columns={1434: 'category_name'})\n",
        "category.head()"
      ]
    },
    {
      "cell_type": "markdown",
      "metadata": {
        "id": "VRWj5qnm9CPF"
      },
      "source": [
        "Category distribution"
      ]
    },
    {
      "cell_type": "code",
      "execution_count": 7,
      "metadata": {
        "id": "1gOQJPO-9CPF",
        "colab": {
          "base_uri": "https://localhost:8080/",
          "height": 265
        },
        "outputId": "959a3426-3655-44b2-99d6-9fda6b6dd949"
      },
      "outputs": [
        {
          "output_type": "display_data",
          "data": {
            "text/plain": [
              "<Figure size 432x288 with 1 Axes>"
            ],
            "image/png": "[encoded data removed]"
          },
          "metadata": {
            "needs_background": "light"
          }
        }
      ],
      "source": [
        "plt.barh(*np.unique(category, return_counts=True));"
      ]
    },
    {
      "cell_type": "markdown",
      "metadata": {
        "id": "SqM_mh4O9CPF"
      },
      "source": [
        "Rename categories to integer numbers (ids)"
      ]
    },
    {
      "cell_type": "code",
      "execution_count": 8,
      "metadata": {
        "id": "9WAV86Tw9CPF",
        "colab": {
          "base_uri": "https://localhost:8080/",
          "height": 237
        },
        "outputId": "d3b3a5b8-c45a-4cff-8f3e-3a7031a6ec0d"
      },
      "outputs": [
        {
          "output_type": "execute_result",
          "data": {
            "text/plain": [
              "                 category_name  category_id\n",
              "node                                       \n",
              "593022      Genetic_Algorithms            1\n",
              "430329         Neural_Networks            2\n",
              "1127566  Probabilistic_Methods            3\n",
              "1125393             Case_Based            0\n",
              "1129570     Genetic_Algorithms            1"
            ],
            "text/html": [
              "\n",
              "  <div id=\"df-11a97aab-4e9f-4529-8ada-e6220f700313\">\n",
              "    <div class=\"colab-df-container\">\n",
              "      <div>\n",
              "<style scoped>\n",
              "    .dataframe tbody tr th:only-of-type {\n",
              "        vertical-align: middle;\n",
              "    }\n",
              "\n",
              "    .dataframe tbody tr th {\n",
              "        vertical-align: top;\n",
              "    }\n",
              "\n",
              "    .dataframe thead th {\n",
              "        text-align: right;\n",
              "    }\n",
              "</style>\n",
              "<table border=\"1\" class=\"dataframe\">\n",
              "  <thead>\n",
              "    <tr style=\"text-align: right;\">\n",
              "      <th></th>\n",
              "      <th>category_name</th>\n",
              "      <th>category_id</th>\n",
              "    </tr>\n",
              "    <tr>\n",
              "      <th>node</th>\n",
              "      <th></th>\n",
              "      <th></th>\n",
              "    </tr>\n",
              "  </thead>\n",
              "  <tbody>\n",
              "    <tr>\n",
              "      <th>593022</th>\n",
              "      <td>Genetic_Algorithms</td>\n",
              "      <td>1</td>\n",
              "    </tr>\n",
              "    <tr>\n",
              "      <th>430329</th>\n",
              "      <td>Neural_Networks</td>\n",
              "      <td>2</td>\n",
              "    </tr>\n",
              "    <tr>\n",
              "      <th>1127566</th>\n",
              "      <td>Probabilistic_Methods</td>\n",
              "      <td>3</td>\n",
              "    </tr>\n",
              "    <tr>\n",
              "      <th>1125393</th>\n",
              "      <td>Case_Based</td>\n",
              "      <td>0</td>\n",
              "    </tr>\n",
              "    <tr>\n",
              "      <th>1129570</th>\n",
              "      <td>Genetic_Algorithms</td>\n",
              "      <td>1</td>\n",
              "    </tr>\n",
              "  </tbody>\n",
              "</table>\n",
              "</div>\n",
              "      <button class=\"colab-df-convert\" onclick=\"convertToInteractive('df-11a97aab-4e9f-4529-8ada-e6220f700313')\"\n",
              "              title=\"Convert this dataframe to an interactive table.\"\n",
              "              style=\"display:none;\">\n",
              "        \n",
              "  <svg xmlns=\"http://www.w3.org/2000/svg\" height=\"24px\"viewBox=\"0 0 24 24\"\n",
              "       width=\"24px\">\n",
              "    <path d=\"M0 0h24v24H0V0z\" fill=\"none\"/>\n",
              "    <path d=\"M18.56 5.44l.94 2.06.94-2.06 2.06-.94-2.06-.94-.94-2.06-.94 2.06-2.06.94zm-11 1L8.5 8.5l.94-2.06 2.06-.94-2.06-.94L8.5 2.5l-.94 2.06-2.06.94zm10 10l.94 2.06.94-2.06 2.06-.94-2.06-.94-.94-2.06-.94 2.06-2.06.94z\"/><path d=\"M17.41 7.96l-1.37-1.37c-.4-.4-.92-.59-1.43-.59-.52 0-1.04.2-1.43.59L10.3 9.45l-7.72 7.72c-.78.78-.78 2.05 0 2.83L4 21.41c.39.39.9.59 1.41.59.51 0 1.02-.2 1.41-.59l7.78-7.78 2.81-2.81c.8-.78.8-2.07 0-2.86zM5.41 20L4 18.59l7.72-7.72 1.47 1.35L5.41 20z\"/>\n",
              "  </svg>\n",
              "      </button>\n",
              "      \n",
              "  <style>\n",
              "    .colab-df-container {\n",
              "      display:flex;\n",
              "      flex-wrap:wrap;\n",
              "      gap: 12px;\n",
              "    }\n",
              "\n",
              "    .colab-df-convert {\n",
              "      background-color: #E8F0FE;\n",
              "      border: none;\n",
              "      border-radius: 50%;\n",
              "      cursor: pointer;\n",
              "      display: none;\n",
              "      fill: #1967D2;\n",
              "      height: 32px;\n",
              "      padding: 0 0 0 0;\n",
              "      width: 32px;\n",
              "    }\n",
              "\n",
              "    .colab-df-convert:hover {\n",
              "      background-color: #E2EBFA;\n",
              "      box-shadow: 0px 1px 2px rgba(60, 64, 67, 0.3), 0px 1px 3px 1px rgba(60, 64, 67, 0.15);\n",
              "      fill: #174EA6;\n",
              "    }\n",
              "\n",
              "    [theme=dark] .colab-df-convert {\n",
              "      background-color: #3B4455;\n",
              "      fill: #D2E3FC;\n",
              "    }\n",
              "\n",
              "    [theme=dark] .colab-df-convert:hover {\n",
              "      background-color: #434B5C;\n",
              "      box-shadow: 0px 1px 3px 1px rgba(0, 0, 0, 0.15);\n",
              "      filter: drop-shadow(0px 1px 2px rgba(0, 0, 0, 0.3));\n",
              "      fill: #FFFFFF;\n",
              "    }\n",
              "  </style>\n",
              "\n",
              "      <script>\n",
              "        const buttonEl =\n",
              "          document.querySelector('#df-11a97aab-4e9f-4529-8ada-e6220f700313 button.colab-df-convert');\n",
              "        buttonEl.style.display =\n",
              "          google.colab.kernel.accessAllowed ? 'block' : 'none';\n",
              "\n",
              "        async function convertToInteractive(key) {\n",
              "          const element = document.querySelector('#df-11a97aab-4e9f-4529-8ada-e6220f700313');\n",
              "          const dataTable =\n",
              "            await google.colab.kernel.invokeFunction('convertToInteractive',\n",
              "                                                     [key], {});\n",
              "          if (!dataTable) return;\n",
              "\n",
              "          const docLinkHtml = 'Like what you see? Visit the ' +\n",
              "            '<a target=\"_blank\" href=https://colab.research.google.com/notebooks/data_table.ipynb>data table notebook</a>'\n",
              "            + ' to learn more about interactive tables.';\n",
              "          element.innerHTML = '';\n",
              "          dataTable['output_type'] = 'display_data';\n",
              "          await google.colab.output.renderOutput(dataTable, element);\n",
              "          const docLink = document.createElement('div');\n",
              "          docLink.innerHTML = docLinkHtml;\n",
              "          element.appendChild(docLink);\n",
              "        }\n",
              "      </script>\n",
              "    </div>\n",
              "  </div>\n",
              "  "
            ]
          },
          "metadata": {},
          "execution_count": 8
        }
      ],
      "source": [
        "category['category_id'] = np.unique(category.category_name, \n",
        "                                    return_inverse = True)[1]\n",
        "category.head()"
      ]
    },
    {
      "cell_type": "markdown",
      "metadata": {
        "id": "ara8vYzJ9CPG"
      },
      "source": [
        "Assortativity coefficient"
      ]
    },
    {
      "cell_type": "code",
      "execution_count": 9,
      "metadata": {
        "id": "ZmKnMJwZ9CPG",
        "colab": {
          "base_uri": "https://localhost:8080/"
        },
        "outputId": "41189b0c-aa1f-42fb-e563-f37adaf656d2"
      },
      "outputs": [
        {
          "output_type": "execute_result",
          "data": {
            "text/plain": [
              "0.76"
            ]
          },
          "metadata": {},
          "execution_count": 9
        }
      ],
      "source": [
        "nx.set_node_attributes(gcc_cora, category.category_id.to_dict(), 'category')\n",
        "gcc_cora = nx.convert_node_labels_to_integers(gcc_cora)\n",
        "round(nx.attribute_assortativity_coefficient(gcc_cora, 'category'), 2)"
      ]
    },
    {
      "cell_type": "markdown",
      "metadata": {
        "id": "ShUruWMC9CPG"
      },
      "source": [
        "### Task 1. Node embedding visualization (0 points)"
      ]
    },
    {
      "cell_type": "code",
      "execution_count": 10,
      "metadata": {
        "id": "BKYt6cfq9CPG",
        "colab": {
          "base_uri": "https://localhost:8080/"
        },
        "outputId": "b59e7947-98af-4ed1-ac17-7377761e1880"
      },
      "outputs": [
        {
          "output_type": "stream",
          "name": "stdout",
          "text": [
            "Requirement already satisfied: gensim==4.0.0 in /usr/local/lib/python3.7/dist-packages (4.0.0)\n",
            "Requirement already satisfied: scipy>=0.18.1 in /usr/local/lib/python3.7/dist-packages (from gensim==4.0.0) (1.4.1)\n",
            "Requirement already satisfied: smart-open>=1.8.1 in /usr/local/lib/python3.7/dist-packages (from gensim==4.0.0) (5.2.1)\n",
            "Requirement already satisfied: numpy>=1.11.3 in /usr/local/lib/python3.7/dist-packages (from gensim==4.0.0) (1.21.5)\n",
            "Requirement already satisfied: karateclub in /usr/local/lib/python3.7/dist-packages (1.2.3)\n",
            "Requirement already satisfied: pandas<=1.3.5 in /usr/local/lib/python3.7/dist-packages (from karateclub) (1.3.5)\n",
            "Requirement already satisfied: tqdm in /usr/local/lib/python3.7/dist-packages (from karateclub) (4.63.0)\n",
            "Requirement already satisfied: scipy in /usr/local/lib/python3.7/dist-packages (from karateclub) (1.4.1)\n",
            "Requirement already satisfied: numpy in /usr/local/lib/python3.7/dist-packages (from karateclub) (1.21.5)\n",
            "Requirement already satisfied: scikit-learn in /usr/local/lib/python3.7/dist-packages (from karateclub) (1.0.2)\n",
            "Requirement already satisfied: six in /usr/local/lib/python3.7/dist-packages (from karateclub) (1.15.0)\n",
            "Requirement already satisfied: pygsp in /usr/local/lib/python3.7/dist-packages (from karateclub) (0.5.1)\n",
            "Requirement already satisfied: decorator==4.4.2 in /usr/local/lib/python3.7/dist-packages (from karateclub) (4.4.2)\n",
            "Requirement already satisfied: python-Levenshtein in /usr/local/lib/python3.7/dist-packages (from karateclub) (0.12.2)\n",
            "Requirement already satisfied: python-louvain in /usr/local/lib/python3.7/dist-packages (from karateclub) (0.16)\n",
            "Requirement already satisfied: networkx in /usr/local/lib/python3.7/dist-packages (from karateclub) (2.6.3)\n",
            "Requirement already satisfied: gensim>=4.0.0 in /usr/local/lib/python3.7/dist-packages (from karateclub) (4.0.0)\n",
            "Requirement already satisfied: smart-open>=1.8.1 in /usr/local/lib/python3.7/dist-packages (from gensim>=4.0.0->karateclub) (5.2.1)\n",
            "Requirement already satisfied: pytz>=2017.3 in /usr/local/lib/python3.7/dist-packages (from pandas<=1.3.5->karateclub) (2018.9)\n",
            "Requirement already satisfied: python-dateutil>=2.7.3 in /usr/local/lib/python3.7/dist-packages (from pandas<=1.3.5->karateclub) (2.8.2)\n",
            "Requirement already satisfied: setuptools in /usr/local/lib/python3.7/dist-packages (from python-Levenshtein->karateclub) (57.4.0)\n",
            "Requirement already satisfied: joblib>=0.11 in /usr/local/lib/python3.7/dist-packages (from scikit-learn->karateclub) (1.1.0)\n",
            "Requirement already satisfied: threadpoolctl>=2.0.0 in /usr/local/lib/python3.7/dist-packages (from scikit-learn->karateclub) (3.1.0)\n"
          ]
        }
      ],
      "source": [
        "!pip install gensim==4.0.0\n",
        "!pip install karateclub"
      ]
    },
    {
      "cell_type": "code",
      "execution_count": 11,
      "metadata": {
        "id": "35r1YYn_9CPH"
      },
      "outputs": [],
      "source": [
        "from gensim.models.word2vec import Word2Vec\n",
        "from karateclub import DeepWalk, Walklets, LaplacianEigenmaps"
      ]
    },
    {
      "cell_type": "markdown",
      "metadata": {
        "id": "pq8Dj96N9CPH"
      },
      "source": [
        "Let us compare embedding algorithms that we saw in previous assignments: \n",
        "* Laplacian Eigenmaps\n",
        "* Truncated SVD of an adjacency matrix\n",
        "* DeepWalk\n",
        "* Walklets\n",
        "\n",
        "There is a usefull python package [*Karate Club*](https://github.com/benedekrozemberczki/karateclub) that contains implementations of these algorithms. Also we will use sklearn implementation of truncated SVD."
      ]
    },
    {
      "cell_type": "markdown",
      "metadata": {
        "id": "DEKC0baE9CPK"
      },
      "source": [
        "Embedding algorithms in Karate Club have a general interface\n",
        "\n",
        "```\n",
        "model.fit(graph)\n",
        "embedding = model.get_embedding()\n",
        "```\n",
        "\n",
        "However, the one inconvenient thing is that Walklets make a concatenation of Word2Vec embeddings to obtain final embeddings. In this way, the output dimensionality will be Word2Vec dimensionality multiplied by window size. A piece of source code:\n",
        "\n",
        "```python\n",
        "def get_embedding(self) -> np.array:\n",
        "    r\"\"\"Getting the node embedding.\n",
        "\n",
        "    Return types:\n",
        "        * **embedding** *(Numpy array)* - The embedding of nodes.\n",
        "    \"\"\"\n",
        "    return np.concatenate(self._embedding, axis=1)\n",
        "```\n",
        "\n",
        "Sometimes, it is usefull to have deep representation of nodes, but  we want to compare embeddings with the same dimensionality, so let us define our own class `MeanWalklets` that inherits `Walklets` and returns average embeddings in the `get_embedding` method."
      ]
    },
    {
      "cell_type": "code",
      "execution_count": 12,
      "metadata": {
        "deletable": false,
        "nbgrader": {
          "cell_type": "code",
          "checksum": "c5393ffb3b8e11deee148cd111b3bf9e",
          "grade": false,
          "grade_id": "cell-1be4879cc8190e43",
          "locked": false,
          "schema_version": 3,
          "solution": true,
          "task": false
        },
        "id": "vEGeiXIr9CPK"
      },
      "outputs": [],
      "source": [
        "class MeanWalklets(Walklets):\n",
        "    def get_embedding(self):\n",
        "        # YOUR CODE HERE\n",
        "        return np.mean(self._embedding, axis=0)\n",
        "        # raise NotImplementedError()"
      ]
    },
    {
      "cell_type": "code",
      "execution_count": 13,
      "metadata": {
        "deletable": false,
        "editable": false,
        "nbgrader": {
          "cell_type": "code",
          "checksum": "6facdeadc2ee2d369d082756713527bf",
          "grade": true,
          "grade_id": "cell-7c5dd45231ab30af",
          "locked": true,
          "points": 0,
          "schema_version": 3,
          "solution": false,
          "task": false
        },
        "id": "2XL8QLw89CPK"
      },
      "outputs": [],
      "source": [
        "test_model = MeanWalklets()\n",
        "test_model.fit(nx.karate_club_graph())\n",
        "test_emb = test_model.get_embedding()\n",
        "assert test_emb.shape == (34, 32)"
      ]
    },
    {
      "cell_type": "markdown",
      "metadata": {
        "id": "_TM_wc5M9CPL"
      },
      "source": [
        "Now let us visualize the 2d embeddings.\n",
        "\n",
        "Write a function `xy_embeddings` that takes a graph, compute 16d embeddings, reduce them into 2d via PCA and returns in the order:\n",
        "* Laplacian Eigenmaps\n",
        "* Truncated SVD of an adjacency matrix\n",
        "* DeepWalk\n",
        "* Walklets\n",
        "\n",
        "*Hints:*\n",
        "* *Suggested hyperparameters for DeepWalk and Walklets are `walk_number=10`, `walk_length=30`, `window_size=10`*\n",
        "* *You do not need reduce Walklets embeddgins to 2d, just directly use `PCAWalklets` with dimensionality 2*"
      ]
    },
    {
      "cell_type": "code",
      "execution_count": 14,
      "metadata": {
        "deletable": false,
        "nbgrader": {
          "cell_type": "code",
          "checksum": "bc41a75960ee98cb19af04de548100a0",
          "grade": false,
          "grade_id": "cell-d33f4faf41b0da0e",
          "locked": false,
          "schema_version": 3,
          "solution": true,
          "task": false
        },
        "id": "JzwSb8iB9CPL"
      },
      "outputs": [],
      "source": [
        "def xy_embeddings(_graph):\n",
        "    graph = _graph.copy()\n",
        "    # YOUR CODE HERE\n",
        "    bar = tqdm(total=4)\n",
        "    \n",
        "    model = MeanWalklets(walk_number=10, walk_length=30, window_size=10, dimensions=16)\n",
        "    model.fit(graph)\n",
        "    emb = model.get_embedding() # 16d\n",
        "    model = PCA(n_components=2)\n",
        "    walklets_emb = model.fit_transform(emb)\n",
        "\n",
        "    bar.update(1)\n",
        "\n",
        "    model = LaplacianEigenmaps(dimensions=16)\n",
        "    model.fit(graph)\n",
        "    emb = model.get_embedding() # 16d\n",
        "    model = PCA(n_components=2)\n",
        "    lap_eig_emb = model.fit_transform(emb)\n",
        "\n",
        "    bar.update(1)\n",
        "\n",
        "    model = DeepWalk(walk_number=10, walk_length=30, window_size=10, dimensions=16)\n",
        "    model.fit(graph)\n",
        "    emb = model.get_embedding() # 16d\n",
        "    model = PCA(n_components=2)\n",
        "    deepwalk_emb = model.fit_transform(emb)\n",
        "\n",
        "    bar.update(1)\n",
        "\n",
        "    A = nx.to_numpy_array(graph)\n",
        "    model = TruncatedSVD(n_components=16)\n",
        "    emb = model.fit_transform(A)\n",
        "    model = PCA(n_components=2)\n",
        "    trunc_svd_emb = model.fit_transform(emb)\n",
        "\n",
        "    bar.update(1)\n",
        "\n",
        "    return lap_eig_emb, trunc_svd_emb, deepwalk_emb, walklets_emb\n",
        "    # raise NotImplementedError()"
      ]
    },
    {
      "cell_type": "code",
      "execution_count": 15,
      "metadata": {
        "deletable": false,
        "editable": false,
        "nbgrader": {
          "cell_type": "code",
          "checksum": "026e746b06727b5c3c53c8a547e0659f",
          "grade": true,
          "grade_id": "cell-ce2531dac614957f",
          "locked": true,
          "points": 0,
          "schema_version": 3,
          "solution": false,
          "task": false
        },
        "id": "yd8k9F269CPL",
        "colab": {
          "base_uri": "https://localhost:8080/",
          "height": 49,
          "referenced_widgets": [
            "c50b1360888c4f04b318b4d075f40621",
            "7701db3153e5486dbe561b896112b9c2",
            "b714c7a1d73f42659373345fb550ed6e",
            "42f231b52b914006b24fabd41e3d52cc",
            "3e4d50e19a6c4d36bc6da365b00d4881",
            "0a01616fde334e6ab2402d1abe2e64a6",
            "acde40c6853d4244bae2f47c0be0a61b",
            "3ba5da531c0840df8aa4a34fe22bd995",
            "752c8763d52d427ea2826a0b736439c0",
            "0fb490c399d34a9abeb95df950fc79d0",
            "601bb7b287144c40a1661c60239cfedf"
          ]
        },
        "outputId": "5d2f40d5-396a-4e2f-aa69-dfad72f59b4c"
      },
      "outputs": [
        {
          "output_type": "display_data",
          "data": {
            "text/plain": [
              "  0%|          | 0/4 [00:00<?, ?it/s]"
            ],
            "application/vnd.jupyter.widget-view+json": {
              "version_major": 2,
              "version_minor": 0,
              "model_id": "c50b1360888c4f04b318b4d075f40621"
            }
          },
          "metadata": {}
        }
      ],
      "source": [
        "laplacian_emb, svd_emb, deep_walk_emb, walklets_emb = xy_embeddings(gcc_cora)\n",
        "assert (deep_walk_emb.shape == laplacian_emb.shape \n",
        "        == svd_emb.shape == walklets_emb.shape == (2485, 2))\n",
        "assert -0.5 < laplacian_emb.min() < laplacian_emb.max() < 0.5\n",
        "assert svd_emb[0].sum() > 11\n",
        "assert round(abs(np.corrcoef(deep_walk_emb[:, 0], deep_walk_emb[:, 1])[0][1]), \n",
        "             2) == 0\n",
        "assert round(abs(np.corrcoef(walklets_emb[:, 0], walklets_emb[:, 1])[0][1]), \n",
        "             2) == 0"
      ]
    },
    {
      "cell_type": "markdown",
      "metadata": {
        "id": "GIPxNlLO9CPL"
      },
      "source": [
        "Next, here we get a list of category ids to color data points"
      ]
    },
    {
      "cell_type": "code",
      "execution_count": 16,
      "metadata": {
        "id": "Ctix685f9CPM",
        "colab": {
          "base_uri": "https://localhost:8080/"
        },
        "outputId": "da53539d-6dcc-43c0-a772-55464ac22159"
      },
      "outputs": [
        {
          "output_type": "execute_result",
          "data": {
            "text/plain": [
              "[1, 1, 2, 1, 1, 1, 1, 1, 1, 1]"
            ]
          },
          "metadata": {},
          "execution_count": 16
        }
      ],
      "source": [
        "category_id = nx.get_node_attributes(gcc_cora, 'category')\n",
        "category_id = list(category_id.values())\n",
        "category_id[:10]"
      ]
    },
    {
      "cell_type": "code",
      "execution_count": 17,
      "metadata": {
        "id": "gCFRiWUk9CPM",
        "colab": {
          "base_uri": "https://localhost:8080/",
          "height": 1000
        },
        "outputId": "eb7b8f53-a31a-455c-9442-e6a4b8d04ea6"
      },
      "outputs": [
        {
          "output_type": "display_data",
          "data": {
            "text/plain": [
              "<Figure size 576x1728 with 4 Axes>"
            ],
            "image/png": "[encoded data removed]"
          },
          "metadata": {
            "needs_background": "light"
          }
        }
      ],
      "source": [
        "plt.figure(figsize=(8, 6*4))\n",
        "cases = [[laplacian_emb, 'Laplacian Eigenmaps'], \n",
        "         [svd_emb, 'Truncated SVD'], \n",
        "         [deep_walk_emb, 'DeepWalk'], \n",
        "         [walklets_emb, 'Walklets']]\n",
        "for i, (emb, title) in enumerate(cases):\n",
        "    plt.subplot(4, 1, i+1)\n",
        "    plt.scatter(emb[:, 0], emb[:, 1], c=category_id, cmap=plt.cm.Set1, s=10)\n",
        "    plt.title(title)"
      ]
    },
    {
      "cell_type": "markdown",
      "metadata": {
        "id": "ZGVmOLm29CPM"
      },
      "source": [
        "### Task 2. Test size dependency (3 points)"
      ]
    },
    {
      "cell_type": "code",
      "execution_count": 18,
      "metadata": {
        "id": "Q-kjjBS09CPM",
        "colab": {
          "base_uri": "https://localhost:8080/"
        },
        "outputId": "da310c9a-2000-4f7f-a8ff-358e464e951d"
      },
      "outputs": [
        {
          "output_type": "stream",
          "name": "stdout",
          "text": [
            "Requirement already satisfied: gensim==4.0.0 in /usr/local/lib/python3.7/dist-packages (4.0.0)\n",
            "Requirement already satisfied: smart-open>=1.8.1 in /usr/local/lib/python3.7/dist-packages (from gensim==4.0.0) (5.2.1)\n",
            "Requirement already satisfied: scipy>=0.18.1 in /usr/local/lib/python3.7/dist-packages (from gensim==4.0.0) (1.4.1)\n",
            "Requirement already satisfied: numpy>=1.11.3 in /usr/local/lib/python3.7/dist-packages (from gensim==4.0.0) (1.21.5)\n",
            "Requirement already satisfied: karateclub in /usr/local/lib/python3.7/dist-packages (1.2.3)\n",
            "Requirement already satisfied: numpy in /usr/local/lib/python3.7/dist-packages (from karateclub) (1.21.5)\n",
            "Requirement already satisfied: scikit-learn in /usr/local/lib/python3.7/dist-packages (from karateclub) (1.0.2)\n",
            "Requirement already satisfied: networkx in /usr/local/lib/python3.7/dist-packages (from karateclub) (2.6.3)\n",
            "Requirement already satisfied: gensim>=4.0.0 in /usr/local/lib/python3.7/dist-packages (from karateclub) (4.0.0)\n",
            "Requirement already satisfied: pandas<=1.3.5 in /usr/local/lib/python3.7/dist-packages (from karateclub) (1.3.5)\n",
            "Requirement already satisfied: python-louvain in /usr/local/lib/python3.7/dist-packages (from karateclub) (0.16)\n",
            "Requirement already satisfied: pygsp in /usr/local/lib/python3.7/dist-packages (from karateclub) (0.5.1)\n",
            "Requirement already satisfied: decorator==4.4.2 in /usr/local/lib/python3.7/dist-packages (from karateclub) (4.4.2)\n",
            "Requirement already satisfied: python-Levenshtein in /usr/local/lib/python3.7/dist-packages (from karateclub) (0.12.2)\n",
            "Requirement already satisfied: scipy in /usr/local/lib/python3.7/dist-packages (from karateclub) (1.4.1)\n",
            "Requirement already satisfied: six in /usr/local/lib/python3.7/dist-packages (from karateclub) (1.15.0)\n",
            "Requirement already satisfied: tqdm in /usr/local/lib/python3.7/dist-packages (from karateclub) (4.63.0)\n",
            "Requirement already satisfied: smart-open>=1.8.1 in /usr/local/lib/python3.7/dist-packages (from gensim>=4.0.0->karateclub) (5.2.1)\n",
            "Requirement already satisfied: python-dateutil>=2.7.3 in /usr/local/lib/python3.7/dist-packages (from pandas<=1.3.5->karateclub) (2.8.2)\n",
            "Requirement already satisfied: pytz>=2017.3 in /usr/local/lib/python3.7/dist-packages (from pandas<=1.3.5->karateclub) (2018.9)\n",
            "Requirement already satisfied: setuptools in /usr/local/lib/python3.7/dist-packages (from python-Levenshtein->karateclub) (57.4.0)\n",
            "Requirement already satisfied: threadpoolctl>=2.0.0 in /usr/local/lib/python3.7/dist-packages (from scikit-learn->karateclub) (3.1.0)\n",
            "Requirement already satisfied: joblib>=0.11 in /usr/local/lib/python3.7/dist-packages (from scikit-learn->karateclub) (1.1.0)\n"
          ]
        }
      ],
      "source": [
        "!pip install gensim==4.0.0\n",
        "!pip install karateclub"
      ]
    },
    {
      "cell_type": "code",
      "execution_count": 19,
      "metadata": {
        "id": "M3oxvqv29CPM"
      },
      "outputs": [],
      "source": [
        "from gensim.models.word2vec import Word2Vec\n",
        "from karateclub import DeepWalk, Walklets, LaplacianEigenmaps"
      ]
    },
    {
      "cell_type": "markdown",
      "metadata": {
        "id": "zI3_5-829CPN"
      },
      "source": [
        "Let us compare the quality of embedding algorithms on classification tasks depending on the size of test set.\n",
        "\n",
        "Write a function `embeddings_score` that takes a graph and computes 16d embeddigns, splits the dataset (X is embedding, y is category id) into train and test sets, fit `GradientBoostingClassifier` and returns a list of lists:\n",
        "* Micro-F1 score of Laplacian Eigenmaps for the test size 0.99, 0.95, 0.9, 0.8, 0.7\n",
        "* The same for Truncated SVD\n",
        "* The same for Deepwalk\n",
        "* The same for Walklets\n",
        "\n",
        "*Hints:* \n",
        "* *Use `train_test_split` splitting method from sklearn*\n",
        "* *Use `f1_score(y_test, y_pred, average='micro')` method from sklearn to calculate Micro-F1 score*\n",
        "* *It is ok if it takes about 2 minutes in Colab*"
      ]
    },
    {
      "cell_type": "code",
      "execution_count": 20,
      "metadata": {
        "deletable": false,
        "nbgrader": {
          "cell_type": "code",
          "checksum": "92cd49c29464928c8eb6297ebb5473c0",
          "grade": false,
          "grade_id": "cell-0c29359bd3423c87",
          "locked": false,
          "schema_version": 3,
          "solution": true,
          "task": false
        },
        "id": "1OvLk_Kz9CPN"
      },
      "outputs": [],
      "source": [
        "def embeddings_score(_graph):\n",
        "    graph = _graph.copy()\n",
        "    # YOUR CODE HERE\n",
        "    test_sizes = [0.7, 0.8, 0.9, 0.95, 0.99]\n",
        "    result = []\n",
        "\n",
        "    bar = tqdm(total=4)\n",
        "\n",
        "    model = LaplacianEigenmaps(dimensions=16)\n",
        "    model.fit(graph)\n",
        "    le_emb = model.get_embedding() # 16d\n",
        "    le_result = []\n",
        "    for tst_size in test_sizes:\n",
        "        X_train, X_test, y_train, y_test = train_test_split(le_emb, \n",
        "                                                            category_id, \n",
        "                                                            test_size=tst_size, \n",
        "                                                            random_state=42)\n",
        "        model = GradientBoostingClassifier().fit(X_train, y_train)\n",
        "        y_pred = model.predict(X_test)\n",
        "        micro_f1 = f1_score(y_test, y_pred, average='micro')\n",
        "        le_result.append(micro_f1)\n",
        "    \n",
        "    result.append(le_result)\n",
        "\n",
        "    bar.update(1)\n",
        "\n",
        "    A = nx.to_numpy_array(graph)\n",
        "    model = TruncatedSVD(n_components=16)\n",
        "    tsvd_emb = model.fit_transform(A)\n",
        "    tsvd_result = []\n",
        "    for tst_size in test_sizes:\n",
        "        X_train, X_test, y_train, y_test = train_test_split(tsvd_emb, \n",
        "                                                            category_id, \n",
        "                                                            test_size=tst_size, \n",
        "                                                            random_state=42)\n",
        "        model = GradientBoostingClassifier().fit(X_train, y_train)\n",
        "        y_pred = model.predict(X_test)\n",
        "        micro_f1 = f1_score(y_test, y_pred, average='micro')\n",
        "        tsvd_result.append(micro_f1)\n",
        "    \n",
        "    result.append(tsvd_result)\n",
        "\n",
        "    bar.update(1)\n",
        "\n",
        "    model = DeepWalk(walk_number=10, walk_length=30, window_size=10, dimensions=16)\n",
        "    model.fit(graph)\n",
        "    dw_emb = model.get_embedding() # 16d\n",
        "    dw_result = []\n",
        "    for tst_size in test_sizes:\n",
        "        X_train, X_test, y_train, y_test = train_test_split(dw_emb, \n",
        "                                                            category_id, \n",
        "                                                            test_size=tst_size, \n",
        "                                                            random_state=42)\n",
        "        model = GradientBoostingClassifier().fit(X_train, y_train)\n",
        "        y_pred = model.predict(X_test)\n",
        "        micro_f1 = f1_score(y_test, y_pred, average='micro')\n",
        "        dw_result.append(micro_f1)\n",
        "    \n",
        "    result.append(dw_result)\n",
        "\n",
        "    bar.update(1)\n",
        "\n",
        "    model = MeanWalklets(walk_number=10, walk_length=30, window_size=10, dimensions=16)\n",
        "    model.fit(graph)\n",
        "    w_emb = model.get_embedding() # 16d\n",
        "    w_result = []\n",
        "    for tst_size in test_sizes:\n",
        "        X_train, X_test, y_train, y_test = train_test_split(w_emb, \n",
        "                                                            category_id, \n",
        "                                                            test_size=tst_size, \n",
        "                                                            random_state=42)\n",
        "        model = GradientBoostingClassifier().fit(X_train, y_train)\n",
        "        y_pred = model.predict(X_test)\n",
        "        micro_f1 = f1_score(y_test, y_pred, average='micro')\n",
        "        w_result.append(micro_f1)\n",
        "    \n",
        "    result.append(w_result)\n",
        "\n",
        "    bar.update(1)\n",
        "\n",
        "    return result\n",
        "\n",
        "    # raise NotImplementedError()"
      ]
    },
    {
      "cell_type": "code",
      "source": [
        "len(category_id)"
      ],
      "metadata": {
        "colab": {
          "base_uri": "https://localhost:8080/"
        },
        "id": "EQ4KGBb2itRU",
        "outputId": "a3cf767b-3553-4fc4-c811-96e9af807e47"
      },
      "execution_count": 21,
      "outputs": [
        {
          "output_type": "execute_result",
          "data": {
            "text/plain": [
              "2485"
            ]
          },
          "metadata": {},
          "execution_count": 21
        }
      ]
    },
    {
      "cell_type": "code",
      "execution_count": 22,
      "metadata": {
        "deletable": false,
        "editable": false,
        "nbgrader": {
          "cell_type": "code",
          "checksum": "2ce2cdad19bf2c5ae6dcfdbac55113e9",
          "grade": true,
          "grade_id": "cell-e2b5bae45ef6c5da",
          "locked": true,
          "points": 3,
          "schema_version": 3,
          "solution": false,
          "task": false
        },
        "id": "JskBj81b9CPO",
        "colab": {
          "base_uri": "https://localhost:8080/",
          "height": 49,
          "referenced_widgets": [
            "ad4694d8eb1d40da927a824ec6247022",
            "f70c9014b43d413dbafb275e1009d2c3",
            "2997a4bada0f41baaec3851d6fb86903",
            "e68958aef4a3466d8e65f976a0e25f12",
            "af27780cf4024910b7d8034af38c6d64",
            "120a872e468e465cb3a36bc9ea5e299f",
            "82805e1944dd4163ba1fe419b485b283",
            "d3d70a4836af4d83955a0af1e5b04dd5",
            "a02afdfbd5804ae69f07006485d418d6",
            "345a1803839640b0b43332b9a1ab861e",
            "9db3b29099264eaf80ffebbdd48d098c"
          ]
        },
        "outputId": "6b6633e3-be6a-4079-ccd6-0d7d9a504fa0"
      },
      "outputs": [
        {
          "output_type": "display_data",
          "data": {
            "text/plain": [
              "  0%|          | 0/4 [00:00<?, ?it/s]"
            ],
            "application/vnd.jupyter.widget-view+json": {
              "version_major": 2,
              "version_minor": 0,
              "model_id": "ad4694d8eb1d40da927a824ec6247022"
            }
          },
          "metadata": {}
        }
      ],
      "source": [
        "scores = embeddings_score(gcc_cora)\n",
        "scores = np.array(scores)\n",
        "assert scores.shape == (4, 5)\n",
        "assert scores.mean() > 0.5\n",
        "X = np.stack([np.ones(5), np.arange(5)], axis=1)\n",
        "y = scores.mean(axis=0)\n",
        "assert (np.linalg.inv(X.T @ X) @ X.T @ y)[0] > 0.4\n",
        "mean_res = scores.mean(axis=1)\n",
        "assert mean_res[0] > mean_res[3] > mean_res[1] > mean_res[2]"
      ]
    },
    {
      "cell_type": "code",
      "execution_count": 23,
      "metadata": {
        "id": "DCBRP2vT9CPO",
        "colab": {
          "base_uri": "https://localhost:8080/",
          "height": 350
        },
        "outputId": "9a788a48-8670-400c-ce18-64719f296051"
      },
      "outputs": [
        {
          "output_type": "display_data",
          "data": {
            "text/plain": [
              "<Figure size 576x360 with 1 Axes>"
            ],
            "image/png": "[encoded data removed]"
          },
          "metadata": {
            "needs_background": "light"
          }
        }
      ],
      "source": [
        "plt.figure(figsize=(8, 5))\n",
        "labels = ['Laplacian Eigenmaps', 'Truncated SVD', 'DeepWalk', 'Walklets']\n",
        "for i, score in enumerate(scores):\n",
        "    plt.plot([0.99, 0.95, 0.9, 0.8, 0.7], score, label=labels[i])\n",
        "    plt.scatter([0.99, 0.95, 0.9, 0.8, 0.7], score)\n",
        "plt.legend()\n",
        "plt.title('Embedding algorithms quality')\n",
        "plt.xlabel('Test set size')\n",
        "plt.ylabel('Micro-F1 score')\n",
        "plt.gca().invert_xaxis()\n",
        "plt.show()"
      ]
    },
    {
      "cell_type": "markdown",
      "metadata": {
        "id": "NIb5avqv9CPO"
      },
      "source": [
        "### Task 3. Embedding dimensionality importance (3 points)"
      ]
    },
    {
      "cell_type": "code",
      "execution_count": 24,
      "metadata": {
        "id": "ovCR3NOL9CPO",
        "colab": {
          "base_uri": "https://localhost:8080/"
        },
        "outputId": "c91fa832-5b6f-46ae-c0b5-fecc425ab96f"
      },
      "outputs": [
        {
          "output_type": "stream",
          "name": "stdout",
          "text": [
            "Requirement already satisfied: gensim==4.0.0 in /usr/local/lib/python3.7/dist-packages (4.0.0)\n",
            "Requirement already satisfied: smart-open>=1.8.1 in /usr/local/lib/python3.7/dist-packages (from gensim==4.0.0) (5.2.1)\n",
            "Requirement already satisfied: numpy>=1.11.3 in /usr/local/lib/python3.7/dist-packages (from gensim==4.0.0) (1.21.5)\n",
            "Requirement already satisfied: scipy>=0.18.1 in /usr/local/lib/python3.7/dist-packages (from gensim==4.0.0) (1.4.1)\n",
            "Requirement already satisfied: karateclub in /usr/local/lib/python3.7/dist-packages (1.2.3)\n",
            "Requirement already satisfied: pygsp in /usr/local/lib/python3.7/dist-packages (from karateclub) (0.5.1)\n",
            "Requirement already satisfied: networkx in /usr/local/lib/python3.7/dist-packages (from karateclub) (2.6.3)\n",
            "Requirement already satisfied: gensim>=4.0.0 in /usr/local/lib/python3.7/dist-packages (from karateclub) (4.0.0)\n",
            "Requirement already satisfied: tqdm in /usr/local/lib/python3.7/dist-packages (from karateclub) (4.63.0)\n",
            "Requirement already satisfied: python-Levenshtein in /usr/local/lib/python3.7/dist-packages (from karateclub) (0.12.2)\n",
            "Requirement already satisfied: scikit-learn in /usr/local/lib/python3.7/dist-packages (from karateclub) (1.0.2)\n",
            "Requirement already satisfied: pandas<=1.3.5 in /usr/local/lib/python3.7/dist-packages (from karateclub) (1.3.5)\n",
            "Requirement already satisfied: numpy in /usr/local/lib/python3.7/dist-packages (from karateclub) (1.21.5)\n",
            "Requirement already satisfied: python-louvain in /usr/local/lib/python3.7/dist-packages (from karateclub) (0.16)\n",
            "Requirement already satisfied: six in /usr/local/lib/python3.7/dist-packages (from karateclub) (1.15.0)\n",
            "Requirement already satisfied: scipy in /usr/local/lib/python3.7/dist-packages (from karateclub) (1.4.1)\n",
            "Requirement already satisfied: decorator==4.4.2 in /usr/local/lib/python3.7/dist-packages (from karateclub) (4.4.2)\n",
            "Requirement already satisfied: smart-open>=1.8.1 in /usr/local/lib/python3.7/dist-packages (from gensim>=4.0.0->karateclub) (5.2.1)\n",
            "Requirement already satisfied: python-dateutil>=2.7.3 in /usr/local/lib/python3.7/dist-packages (from pandas<=1.3.5->karateclub) (2.8.2)\n",
            "Requirement already satisfied: pytz>=2017.3 in /usr/local/lib/python3.7/dist-packages (from pandas<=1.3.5->karateclub) (2018.9)\n",
            "Requirement already satisfied: setuptools in /usr/local/lib/python3.7/dist-packages (from python-Levenshtein->karateclub) (57.4.0)\n",
            "Requirement already satisfied: threadpoolctl>=2.0.0 in /usr/local/lib/python3.7/dist-packages (from scikit-learn->karateclub) (3.1.0)\n",
            "Requirement already satisfied: joblib>=0.11 in /usr/local/lib/python3.7/dist-packages (from scikit-learn->karateclub) (1.1.0)\n"
          ]
        }
      ],
      "source": [
        "!pip install gensim==4.0.0\n",
        "!pip install karateclub"
      ]
    },
    {
      "cell_type": "code",
      "execution_count": 25,
      "metadata": {
        "id": "RZJDy4gL9CPO"
      },
      "outputs": [],
      "source": [
        "from gensim.models.word2vec import Word2Vec\n",
        "from karateclub import DeepWalk, Walklets, LaplacianEigenmaps"
      ]
    },
    {
      "cell_type": "markdown",
      "metadata": {
        "id": "D97eOT1t9CPP"
      },
      "source": [
        "Another important property of the embedding is an ability to represent nodes in low-dimensional space. It will be great to quickly compress the most important and drop all excess imformation. Let us check how the dimensionality affects to quality and time cost.\n",
        "\n",
        "Write a function `embeddings_dim` that takes a graph, computes embeddings, splits dataset into train and test sets with test size 0.95, computes Micro-F1 scores, time costs and returns a tuple:\n",
        "* list of lists:\n",
        "  * Micro-F1 score for 8d Laplacian Eigenmaps, Truncated SVD, DeepWalk, Walklets\n",
        "  * The same for 16d\n",
        "  * The same for 32d\n",
        "  * The same for 64d\n",
        "  * The same for 128d\n",
        "* list of lists:\n",
        "  * Time cost (seconds) for 8d Laplacian Eigenmaps, Truncated SVD, DeepWalk, Walklets\n",
        "  * The same for 16d\n",
        "  * The same for 32d\n",
        "  * The same for 64d\n",
        "  * The same for 128d\n",
        "\n",
        "*Hints:*\n",
        "* *Use `time()` to get a current time moment*\n",
        "* *It is ok if it takes about 4 minutes in Colab*"
      ]
    },
    {
      "cell_type": "code",
      "execution_count": 26,
      "metadata": {
        "deletable": false,
        "nbgrader": {
          "cell_type": "code",
          "checksum": "8b9a4a6d0fac691fa412c69b9529bda3",
          "grade": false,
          "grade_id": "cell-e039ba7855f9792c",
          "locked": false,
          "schema_version": 3,
          "solution": true,
          "task": false
        },
        "id": "A9GojqlK9CPP"
      },
      "outputs": [],
      "source": [
        "def embeddings_dim(_graph):\n",
        "    graph = _graph.copy()\n",
        "    # YOUR CODE HERE\n",
        "    bar = tqdm(total=20)\n",
        "    f1_results = []\n",
        "    time_results = []\n",
        "    dims = [8, 16, 32, 64, 128]\n",
        "    for dim in dims:\n",
        "        f1_result = []\n",
        "        time_result = []\n",
        "\n",
        "        start = time()\n",
        "        model = LaplacianEigenmaps(dimensions=dim)\n",
        "        model.fit(graph)\n",
        "        le_emb = model.get_embedding() \n",
        "        X_train, X_test, y_train, y_test = train_test_split(le_emb, \n",
        "                                                            category_id, \n",
        "                                                            test_size=0.95,\n",
        "                                                            random_state=42)\n",
        "        model = GradientBoostingClassifier().fit(X_train, y_train)\n",
        "        y_pred = model.predict(X_test)\n",
        "        le_time_res = time() - start\n",
        "        le_micro_f1 = f1_score(y_test, y_pred, average='micro')\n",
        "        f1_result.append(le_micro_f1)\n",
        "        time_result.append(le_time_res)\n",
        "\n",
        "        bar.update(1)\n",
        "\n",
        "        A = nx.to_numpy_array(graph)\n",
        "        start = time()\n",
        "        model = TruncatedSVD(n_components=dim)\n",
        "        tsvd_emb = model.fit_transform(A)\n",
        "        X_train, X_test, y_train, y_test = train_test_split(tsvd_emb, \n",
        "                                                            category_id, \n",
        "                                                            test_size=0.95,\n",
        "                                                            random_state=42)\n",
        "        model = GradientBoostingClassifier().fit(X_train, y_train)\n",
        "        y_pred = model.predict(X_test)\n",
        "        tsvd_time_res = time() - start\n",
        "        tsvd_micro_f1 = f1_score(y_test, y_pred, average='micro')\n",
        "        f1_result.append(tsvd_micro_f1)\n",
        "        time_result.append(tsvd_time_res)\n",
        "\n",
        "        bar.update(1)\n",
        "\n",
        "        model = DeepWalk(walk_number=10, walk_length=30, window_size=10, dimensions=dim)\n",
        "        model.fit(graph)\n",
        "        dw_emb = model.get_embedding() \n",
        "        X_train, X_test, y_train, y_test = train_test_split(dw_emb, \n",
        "                                                            category_id, \n",
        "                                                            test_size=0.95,\n",
        "                                                            random_state=42)\n",
        "        model = GradientBoostingClassifier().fit(X_train, y_train)\n",
        "        y_pred = model.predict(X_test)\n",
        "        dw_time_res = time() - start\n",
        "        dw_micro_f1 = f1_score(y_test, y_pred, average='micro')\n",
        "        f1_result.append(dw_micro_f1)\n",
        "        time_result.append(dw_time_res)\n",
        "\n",
        "        bar.update(1)\n",
        "\n",
        "        model = MeanWalklets(walk_number=10, walk_length=30, window_size=10, dimensions=dim)\n",
        "        model.fit(graph)\n",
        "        w_emb = model.get_embedding()\n",
        "        X_train, X_test, y_train, y_test = train_test_split(w_emb, \n",
        "                                                            category_id, \n",
        "                                                            test_size=0.95,\n",
        "                                                            random_state=42)\n",
        "        model = GradientBoostingClassifier().fit(X_train, y_train)\n",
        "        y_pred = model.predict(X_test)\n",
        "        w_time_res = time() - start\n",
        "        w_micro_f1 = f1_score(y_test, y_pred, average='micro')\n",
        "        f1_result.append(w_micro_f1)\n",
        "        time_result.append(w_time_res)\n",
        "\n",
        "        bar.update(1)\n",
        "\n",
        "        f1_results.append(f1_result)\n",
        "        time_results.append(time_result)\n",
        "\n",
        "    return (f1_results, time_results)\n",
        "\n",
        "    # raise NotImplementedError()"
      ]
    },
    {
      "cell_type": "code",
      "execution_count": 27,
      "metadata": {
        "deletable": false,
        "editable": false,
        "nbgrader": {
          "cell_type": "code",
          "checksum": "e1236e7cd77a3a9361d6c065e0cb58cb",
          "grade": true,
          "grade_id": "cell-60b4e70331597579",
          "locked": true,
          "points": 3,
          "schema_version": 3,
          "solution": false,
          "task": false
        },
        "id": "L4aQgzpq9CPP",
        "colab": {
          "base_uri": "https://localhost:8080/",
          "height": 49,
          "referenced_widgets": [
            "0320f1fa20834268b8426bc9b238ceb1",
            "d434125f393b4bd59b503d0f258e815f",
            "38ed13298c7944a1b3181a1d9c3b204e",
            "d2f511c6260741a09c05f69dcc8f334d",
            "08ac1753736c459f9999cb09e423e099",
            "55dc42092faa48a3a7220077a54a7a42",
            "dd1f320ac00841c297645808b94f5daa",
            "fefa14e2952b43cb863a239604f157d2",
            "481187eca83846eb8f09ce894ca1a93e",
            "3604b715a14a476796b4a7cd86a9caeb",
            "cc46162d58d24bf682a361017170f0b9"
          ]
        },
        "outputId": "0ae5aa47-fe13-4bca-c091-e4a0844a001c"
      },
      "outputs": [
        {
          "output_type": "display_data",
          "data": {
            "text/plain": [
              "  0%|          | 0/20 [00:00<?, ?it/s]"
            ],
            "application/vnd.jupyter.widget-view+json": {
              "version_major": 2,
              "version_minor": 0,
              "model_id": "0320f1fa20834268b8426bc9b238ceb1"
            }
          },
          "metadata": {}
        }
      ],
      "source": [
        "scores, time_cost = embeddings_dim(gcc_cora)\n",
        "scores, time_cost = np.array(scores), np.array(time_cost)\n",
        "assert scores.shape == time_cost.shape == (5, 4)\n",
        "smean = scores.mean(axis=0)\n",
        "assert smean.argmin() == 2\n",
        "assert smean[1] < smean[0]\n",
        "assert smean[1] < smean[3]\n",
        "assert smean.mean() > 0.5\n",
        "tcmean = time_cost.mean(axis=0)\n",
        "assert tcmean.argmin() in [0, 1]\n",
        "assert tcmean.argmax() == 3\n",
        "assert time_cost[0, 0] < time_cost[-1, 0]"
      ]
    },
    {
      "cell_type": "code",
      "source": [
        "scores.shape"
      ],
      "metadata": {
        "colab": {
          "base_uri": "https://localhost:8080/"
        },
        "id": "WqFj2YW13eef",
        "outputId": "0efe714a-3ea1-4285-ffb9-bfd27d4a4b20"
      },
      "execution_count": 28,
      "outputs": [
        {
          "output_type": "execute_result",
          "data": {
            "text/plain": [
              "(5, 4)"
            ]
          },
          "metadata": {},
          "execution_count": 28
        }
      ]
    },
    {
      "cell_type": "code",
      "source": [
        "time_cost.shape"
      ],
      "metadata": {
        "colab": {
          "base_uri": "https://localhost:8080/"
        },
        "id": "oraG0CFF3hz4",
        "outputId": "33e6386a-3197-4a64-8d72-262b60a51819"
      },
      "execution_count": 29,
      "outputs": [
        {
          "output_type": "execute_result",
          "data": {
            "text/plain": [
              "(5, 4)"
            ]
          },
          "metadata": {},
          "execution_count": 29
        }
      ]
    },
    {
      "cell_type": "code",
      "execution_count": 30,
      "metadata": {
        "id": "lqgqZDPY9CPP",
        "colab": {
          "base_uri": "https://localhost:8080/",
          "height": 689
        },
        "outputId": "7c334873-516b-4f6a-8d46-b18858847946"
      },
      "outputs": [
        {
          "output_type": "display_data",
          "data": {
            "text/plain": [
              "<Figure size 576x360 with 1 Axes>"
            ],
            "image/png": "[encoded data removed]"
          },
          "metadata": {
            "needs_background": "light"
          }
        },
        {
          "output_type": "display_data",
          "data": {
            "text/plain": [
              "<Figure size 576x360 with 1 Axes>"
            ],
            "image/png": "[encoded data removed]"
          },
          "metadata": {
            "needs_background": "light"
          }
        }
      ],
      "source": [
        "plt.figure(figsize=(8, 5))\n",
        "labels = ['Laplacian Eigenmaps', 'Truncated SVD', 'DeepWalk', 'Walklets']\n",
        "for i, score in enumerate(scores.T):\n",
        "    plt.plot([8, 16, 32, 64, 128], score, label=labels[i])\n",
        "    plt.scatter([8, 16, 32, 64, 128], score)\n",
        "plt.legend()\n",
        "plt.xscale('log', basex=2)\n",
        "plt.xlabel('Dimensionality')\n",
        "plt.ylabel('Micro-F1 score')\n",
        "plt.title('Dimensionality vs score')\n",
        "plt.show()\n",
        "\n",
        "plt.figure(figsize=(8, 5))\n",
        "for i, cost in enumerate(time_cost.T):\n",
        "    plt.plot([8, 16, 32, 64, 128], cost, label=labels[i])\n",
        "    plt.scatter([8, 16, 32, 64, 128], cost)\n",
        "plt.legend()\n",
        "plt.xscale('log', basex=2)\n",
        "plt.yscale('log', basey=2)\n",
        "plt.xlabel('Dimensionality')\n",
        "plt.ylabel('Time cost (seconds)')\n",
        "plt.title('Dimensionality vs time cost')\n",
        "plt.show()"
      ]
    },
    {
      "cell_type": "markdown",
      "metadata": {
        "id": "6tO-96ut9CPP"
      },
      "source": [
        "### Task 4. Node2Vec model (4 points)"
      ]
    },
    {
      "cell_type": "code",
      "execution_count": 31,
      "metadata": {
        "id": "u1zjt0089CPQ",
        "colab": {
          "base_uri": "https://localhost:8080/"
        },
        "outputId": "263451e1-3428-4232-cfb9-77dde8ecca09"
      },
      "outputs": [
        {
          "output_type": "stream",
          "name": "stdout",
          "text": [
            "Requirement already satisfied: gensim==4.0.0 in /usr/local/lib/python3.7/dist-packages (4.0.0)\n",
            "Requirement already satisfied: smart-open>=1.8.1 in /usr/local/lib/python3.7/dist-packages (from gensim==4.0.0) (5.2.1)\n",
            "Requirement already satisfied: numpy>=1.11.3 in /usr/local/lib/python3.7/dist-packages (from gensim==4.0.0) (1.21.5)\n",
            "Requirement already satisfied: scipy>=0.18.1 in /usr/local/lib/python3.7/dist-packages (from gensim==4.0.0) (1.4.1)\n"
          ]
        }
      ],
      "source": [
        "!pip install gensim==4.0.0"
      ]
    },
    {
      "cell_type": "code",
      "execution_count": 32,
      "metadata": {
        "id": "LoRyz9aJ9CPQ"
      },
      "outputs": [],
      "source": [
        "from gensim.models.word2vec import Word2Vec"
      ]
    },
    {
      "cell_type": "markdown",
      "metadata": {
        "id": "cHRtszvA9CPQ"
      },
      "source": [
        "In this task, we will consider Node2Vec embedding algorithm. In Node2Vec, we learn a mapping of nodes to a low-dimensional space of features that maximizes the likelihood of preserving network neighborhoods of nodes. It is similar to the DeepWalk, but used *biased random walk procedure* which efficiently explores diverse neighborhoods. There are two parameters:\n",
        "\n",
        "* Return parameter $p$ controls the likelihood of immediately revisiting a node in the walk. Setting it to a high value ensures that we are less likely to sample an already-visited node in the following two steps.\n",
        "\n",
        "* In-out parameter $q$ allows the search to differentiate between “inward” and “outward” nodes. If $q > 1$, the random walk is biased towards nodes close to previous node. In contrast, if $q < 1$, the walk is more inclined to visit nodes which are further away from the previous node."
      ]
    },
    {
      "cell_type": "markdown",
      "metadata": {
        "id": "ksyoXqfq9CPQ"
      },
      "source": [
        "<img src='https://raw.githubusercontent.com/netspractice/network-science/main/images/node_embedding.png' width=300>"
      ]
    },
    {
      "cell_type": "markdown",
      "metadata": {
        "id": "YKFERDwS9CPQ"
      },
      "source": [
        "For example, we just moved from the node $t$ to $v$ and now we want to decide on the next step so it evaluates the transition probabilities on edges ($v$, $x$) leading from $v$. Then the *unnormalized* probability is\n",
        "\n",
        "$$\\alpha = \\begin{cases}\n",
        "\\frac{1}{p} &  \\text{ if } d_{tx} = 0\\\\\n",
        "1 & \\text{ if } d_{tx} = 1\\\\\n",
        "\\frac{1}{q} & \\text{ if } d_{tx} = 2\\\\\n",
        "\\end{cases}$$\n",
        "\n",
        "where $d_{tx}$ is the shortest path distance between nodes $t$ and $x$. To compute the true probability, we need to normalize values so that the sum is 1.\n",
        "\n",
        "Write a function `biased_random_walk` that takes a graph, node for which we start random walk, length of walk, parameters `p` and `q` and returns a list with a random walk."
      ]
    },
    {
      "cell_type": "code",
      "source": [
        "gcc_cora.number_of_nodes()"
      ],
      "metadata": {
        "colab": {
          "base_uri": "https://localhost:8080/"
        },
        "id": "FDYtDmyYqkZm",
        "outputId": "4a00139d-e381-4945-fef9-8ec3bbd174e8"
      },
      "execution_count": 33,
      "outputs": [
        {
          "output_type": "execute_result",
          "data": {
            "text/plain": [
              "2485"
            ]
          },
          "metadata": {},
          "execution_count": 33
        }
      ]
    },
    {
      "cell_type": "code",
      "execution_count": 52,
      "metadata": {
        "deletable": false,
        "nbgrader": {
          "cell_type": "code",
          "checksum": "c3969a9f986a4f1865096bf05e04db42",
          "grade": false,
          "grade_id": "cell-3e6acfc34a7f8627",
          "locked": false,
          "schema_version": 3,
          "solution": true,
          "task": false
        },
        "id": "9reaidJR9CPR"
      },
      "outputs": [],
      "source": [
        "def biased_random_walk(G, node, path_length, p, q):\n",
        "    # YOUR CODE HERE\n",
        "    dists = [0, 1, 2]\n",
        "    s = (1 / p) + 1 + (1 / q)\n",
        "    probs = [1 / (p * s), 1 / s, 1 / (q * s)]\n",
        "    dist_0_neigh = [node]\n",
        "    dist_1_neigh = list(G.neighbors(node))\n",
        "    dist_2_neigh = []\n",
        "    if dist_1_neigh:\n",
        "        for neighbor in dist_1_neigh:\n",
        "            neighbor_neigh = list(G.neighbors(neighbor))\n",
        "            dist_2_neigh.extend(neighbor_neigh)\n",
        "        if node in dist_2_neigh:\n",
        "            dist_2_neigh.remove(node)\n",
        "        for neigh in dist_2_neigh:\n",
        "            if neigh in dist_1_neigh:\n",
        "                dist_2_neigh.remove(neigh)\n",
        "        dist_2_neigh = list(set(dist_2_neigh))\n",
        "\n",
        "    path = [node]\n",
        "    for _ in range(path_length - 1):\n",
        "        res = np.random.choice(dists, p=probs)\n",
        "        if res == 0:\n",
        "            path.append(node)\n",
        "        elif res == 1:\n",
        "            probs_1 = []\n",
        "            probs_1 = probs_1 + [1./len(dist_1_neigh)] * len(dist_1_neigh)\n",
        "            next_node = np.random.choice(dist_1_neigh, p=probs_1)\n",
        "            next_node = np.random.choice(dist_1_neigh)\n",
        "            path.append(next_node)\n",
        "        elif res == 2:\n",
        "            probs_2 = []\n",
        "            probs_2 = probs_2 + [1./len(dist_2_neigh)] * len(dist_2_neigh)\n",
        "            next_node = np.random.choice(dist_2_neigh, p=probs_2)\n",
        "            next_node = np.random.choice(dist_2_neigh)\n",
        "            path.append(next_node)\n",
        "    return path\n",
        "    # raise NotImplementedError()"
      ]
    },
    {
      "cell_type": "code",
      "execution_count": 53,
      "metadata": {
        "deletable": false,
        "editable": false,
        "nbgrader": {
          "cell_type": "code",
          "checksum": "0da66e955cfde05f81a26df314d222af",
          "grade": true,
          "grade_id": "cell-146532f00986acf1",
          "locked": true,
          "points": 1.33,
          "schema_version": 3,
          "solution": false,
          "task": false
        },
        "id": "5RMFhoU_9CPR"
      },
      "outputs": [],
      "source": [
        "rw = biased_random_walk(gcc_cora, 0, 10, 0.1, 0.5)\n",
        "assert len(rw) == 10\n",
        "rw = biased_random_walk(gcc_cora, node=0, path_length=4, p=0.001, q=1000)\n",
        "assert rw[0] == rw[2]\n",
        "assert rw[1] == rw[3]\n",
        "rw = biased_random_walk(gcc_cora, node=0, path_length=4, p=1000, q=0.001)\n",
        "assert len(set(rw)) >= 3"
      ]
    },
    {
      "cell_type": "markdown",
      "metadata": {
        "id": "8ry2eMx99CPR"
      },
      "source": [
        "Here are auxiliary methods that generates biased random walks and encode this walks using Word2Vec model."
      ]
    },
    {
      "cell_type": "code",
      "execution_count": 54,
      "metadata": {
        "deletable": false,
        "editable": false,
        "nbgrader": {
          "cell_type": "code",
          "checksum": "052df1277612b7f9ab114cc333045002",
          "grade": false,
          "grade_id": "cell-8a2e43b862b373da",
          "locked": true,
          "schema_version": 3,
          "solution": false,
          "task": false
        },
        "id": "u40Hi-Iy9CPR"
      },
      "outputs": [],
      "source": [
        "def biased_random_walks(G, walk_number, walk_length, p, q):\n",
        "    walks = []\n",
        "    for node in tqdm(G.nodes):\n",
        "        for _ in range(walk_number):\n",
        "            walk_from_node = biased_random_walk(G, node, walk_length, p, q)\n",
        "            walks.append(walk_from_node)\n",
        "    return np.array(walks)\n",
        "\n",
        "def node2vec_encode(G, walks, dimensions, window_size):\n",
        "    walks_str = walks.astype('str').tolist()\n",
        "    model = Word2Vec(walks_str, vector_size=dimensions, hs=1, sg=1, \n",
        "                     alpha=0.05, epochs=1, window=window_size, )\n",
        "    embedding = np.array([model.wv[str(n)] for n in range(len(G))])\n",
        "    return embedding"
      ]
    },
    {
      "cell_type": "code",
      "execution_count": 55,
      "metadata": {
        "deletable": false,
        "editable": false,
        "nbgrader": {
          "cell_type": "code",
          "checksum": "2bd9d1b2fc152f8ecd0f12a2ad3eb2d5",
          "grade": true,
          "grade_id": "cell-03d420988ac76488",
          "locked": true,
          "points": 1.33,
          "schema_version": 3,
          "solution": false,
          "task": false
        },
        "id": "fpsXocPM9CPR",
        "colab": {
          "base_uri": "https://localhost:8080/",
          "height": 49,
          "referenced_widgets": [
            "d749bdd484df4a9cb77f9f0dd8b1edab",
            "5419255aba4540d9b2beb375db3c6b34",
            "6806aeed4af549c297514ec463de1f97",
            "5ff40025dae24cadb6072039fd77cf41",
            "8486068e36cf4db3a8c434cb11fc6e3a",
            "ed8a82c8e04647ca851ef4a5c32544f9",
            "7b79e990f7f24a72869d75098ead565f",
            "7063b9a964284ae8a7f6f51accf4de30",
            "b61cfed7a32f4aaeb58d20d0931f3d51",
            "bdb40bf24fcb48d1830fbabab93740ae",
            "0db0ed43ce8b4f70839e102786979f44"
          ]
        },
        "outputId": "f3aa7b73-38d0-4083-c5e2-c8c9d9af989d"
      },
      "outputs": [
        {
          "output_type": "display_data",
          "data": {
            "text/plain": [
              "  0%|          | 0/2485 [00:00<?, ?it/s]"
            ],
            "application/vnd.jupyter.widget-view+json": {
              "version_major": 2,
              "version_minor": 0,
              "model_id": "d749bdd484df4a9cb77f9f0dd8b1edab"
            }
          },
          "metadata": {}
        }
      ],
      "source": [
        "rws = biased_random_walks(gcc_cora, walk_number=10, walk_length=30, p=0.25, q=0.5)\n",
        "emb = node2vec_encode(gcc_cora, walks=rws, dimensions=16, window_size=10)\n",
        "assert emb.shape == (2485, 16)"
      ]
    },
    {
      "cell_type": "markdown",
      "metadata": {
        "id": "4Lpl-zdm9CPS"
      },
      "source": [
        "Write a function `grid_search_pq`. Using 0.95 test set size, run the grid search for `GradientBoostingClassifier` and find the best values for $p, q \\in \\{0.25, 0.50, 1, 2, 4\\}$ with respect to Micro-F1 score. Return the best $p, q$.\n",
        "\n",
        "*Hints:*\n",
        "* *Suggested hyperparameters are `walk_number=10`, `walk_length=30`, `window_size=10`, `dimensions=16`*\n",
        "* *To pass time limits, calculate the best `p` and `q` and then rewrite the function as*\n",
        "\n",
        "```python\n",
        "def grid_search_pq(graph):\n",
        "    return best_p, best_q\n",
        "```"
      ]
    },
    {
      "cell_type": "code",
      "execution_count": 59,
      "metadata": {
        "deletable": false,
        "nbgrader": {
          "cell_type": "code",
          "checksum": "0422943692188f6966386fc93307449f",
          "grade": false,
          "grade_id": "cell-e01b1458086e8b5a",
          "locked": false,
          "schema_version": 3,
          "solution": true,
          "task": false
        },
        "id": "jwv3ys4k9CPS"
      },
      "outputs": [],
      "source": [
        "def grid_search_pq(graph):\n",
        "    # YOUR CODE HERE\n",
        "    p_values = [0.25, 0.50, 1, 2, 4]\n",
        "    q_values = [0.25, 0.50, 1, 2, 4]\n",
        "    best_f1 = 0\n",
        "    for p_val in p_values:\n",
        "        for q_val in q_values:\n",
        "            graph_ = graph.copy()\n",
        "            rws = biased_random_walks(graph_, walk_number=10, walk_length=30, p=p_val, q=q_val)\n",
        "            emb = node2vec_encode(graph_, walks=rws, dimensions=16, window_size=10)\n",
        "            category_id = nx.get_node_attributes(graph_, 'category')\n",
        "            category_id = list(category_id.values())\n",
        "            X_train, X_test, y_train, y_test = train_test_split(emb, category_id, test_size=0.95, random_state=0)\n",
        "            clf = GradientBoostingClassifier()\n",
        "            clf.fit(X_train, y_train)\n",
        "            y_pred = clf.predict(X_test)\n",
        "            micro_f1 = f1_score(y_test, y_pred, average='micro')\n",
        "            if micro_f1 > best_f1:\n",
        "                best_f1 = micro_f1\n",
        "                best_p, best_q = p_val, q_val\n",
        "                print(best_p, best_q, best_f1)\n",
        "    print(f'final: p={best_p}, q={best_q}, f1={best_f1}')\n",
        "    return best_p, best_q\n",
        "    # raise NotImplementedError()\n",
        "\n",
        "# final: p=1, q=0.25, f1=0.675137653536637\n",
        "def grid_search_pq(graph):\n",
        "    return 1, 0.25"
      ]
    },
    {
      "cell_type": "code",
      "execution_count": 64,
      "metadata": {
        "deletable": false,
        "editable": false,
        "nbgrader": {
          "cell_type": "code",
          "checksum": "1e98e3b9e5d1c1be59d46becfff8db28",
          "grade": true,
          "grade_id": "cell-d56cadb33744b38c",
          "locked": true,
          "points": 1.3399999999999999,
          "schema_version": 3,
          "solution": false,
          "task": false
        },
        "id": "V5gYknzf9CPS",
        "colab": {
          "base_uri": "https://localhost:8080/",
          "height": 49,
          "referenced_widgets": [
            "549da9f1e8e44c34a98dfeda9e60fd72",
            "14b09dbbad674e4489e3667b2f89b971",
            "55050ad497c84846b78f397ff820090c",
            "7e1d657b3174402096a2d9f2aa0b5da1",
            "7d3f2322343340348b9a400ace26c41d",
            "50188b39acf44f76aa527f2ba68b956a",
            "280e84339440496385cde2731fd8775c",
            "edbb8d6b277c4e7d842080e5c48ec4fd",
            "3fefc3152edc4c7f9b61b222627e9a5c",
            "0fddd0ce0f81483eaa2cc08322a22811",
            "4a842e5942cb44d3b45bb29f2874c4a5"
          ]
        },
        "outputId": "18b03f71-5403-4e52-ba77-b845c54f1831"
      },
      "outputs": [
        {
          "output_type": "display_data",
          "data": {
            "text/plain": [
              "  0%|          | 0/2485 [00:00<?, ?it/s]"
            ],
            "application/vnd.jupyter.widget-view+json": {
              "version_major": 2,
              "version_minor": 0,
              "model_id": "549da9f1e8e44c34a98dfeda9e60fd72"
            }
          },
          "metadata": {}
        }
      ],
      "source": [
        "best_p, best_q = grid_search_pq(gcc_cora)\n",
        "rws = biased_random_walks(gcc_cora, walk_number=10, walk_length=30, p=best_p, q=best_q)\n",
        "emb = node2vec_encode(gcc_cora, walks=rws, dimensions=16, window_size=10)\n",
        "category_id = nx.get_node_attributes(gcc_cora, 'category')\n",
        "category_id = list(category_id.values())\n",
        "X_train, X_test, y_train, y_test = train_test_split(emb, category_id, test_size=0.95, random_state=0)\n",
        "clf = GradientBoostingClassifier()\n",
        "clf.fit(X_train, y_train)\n",
        "y_pred = clf.predict(X_test)\n",
        "assert f1_score(y_test, y_pred, average='micro') > 0.65"
      ]
    },
    {
      "cell_type": "code",
      "source": [
        "f1_score(y_test, y_pred, average='micro')"
      ],
      "metadata": {
        "colab": {
          "base_uri": "https://localhost:8080/"
        },
        "id": "fvzxE9M-zBNx",
        "outputId": "7001c8c5-1af8-4745-8804-b6d17b35b28d"
      },
      "execution_count": 65,
      "outputs": [
        {
          "output_type": "execute_result",
          "data": {
            "text/plain": [
              "0.6645489199491741"
            ]
          },
          "metadata": {},
          "execution_count": 65
        }
      ]
    },
    {
      "cell_type": "code",
      "execution_count": 66,
      "metadata": {
        "id": "HvmsASCr9CPS",
        "colab": {
          "base_uri": "https://localhost:8080/",
          "height": 390
        },
        "outputId": "c732519b-f249-401d-b94f-777fc29259cf"
      },
      "outputs": [
        {
          "output_type": "display_data",
          "data": {
            "text/plain": [
              "<Figure size 576x432 with 1 Axes>"
            ],
            "image/png": "[encoded data removed]"
          },
          "metadata": {
            "needs_background": "light"
          }
        }
      ],
      "source": [
        "plt.figure(figsize=(8, 6))\n",
        "model = PCA(n_components=2)\n",
        "model.fit(emb)\n",
        "emb = model.transform(emb)\n",
        "plt.scatter(emb[:, 0], emb[:, 1], c=category_id, cmap=plt.cm.Set1, s=10)\n",
        "plt.title('Node2Vec')\n",
        "plt.show()"
      ]
    }
  ],
  "metadata": {
    "kernelspec": {
      "display_name": "Python 3",
      "language": "python",
      "name": "python3"
    },
    "language_info": {
      "codemirror_mode": {
        "name": "ipython",
        "version": 3
      },
      "file_extension": ".py",
      "mimetype": "text/x-python",
      "name": "python",
      "nbconvert_exporter": "python",
      "pygments_lexer": "ipython3",
      "version": "3.7.4"
    },
    "colab": {
      "name": "assignment_9.ipynb",
      "provenance": [],
      "collapsed_sections": [],
      "toc_visible": true
    },
    "widgets": {
      "application/vnd.jupyter.widget-state+json": {
        "c50b1360888c4f04b318b4d075f40621": {
          "model_module": "@jupyter-widgets/controls",
          "model_name": "HBoxModel",
          "model_module_version": "1.5.0",
          "state": {
            "_dom_classes": [],
            "_model_module": "@jupyter-widgets/controls",
            "_model_module_version": "1.5.0",
            "_model_name": "HBoxModel",
            "_view_count": null,
            "_view_module": "@jupyter-widgets/controls",
            "_view_module_version": "1.5.0",
            "_view_name": "HBoxView",
            "box_style": "",
            "children": [
              "IPY_MODEL_7701db3153e5486dbe561b896112b9c2",
              "IPY_MODEL_b714c7a1d73f42659373345fb550ed6e",
              "IPY_MODEL_42f231b52b914006b24fabd41e3d52cc"
            ],
            "layout": "IPY_MODEL_3e4d50e19a6c4d36bc6da365b00d4881"
          }
        },
        "7701db3153e5486dbe561b896112b9c2": {
          "model_module": "@jupyter-widgets/controls",
          "model_name": "HTMLModel",
          "model_module_version": "1.5.0",
          "state": {
            "_dom_classes": [],
            "_model_module": "@jupyter-widgets/controls",
            "_model_module_version": "1.5.0",
            "_model_name": "HTMLModel",
            "_view_count": null,
            "_view_module": "@jupyter-widgets/controls",
            "_view_module_version": "1.5.0",
            "_view_name": "HTMLView",
            "description": "",
            "description_tooltip": null,
            "layout": "IPY_MODEL_0a01616fde334e6ab2402d1abe2e64a6",
            "placeholder": "​",
            "style": "IPY_MODEL_acde40c6853d4244bae2f47c0be0a61b",
            "value": "100%"
          }
        },
        "b714c7a1d73f42659373345fb550ed6e": {
          "model_module": "@jupyter-widgets/controls",
          "model_name": "FloatProgressModel",
          "model_module_version": "1.5.0",
          "state": {
            "_dom_classes": [],
            "_model_module": "@jupyter-widgets/controls",
            "_model_module_version": "1.5.0",
            "_model_name": "FloatProgressModel",
            "_view_count": null,
            "_view_module": "@jupyter-widgets/controls",
            "_view_module_version": "1.5.0",
            "_view_name": "ProgressView",
            "bar_style": "success",
            "description": "",
            "description_tooltip": null,
            "layout": "IPY_MODEL_3ba5da531c0840df8aa4a34fe22bd995",
            "max": 4,
            "min": 0,
            "orientation": "horizontal",
            "style": "IPY_MODEL_752c8763d52d427ea2826a0b736439c0",
            "value": 4
          }
        },
        "42f231b52b914006b24fabd41e3d52cc": {
          "model_module": "@jupyter-widgets/controls",
          "model_name": "HTMLModel",
          "model_module_version": "1.5.0",
          "state": {
            "_dom_classes": [],
            "_model_module": "@jupyter-widgets/controls",
            "_model_module_version": "1.5.0",
            "_model_name": "HTMLModel",
            "_view_count": null,
            "_view_module": "@jupyter-widgets/controls",
            "_view_module_version": "1.5.0",
            "_view_name": "HTMLView",
            "description": "",
            "description_tooltip": null,
            "layout": "IPY_MODEL_0fb490c399d34a9abeb95df950fc79d0",
            "placeholder": "​",
            "style": "IPY_MODEL_601bb7b287144c40a1661c60239cfedf",
            "value": " 4/4 [01:53&lt;00:00,  8.42s/it]"
          }
        },
        "3e4d50e19a6c4d36bc6da365b00d4881": {
          "model_module": "@jupyter-widgets/base",
          "model_name": "LayoutModel",
          "model_module_version": "1.2.0",
          "state": {
            "_model_module": "@jupyter-widgets/base",
            "_model_module_version": "1.2.0",
            "_model_name": "LayoutModel",
            "_view_count": null,
            "_view_module": "@jupyter-widgets/base",
            "_view_module_version": "1.2.0",
            "_view_name": "LayoutView",
            "align_content": null,
            "align_items": null,
            "align_self": null,
            "border": null,
            "bottom": null,
            "display": null,
            "flex": null,
            "flex_flow": null,
            "grid_area": null,
            "grid_auto_columns": null,
            "grid_auto_flow": null,
            "grid_auto_rows": null,
            "grid_column": null,
            "grid_gap": null,
            "grid_row": null,
            "grid_template_areas": null,
            "grid_template_columns": null,
            "grid_template_rows": null,
            "height": null,
            "justify_content": null,
            "justify_items": null,
            "left": null,
            "margin": null,
            "max_height": null,
            "max_width": null,
            "min_height": null,
            "min_width": null,
            "object_fit": null,
            "object_position": null,
            "order": null,
            "overflow": null,
            "overflow_x": null,
            "overflow_y": null,
            "padding": null,
            "right": null,
            "top": null,
            "visibility": null,
            "width": null
          }
        },
        "0a01616fde334e6ab2402d1abe2e64a6": {
          "model_module": "@jupyter-widgets/base",
          "model_name": "LayoutModel",
          "model_module_version": "1.2.0",
          "state": {
            "_model_module": "@jupyter-widgets/base",
            "_model_module_version": "1.2.0",
            "_model_name": "LayoutModel",
            "_view_count": null,
            "_view_module": "@jupyter-widgets/base",
            "_view_module_version": "1.2.0",
            "_view_name": "LayoutView",
            "align_content": null,
            "align_items": null,
            "align_self": null,
            "border": null,
            "bottom": null,
            "display": null,
            "flex": null,
            "flex_flow": null,
            "grid_area": null,
            "grid_auto_columns": null,
            "grid_auto_flow": null,
            "grid_auto_rows": null,
            "grid_column": null,
            "grid_gap": null,
            "grid_row": null,
            "grid_template_areas": null,
            "grid_template_columns": null,
            "grid_template_rows": null,
            "height": null,
            "justify_content": null,
            "justify_items": null,
            "left": null,
            "margin": null,
            "max_height": null,
            "max_width": null,
            "min_height": null,
            "min_width": null,
            "object_fit": null,
            "object_position": null,
            "order": null,
            "overflow": null,
            "overflow_x": null,
            "overflow_y": null,
            "padding": null,
            "right": null,
            "top": null,
            "visibility": null,
            "width": null
          }
        },
        "acde40c6853d4244bae2f47c0be0a61b": {
          "model_module": "@jupyter-widgets/controls",
          "model_name": "DescriptionStyleModel",
          "model_module_version": "1.5.0",
          "state": {
            "_model_module": "@jupyter-widgets/controls",
            "_model_module_version": "1.5.0",
            "_model_name": "DescriptionStyleModel",
            "_view_count": null,
            "_view_module": "@jupyter-widgets/base",
            "_view_module_version": "1.2.0",
            "_view_name": "StyleView",
            "description_width": ""
          }
        },
        "3ba5da531c0840df8aa4a34fe22bd995": {
          "model_module": "@jupyter-widgets/base",
          "model_name": "LayoutModel",
          "model_module_version": "1.2.0",
          "state": {
            "_model_module": "@jupyter-widgets/base",
            "_model_module_version": "1.2.0",
            "_model_name": "LayoutModel",
            "_view_count": null,
            "_view_module": "@jupyter-widgets/base",
            "_view_module_version": "1.2.0",
            "_view_name": "LayoutView",
            "align_content": null,
            "align_items": null,
            "align_self": null,
            "border": null,
            "bottom": null,
            "display": null,
            "flex": null,
            "flex_flow": null,
            "grid_area": null,
            "grid_auto_columns": null,
            "grid_auto_flow": null,
            "grid_auto_rows": null,
            "grid_column": null,
            "grid_gap": null,
            "grid_row": null,
            "grid_template_areas": null,
            "grid_template_columns": null,
            "grid_template_rows": null,
            "height": null,
            "justify_content": null,
            "justify_items": null,
            "left": null,
            "margin": null,
            "max_height": null,
            "max_width": null,
            "min_height": null,
            "min_width": null,
            "object_fit": null,
            "object_position": null,
            "order": null,
            "overflow": null,
            "overflow_x": null,
            "overflow_y": null,
            "padding": null,
            "right": null,
            "top": null,
            "visibility": null,
            "width": null
          }
        },
        "752c8763d52d427ea2826a0b736439c0": {
          "model_module": "@jupyter-widgets/controls",
          "model_name": "ProgressStyleModel",
          "model_module_version": "1.5.0",
          "state": {
            "_model_module": "@jupyter-widgets/controls",
            "_model_module_version": "1.5.0",
            "_model_name": "ProgressStyleModel",
            "_view_count": null,
            "_view_module": "@jupyter-widgets/base",
            "_view_module_version": "1.2.0",
            "_view_name": "StyleView",
            "bar_color": null,
            "description_width": ""
          }
        },
        "0fb490c399d34a9abeb95df950fc79d0": {
          "model_module": "@jupyter-widgets/base",
          "model_name": "LayoutModel",
          "model_module_version": "1.2.0",
          "state": {
            "_model_module": "@jupyter-widgets/base",
            "_model_module_version": "1.2.0",
            "_model_name": "LayoutModel",
            "_view_count": null,
            "_view_module": "@jupyter-widgets/base",
            "_view_module_version": "1.2.0",
            "_view_name": "LayoutView",
            "align_content": null,
            "align_items": null,
            "align_self": null,
            "border": null,
            "bottom": null,
            "display": null,
            "flex": null,
            "flex_flow": null,
            "grid_area": null,
            "grid_auto_columns": null,
            "grid_auto_flow": null,
            "grid_auto_rows": null,
            "grid_column": null,
            "grid_gap": null,
            "grid_row": null,
            "grid_template_areas": null,
            "grid_template_columns": null,
            "grid_template_rows": null,
            "height": null,
            "justify_content": null,
            "justify_items": null,
            "left": null,
            "margin": null,
            "max_height": null,
            "max_width": null,
            "min_height": null,
            "min_width": null,
            "object_fit": null,
            "object_position": null,
            "order": null,
            "overflow": null,
            "overflow_x": null,
            "overflow_y": null,
            "padding": null,
            "right": null,
            "top": null,
            "visibility": null,
            "width": null
          }
        },
        "601bb7b287144c40a1661c60239cfedf": {
          "model_module": "@jupyter-widgets/controls",
          "model_name": "DescriptionStyleModel",
          "model_module_version": "1.5.0",
          "state": {
            "_model_module": "@jupyter-widgets/controls",
            "_model_module_version": "1.5.0",
            "_model_name": "DescriptionStyleModel",
            "_view_count": null,
            "_view_module": "@jupyter-widgets/base",
            "_view_module_version": "1.2.0",
            "_view_name": "StyleView",
            "description_width": ""
          }
        },
        "ad4694d8eb1d40da927a824ec6247022": {
          "model_module": "@jupyter-widgets/controls",
          "model_name": "HBoxModel",
          "model_module_version": "1.5.0",
          "state": {
            "_dom_classes": [],
            "_model_module": "@jupyter-widgets/controls",
            "_model_module_version": "1.5.0",
            "_model_name": "HBoxModel",
            "_view_count": null,
            "_view_module": "@jupyter-widgets/controls",
            "_view_module_version": "1.5.0",
            "_view_name": "HBoxView",
            "box_style": "",
            "children": [
              "IPY_MODEL_f70c9014b43d413dbafb275e1009d2c3",
              "IPY_MODEL_2997a4bada0f41baaec3851d6fb86903",
              "IPY_MODEL_e68958aef4a3466d8e65f976a0e25f12"
            ],
            "layout": "IPY_MODEL_af27780cf4024910b7d8034af38c6d64"
          }
        },
        "f70c9014b43d413dbafb275e1009d2c3": {
          "model_module": "@jupyter-widgets/controls",
          "model_name": "HTMLModel",
          "model_module_version": "1.5.0",
          "state": {
            "_dom_classes": [],
            "_model_module": "@jupyter-widgets/controls",
            "_model_module_version": "1.5.0",
            "_model_name": "HTMLModel",
            "_view_count": null,
            "_view_module": "@jupyter-widgets/controls",
            "_view_module_version": "1.5.0",
            "_view_name": "HTMLView",
            "description": "",
            "description_tooltip": null,
            "layout": "IPY_MODEL_120a872e468e465cb3a36bc9ea5e299f",
            "placeholder": "​",
            "style": "IPY_MODEL_82805e1944dd4163ba1fe419b485b283",
            "value": "100%"
          }
        },
        "2997a4bada0f41baaec3851d6fb86903": {
          "model_module": "@jupyter-widgets/controls",
          "model_name": "FloatProgressModel",
          "model_module_version": "1.5.0",
          "state": {
            "_dom_classes": [],
            "_model_module": "@jupyter-widgets/controls",
            "_model_module_version": "1.5.0",
            "_model_name": "FloatProgressModel",
            "_view_count": null,
            "_view_module": "@jupyter-widgets/controls",
            "_view_module_version": "1.5.0",
            "_view_name": "ProgressView",
            "bar_style": "success",
            "description": "",
            "description_tooltip": null,
            "layout": "IPY_MODEL_d3d70a4836af4d83955a0af1e5b04dd5",
            "max": 4,
            "min": 0,
            "orientation": "horizontal",
            "style": "IPY_MODEL_a02afdfbd5804ae69f07006485d418d6",
            "value": 4
          }
        },
        "e68958aef4a3466d8e65f976a0e25f12": {
          "model_module": "@jupyter-widgets/controls",
          "model_name": "HTMLModel",
          "model_module_version": "1.5.0",
          "state": {
            "_dom_classes": [],
            "_model_module": "@jupyter-widgets/controls",
            "_model_module_version": "1.5.0",
            "_model_name": "HTMLModel",
            "_view_count": null,
            "_view_module": "@jupyter-widgets/controls",
            "_view_module_version": "1.5.0",
            "_view_name": "HTMLView",
            "description": "",
            "description_tooltip": null,
            "layout": "IPY_MODEL_345a1803839640b0b43332b9a1ab861e",
            "placeholder": "​",
            "style": "IPY_MODEL_9db3b29099264eaf80ffebbdd48d098c",
            "value": " 4/4 [01:35&lt;00:00, 23.55s/it]"
          }
        },
        "af27780cf4024910b7d8034af38c6d64": {
          "model_module": "@jupyter-widgets/base",
          "model_name": "LayoutModel",
          "model_module_version": "1.2.0",
          "state": {
            "_model_module": "@jupyter-widgets/base",
            "_model_module_version": "1.2.0",
            "_model_name": "LayoutModel",
            "_view_count": null,
            "_view_module": "@jupyter-widgets/base",
            "_view_module_version": "1.2.0",
            "_view_name": "LayoutView",
            "align_content": null,
            "align_items": null,
            "align_self": null,
            "border": null,
            "bottom": null,
            "display": null,
            "flex": null,
            "flex_flow": null,
            "grid_area": null,
            "grid_auto_columns": null,
            "grid_auto_flow": null,
            "grid_auto_rows": null,
            "grid_column": null,
            "grid_gap": null,
            "grid_row": null,
            "grid_template_areas": null,
            "grid_template_columns": null,
            "grid_template_rows": null,
            "height": null,
            "justify_content": null,
            "justify_items": null,
            "left": null,
            "margin": null,
            "max_height": null,
            "max_width": null,
            "min_height": null,
            "min_width": null,
            "object_fit": null,
            "object_position": null,
            "order": null,
            "overflow": null,
            "overflow_x": null,
            "overflow_y": null,
            "padding": null,
            "right": null,
            "top": null,
            "visibility": null,
            "width": null
          }
        },
        "120a872e468e465cb3a36bc9ea5e299f": {
          "model_module": "@jupyter-widgets/base",
          "model_name": "LayoutModel",
          "model_module_version": "1.2.0",
          "state": {
            "_model_module": "@jupyter-widgets/base",
            "_model_module_version": "1.2.0",
            "_model_name": "LayoutModel",
            "_view_count": null,
            "_view_module": "@jupyter-widgets/base",
            "_view_module_version": "1.2.0",
            "_view_name": "LayoutView",
            "align_content": null,
            "align_items": null,
            "align_self": null,
            "border": null,
            "bottom": null,
            "display": null,
            "flex": null,
            "flex_flow": null,
            "grid_area": null,
            "grid_auto_columns": null,
            "grid_auto_flow": null,
            "grid_auto_rows": null,
            "grid_column": null,
            "grid_gap": null,
            "grid_row": null,
            "grid_template_areas": null,
            "grid_template_columns": null,
            "grid_template_rows": null,
            "height": null,
            "justify_content": null,
            "justify_items": null,
            "left": null,
            "margin": null,
            "max_height": null,
            "max_width": null,
            "min_height": null,
            "min_width": null,
            "object_fit": null,
            "object_position": null,
            "order": null,
            "overflow": null,
            "overflow_x": null,
            "overflow_y": null,
            "padding": null,
            "right": null,
            "top": null,
            "visibility": null,
            "width": null
          }
        },
        "82805e1944dd4163ba1fe419b485b283": {
          "model_module": "@jupyter-widgets/controls",
          "model_name": "DescriptionStyleModel",
          "model_module_version": "1.5.0",
          "state": {
            "_model_module": "@jupyter-widgets/controls",
            "_model_module_version": "1.5.0",
            "_model_name": "DescriptionStyleModel",
            "_view_count": null,
            "_view_module": "@jupyter-widgets/base",
            "_view_module_version": "1.2.0",
            "_view_name": "StyleView",
            "description_width": ""
          }
        },
        "d3d70a4836af4d83955a0af1e5b04dd5": {
          "model_module": "@jupyter-widgets/base",
          "model_name": "LayoutModel",
          "model_module_version": "1.2.0",
          "state": {
            "_model_module": "@jupyter-widgets/base",
            "_model_module_version": "1.2.0",
            "_model_name": "LayoutModel",
            "_view_count": null,
            "_view_module": "@jupyter-widgets/base",
            "_view_module_version": "1.2.0",
            "_view_name": "LayoutView",
            "align_content": null,
            "align_items": null,
            "align_self": null,
            "border": null,
            "bottom": null,
            "display": null,
            "flex": null,
            "flex_flow": null,
            "grid_area": null,
            "grid_auto_columns": null,
            "grid_auto_flow": null,
            "grid_auto_rows": null,
            "grid_column": null,
            "grid_gap": null,
            "grid_row": null,
            "grid_template_areas": null,
            "grid_template_columns": null,
            "grid_template_rows": null,
            "height": null,
            "justify_content": null,
            "justify_items": null,
            "left": null,
            "margin": null,
            "max_height": null,
            "max_width": null,
            "min_height": null,
            "min_width": null,
            "object_fit": null,
            "object_position": null,
            "order": null,
            "overflow": null,
            "overflow_x": null,
            "overflow_y": null,
            "padding": null,
            "right": null,
            "top": null,
            "visibility": null,
            "width": null
          }
        },
        "a02afdfbd5804ae69f07006485d418d6": {
          "model_module": "@jupyter-widgets/controls",
          "model_name": "ProgressStyleModel",
          "model_module_version": "1.5.0",
          "state": {
            "_model_module": "@jupyter-widgets/controls",
            "_model_module_version": "1.5.0",
            "_model_name": "ProgressStyleModel",
            "_view_count": null,
            "_view_module": "@jupyter-widgets/base",
            "_view_module_version": "1.2.0",
            "_view_name": "StyleView",
            "bar_color": null,
            "description_width": ""
          }
        },
        "345a1803839640b0b43332b9a1ab861e": {
          "model_module": "@jupyter-widgets/base",
          "model_name": "LayoutModel",
          "model_module_version": "1.2.0",
          "state": {
            "_model_module": "@jupyter-widgets/base",
            "_model_module_version": "1.2.0",
            "_model_name": "LayoutModel",
            "_view_count": null,
            "_view_module": "@jupyter-widgets/base",
            "_view_module_version": "1.2.0",
            "_view_name": "LayoutView",
            "align_content": null,
            "align_items": null,
            "align_self": null,
            "border": null,
            "bottom": null,
            "display": null,
            "flex": null,
            "flex_flow": null,
            "grid_area": null,
            "grid_auto_columns": null,
            "grid_auto_flow": null,
            "grid_auto_rows": null,
            "grid_column": null,
            "grid_gap": null,
            "grid_row": null,
            "grid_template_areas": null,
            "grid_template_columns": null,
            "grid_template_rows": null,
            "height": null,
            "justify_content": null,
            "justify_items": null,
            "left": null,
            "margin": null,
            "max_height": null,
            "max_width": null,
            "min_height": null,
            "min_width": null,
            "object_fit": null,
            "object_position": null,
            "order": null,
            "overflow": null,
            "overflow_x": null,
            "overflow_y": null,
            "padding": null,
            "right": null,
            "top": null,
            "visibility": null,
            "width": null
          }
        },
        "9db3b29099264eaf80ffebbdd48d098c": {
          "model_module": "@jupyter-widgets/controls",
          "model_name": "DescriptionStyleModel",
          "model_module_version": "1.5.0",
          "state": {
            "_model_module": "@jupyter-widgets/controls",
            "_model_module_version": "1.5.0",
            "_model_name": "DescriptionStyleModel",
            "_view_count": null,
            "_view_module": "@jupyter-widgets/base",
            "_view_module_version": "1.2.0",
            "_view_name": "StyleView",
            "description_width": ""
          }
        },
        "0320f1fa20834268b8426bc9b238ceb1": {
          "model_module": "@jupyter-widgets/controls",
          "model_name": "HBoxModel",
          "model_module_version": "1.5.0",
          "state": {
            "_dom_classes": [],
            "_model_module": "@jupyter-widgets/controls",
            "_model_module_version": "1.5.0",
            "_model_name": "HBoxModel",
            "_view_count": null,
            "_view_module": "@jupyter-widgets/controls",
            "_view_module_version": "1.5.0",
            "_view_name": "HBoxView",
            "box_style": "",
            "children": [
              "IPY_MODEL_d434125f393b4bd59b503d0f258e815f",
              "IPY_MODEL_38ed13298c7944a1b3181a1d9c3b204e",
              "IPY_MODEL_d2f511c6260741a09c05f69dcc8f334d"
            ],
            "layout": "IPY_MODEL_08ac1753736c459f9999cb09e423e099"
          }
        },
        "d434125f393b4bd59b503d0f258e815f": {
          "model_module": "@jupyter-widgets/controls",
          "model_name": "HTMLModel",
          "model_module_version": "1.5.0",
          "state": {
            "_dom_classes": [],
            "_model_module": "@jupyter-widgets/controls",
            "_model_module_version": "1.5.0",
            "_model_name": "HTMLModel",
            "_view_count": null,
            "_view_module": "@jupyter-widgets/controls",
            "_view_module_version": "1.5.0",
            "_view_name": "HTMLView",
            "description": "",
            "description_tooltip": null,
            "layout": "IPY_MODEL_55dc42092faa48a3a7220077a54a7a42",
            "placeholder": "​",
            "style": "IPY_MODEL_dd1f320ac00841c297645808b94f5daa",
            "value": "100%"
          }
        },
        "38ed13298c7944a1b3181a1d9c3b204e": {
          "model_module": "@jupyter-widgets/controls",
          "model_name": "FloatProgressModel",
          "model_module_version": "1.5.0",
          "state": {
            "_dom_classes": [],
            "_model_module": "@jupyter-widgets/controls",
            "_model_module_version": "1.5.0",
            "_model_name": "FloatProgressModel",
            "_view_count": null,
            "_view_module": "@jupyter-widgets/controls",
            "_view_module_version": "1.5.0",
            "_view_name": "ProgressView",
            "bar_style": "success",
            "description": "",
            "description_tooltip": null,
            "layout": "IPY_MODEL_fefa14e2952b43cb863a239604f157d2",
            "max": 20,
            "min": 0,
            "orientation": "horizontal",
            "style": "IPY_MODEL_481187eca83846eb8f09ce894ca1a93e",
            "value": 20
          }
        },
        "d2f511c6260741a09c05f69dcc8f334d": {
          "model_module": "@jupyter-widgets/controls",
          "model_name": "HTMLModel",
          "model_module_version": "1.5.0",
          "state": {
            "_dom_classes": [],
            "_model_module": "@jupyter-widgets/controls",
            "_model_module_version": "1.5.0",
            "_model_name": "HTMLModel",
            "_view_count": null,
            "_view_module": "@jupyter-widgets/controls",
            "_view_module_version": "1.5.0",
            "_view_name": "HTMLView",
            "description": "",
            "description_tooltip": null,
            "layout": "IPY_MODEL_3604b715a14a476796b4a7cd86a9caeb",
            "placeholder": "​",
            "style": "IPY_MODEL_cc46162d58d24bf682a361017170f0b9",
            "value": " 20/20 [06:48&lt;00:00, 15.22s/it]"
          }
        },
        "08ac1753736c459f9999cb09e423e099": {
          "model_module": "@jupyter-widgets/base",
          "model_name": "LayoutModel",
          "model_module_version": "1.2.0",
          "state": {
            "_model_module": "@jupyter-widgets/base",
            "_model_module_version": "1.2.0",
            "_model_name": "LayoutModel",
            "_view_count": null,
            "_view_module": "@jupyter-widgets/base",
            "_view_module_version": "1.2.0",
            "_view_name": "LayoutView",
            "align_content": null,
            "align_items": null,
            "align_self": null,
            "border": null,
            "bottom": null,
            "display": null,
            "flex": null,
            "flex_flow": null,
            "grid_area": null,
            "grid_auto_columns": null,
            "grid_auto_flow": null,
            "grid_auto_rows": null,
            "grid_column": null,
            "grid_gap": null,
            "grid_row": null,
            "grid_template_areas": null,
            "grid_template_columns": null,
            "grid_template_rows": null,
            "height": null,
            "justify_content": null,
            "justify_items": null,
            "left": null,
            "margin": null,
            "max_height": null,
            "max_width": null,
            "min_height": null,
            "min_width": null,
            "object_fit": null,
            "object_position": null,
            "order": null,
            "overflow": null,
            "overflow_x": null,
            "overflow_y": null,
            "padding": null,
            "right": null,
            "top": null,
            "visibility": null,
            "width": null
          }
        },
        "55dc42092faa48a3a7220077a54a7a42": {
          "model_module": "@jupyter-widgets/base",
          "model_name": "LayoutModel",
          "model_module_version": "1.2.0",
          "state": {
            "_model_module": "@jupyter-widgets/base",
            "_model_module_version": "1.2.0",
            "_model_name": "LayoutModel",
            "_view_count": null,
            "_view_module": "@jupyter-widgets/base",
            "_view_module_version": "1.2.0",
            "_view_name": "LayoutView",
            "align_content": null,
            "align_items": null,
            "align_self": null,
            "border": null,
            "bottom": null,
            "display": null,
            "flex": null,
            "flex_flow": null,
            "grid_area": null,
            "grid_auto_columns": null,
            "grid_auto_flow": null,
            "grid_auto_rows": null,
            "grid_column": null,
            "grid_gap": null,
            "grid_row": null,
            "grid_template_areas": null,
            "grid_template_columns": null,
            "grid_template_rows": null,
            "height": null,
            "justify_content": null,
            "justify_items": null,
            "left": null,
            "margin": null,
            "max_height": null,
            "max_width": null,
            "min_height": null,
            "min_width": null,
            "object_fit": null,
            "object_position": null,
            "order": null,
            "overflow": null,
            "overflow_x": null,
            "overflow_y": null,
            "padding": null,
            "right": null,
            "top": null,
            "visibility": null,
            "width": null
          }
        },
        "dd1f320ac00841c297645808b94f5daa": {
          "model_module": "@jupyter-widgets/controls",
          "model_name": "DescriptionStyleModel",
          "model_module_version": "1.5.0",
          "state": {
            "_model_module": "@jupyter-widgets/controls",
            "_model_module_version": "1.5.0",
            "_model_name": "DescriptionStyleModel",
            "_view_count": null,
            "_view_module": "@jupyter-widgets/base",
            "_view_module_version": "1.2.0",
            "_view_name": "StyleView",
            "description_width": ""
          }
        },
        "fefa14e2952b43cb863a239604f157d2": {
          "model_module": "@jupyter-widgets/base",
          "model_name": "LayoutModel",
          "model_module_version": "1.2.0",
          "state": {
            "_model_module": "@jupyter-widgets/base",
            "_model_module_version": "1.2.0",
            "_model_name": "LayoutModel",
            "_view_count": null,
            "_view_module": "@jupyter-widgets/base",
            "_view_module_version": "1.2.0",
            "_view_name": "LayoutView",
            "align_content": null,
            "align_items": null,
            "align_self": null,
            "border": null,
            "bottom": null,
            "display": null,
            "flex": null,
            "flex_flow": null,
            "grid_area": null,
            "grid_auto_columns": null,
            "grid_auto_flow": null,
            "grid_auto_rows": null,
            "grid_column": null,
            "grid_gap": null,
            "grid_row": null,
            "grid_template_areas": null,
            "grid_template_columns": null,
            "grid_template_rows": null,
            "height": null,
            "justify_content": null,
            "justify_items": null,
            "left": null,
            "margin": null,
            "max_height": null,
            "max_width": null,
            "min_height": null,
            "min_width": null,
            "object_fit": null,
            "object_position": null,
            "order": null,
            "overflow": null,
            "overflow_x": null,
            "overflow_y": null,
            "padding": null,
            "right": null,
            "top": null,
            "visibility": null,
            "width": null
          }
        },
        "481187eca83846eb8f09ce894ca1a93e": {
          "model_module": "@jupyter-widgets/controls",
          "model_name": "ProgressStyleModel",
          "model_module_version": "1.5.0",
          "state": {
            "_model_module": "@jupyter-widgets/controls",
            "_model_module_version": "1.5.0",
            "_model_name": "ProgressStyleModel",
            "_view_count": null,
            "_view_module": "@jupyter-widgets/base",
            "_view_module_version": "1.2.0",
            "_view_name": "StyleView",
            "bar_color": null,
            "description_width": ""
          }
        },
        "3604b715a14a476796b4a7cd86a9caeb": {
          "model_module": "@jupyter-widgets/base",
          "model_name": "LayoutModel",
          "model_module_version": "1.2.0",
          "state": {
            "_model_module": "@jupyter-widgets/base",
            "_model_module_version": "1.2.0",
            "_model_name": "LayoutModel",
            "_view_count": null,
            "_view_module": "@jupyter-widgets/base",
            "_view_module_version": "1.2.0",
            "_view_name": "LayoutView",
            "align_content": null,
            "align_items": null,
            "align_self": null,
            "border": null,
            "bottom": null,
            "display": null,
            "flex": null,
            "flex_flow": null,
            "grid_area": null,
            "grid_auto_columns": null,
            "grid_auto_flow": null,
            "grid_auto_rows": null,
            "grid_column": null,
            "grid_gap": null,
            "grid_row": null,
            "grid_template_areas": null,
            "grid_template_columns": null,
            "grid_template_rows": null,
            "height": null,
            "justify_content": null,
            "justify_items": null,
            "left": null,
            "margin": null,
            "max_height": null,
            "max_width": null,
            "min_height": null,
            "min_width": null,
            "object_fit": null,
            "object_position": null,
            "order": null,
            "overflow": null,
            "overflow_x": null,
            "overflow_y": null,
            "padding": null,
            "right": null,
            "top": null,
            "visibility": null,
            "width": null
          }
        },
        "cc46162d58d24bf682a361017170f0b9": {
          "model_module": "@jupyter-widgets/controls",
          "model_name": "DescriptionStyleModel",
          "model_module_version": "1.5.0",
          "state": {
            "_model_module": "@jupyter-widgets/controls",
            "_model_module_version": "1.5.0",
            "_model_name": "DescriptionStyleModel",
            "_view_count": null,
            "_view_module": "@jupyter-widgets/base",
            "_view_module_version": "1.2.0",
            "_view_name": "StyleView",
            "description_width": ""
          }
        },
        "d749bdd484df4a9cb77f9f0dd8b1edab": {
          "model_module": "@jupyter-widgets/controls",
          "model_name": "HBoxModel",
          "model_module_version": "1.5.0",
          "state": {
            "_dom_classes": [],
            "_model_module": "@jupyter-widgets/controls",
            "_model_module_version": "1.5.0",
            "_model_name": "HBoxModel",
            "_view_count": null,
            "_view_module": "@jupyter-widgets/controls",
            "_view_module_version": "1.5.0",
            "_view_name": "HBoxView",
            "box_style": "",
            "children": [
              "IPY_MODEL_5419255aba4540d9b2beb375db3c6b34",
              "IPY_MODEL_6806aeed4af549c297514ec463de1f97",
              "IPY_MODEL_5ff40025dae24cadb6072039fd77cf41"
            ],
            "layout": "IPY_MODEL_8486068e36cf4db3a8c434cb11fc6e3a"
          }
        },
        "5419255aba4540d9b2beb375db3c6b34": {
          "model_module": "@jupyter-widgets/controls",
          "model_name": "HTMLModel",
          "model_module_version": "1.5.0",
          "state": {
            "_dom_classes": [],
            "_model_module": "@jupyter-widgets/controls",
            "_model_module_version": "1.5.0",
            "_model_name": "HTMLModel",
            "_view_count": null,
            "_view_module": "@jupyter-widgets/controls",
            "_view_module_version": "1.5.0",
            "_view_name": "HTMLView",
            "description": "",
            "description_tooltip": null,
            "layout": "IPY_MODEL_ed8a82c8e04647ca851ef4a5c32544f9",
            "placeholder": "​",
            "style": "IPY_MODEL_7b79e990f7f24a72869d75098ead565f",
            "value": "100%"
          }
        },
        "6806aeed4af549c297514ec463de1f97": {
          "model_module": "@jupyter-widgets/controls",
          "model_name": "FloatProgressModel",
          "model_module_version": "1.5.0",
          "state": {
            "_dom_classes": [],
            "_model_module": "@jupyter-widgets/controls",
            "_model_module_version": "1.5.0",
            "_model_name": "FloatProgressModel",
            "_view_count": null,
            "_view_module": "@jupyter-widgets/controls",
            "_view_module_version": "1.5.0",
            "_view_name": "ProgressView",
            "bar_style": "success",
            "description": "",
            "description_tooltip": null,
            "layout": "IPY_MODEL_7063b9a964284ae8a7f6f51accf4de30",
            "max": 2485,
            "min": 0,
            "orientation": "horizontal",
            "style": "IPY_MODEL_b61cfed7a32f4aaeb58d20d0931f3d51",
            "value": 2485
          }
        },
        "5ff40025dae24cadb6072039fd77cf41": {
          "model_module": "@jupyter-widgets/controls",
          "model_name": "HTMLModel",
          "model_module_version": "1.5.0",
          "state": {
            "_dom_classes": [],
            "_model_module": "@jupyter-widgets/controls",
            "_model_module_version": "1.5.0",
            "_model_name": "HTMLModel",
            "_view_count": null,
            "_view_module": "@jupyter-widgets/controls",
            "_view_module_version": "1.5.0",
            "_view_name": "HTMLView",
            "description": "",
            "description_tooltip": null,
            "layout": "IPY_MODEL_bdb40bf24fcb48d1830fbabab93740ae",
            "placeholder": "​",
            "style": "IPY_MODEL_0db0ed43ce8b4f70839e102786979f44",
            "value": " 2485/2485 [00:36&lt;00:00, 73.35it/s]"
          }
        },
        "8486068e36cf4db3a8c434cb11fc6e3a": {
          "model_module": "@jupyter-widgets/base",
          "model_name": "LayoutModel",
          "model_module_version": "1.2.0",
          "state": {
            "_model_module": "@jupyter-widgets/base",
            "_model_module_version": "1.2.0",
            "_model_name": "LayoutModel",
            "_view_count": null,
            "_view_module": "@jupyter-widgets/base",
            "_view_module_version": "1.2.0",
            "_view_name": "LayoutView",
            "align_content": null,
            "align_items": null,
            "align_self": null,
            "border": null,
            "bottom": null,
            "display": null,
            "flex": null,
            "flex_flow": null,
            "grid_area": null,
            "grid_auto_columns": null,
            "grid_auto_flow": null,
            "grid_auto_rows": null,
            "grid_column": null,
            "grid_gap": null,
            "grid_row": null,
            "grid_template_areas": null,
            "grid_template_columns": null,
            "grid_template_rows": null,
            "height": null,
            "justify_content": null,
            "justify_items": null,
            "left": null,
            "margin": null,
            "max_height": null,
            "max_width": null,
            "min_height": null,
            "min_width": null,
            "object_fit": null,
            "object_position": null,
            "order": null,
            "overflow": null,
            "overflow_x": null,
            "overflow_y": null,
            "padding": null,
            "right": null,
            "top": null,
            "visibility": null,
            "width": null
          }
        },
        "ed8a82c8e04647ca851ef4a5c32544f9": {
          "model_module": "@jupyter-widgets/base",
          "model_name": "LayoutModel",
          "model_module_version": "1.2.0",
          "state": {
            "_model_module": "@jupyter-widgets/base",
            "_model_module_version": "1.2.0",
            "_model_name": "LayoutModel",
            "_view_count": null,
            "_view_module": "@jupyter-widgets/base",
            "_view_module_version": "1.2.0",
            "_view_name": "LayoutView",
            "align_content": null,
            "align_items": null,
            "align_self": null,
            "border": null,
            "bottom": null,
            "display": null,
            "flex": null,
            "flex_flow": null,
            "grid_area": null,
            "grid_auto_columns": null,
            "grid_auto_flow": null,
            "grid_auto_rows": null,
            "grid_column": null,
            "grid_gap": null,
            "grid_row": null,
            "grid_template_areas": null,
            "grid_template_columns": null,
            "grid_template_rows": null,
            "height": null,
            "justify_content": null,
            "justify_items": null,
            "left": null,
            "margin": null,
            "max_height": null,
            "max_width": null,
            "min_height": null,
            "min_width": null,
            "object_fit": null,
            "object_position": null,
            "order": null,
            "overflow": null,
            "overflow_x": null,
            "overflow_y": null,
            "padding": null,
            "right": null,
            "top": null,
            "visibility": null,
            "width": null
          }
        },
        "7b79e990f7f24a72869d75098ead565f": {
          "model_module": "@jupyter-widgets/controls",
          "model_name": "DescriptionStyleModel",
          "model_module_version": "1.5.0",
          "state": {
            "_model_module": "@jupyter-widgets/controls",
            "_model_module_version": "1.5.0",
            "_model_name": "DescriptionStyleModel",
            "_view_count": null,
            "_view_module": "@jupyter-widgets/base",
            "_view_module_version": "1.2.0",
            "_view_name": "StyleView",
            "description_width": ""
          }
        },
        "7063b9a964284ae8a7f6f51accf4de30": {
          "model_module": "@jupyter-widgets/base",
          "model_name": "LayoutModel",
          "model_module_version": "1.2.0",
          "state": {
            "_model_module": "@jupyter-widgets/base",
            "_model_module_version": "1.2.0",
            "_model_name": "LayoutModel",
            "_view_count": null,
            "_view_module": "@jupyter-widgets/base",
            "_view_module_version": "1.2.0",
            "_view_name": "LayoutView",
            "align_content": null,
            "align_items": null,
            "align_self": null,
            "border": null,
            "bottom": null,
            "display": null,
            "flex": null,
            "flex_flow": null,
            "grid_area": null,
            "grid_auto_columns": null,
            "grid_auto_flow": null,
            "grid_auto_rows": null,
            "grid_column": null,
            "grid_gap": null,
            "grid_row": null,
            "grid_template_areas": null,
            "grid_template_columns": null,
            "grid_template_rows": null,
            "height": null,
            "justify_content": null,
            "justify_items": null,
            "left": null,
            "margin": null,
            "max_height": null,
            "max_width": null,
            "min_height": null,
            "min_width": null,
            "object_fit": null,
            "object_position": null,
            "order": null,
            "overflow": null,
            "overflow_x": null,
            "overflow_y": null,
            "padding": null,
            "right": null,
            "top": null,
            "visibility": null,
            "width": null
          }
        },
        "b61cfed7a32f4aaeb58d20d0931f3d51": {
          "model_module": "@jupyter-widgets/controls",
          "model_name": "ProgressStyleModel",
          "model_module_version": "1.5.0",
          "state": {
            "_model_module": "@jupyter-widgets/controls",
            "_model_module_version": "1.5.0",
            "_model_name": "ProgressStyleModel",
            "_view_count": null,
            "_view_module": "@jupyter-widgets/base",
            "_view_module_version": "1.2.0",
            "_view_name": "StyleView",
            "bar_color": null,
            "description_width": ""
          }
        },
        "bdb40bf24fcb48d1830fbabab93740ae": {
          "model_module": "@jupyter-widgets/base",
          "model_name": "LayoutModel",
          "model_module_version": "1.2.0",
          "state": {
            "_model_module": "@jupyter-widgets/base",
            "_model_module_version": "1.2.0",
            "_model_name": "LayoutModel",
            "_view_count": null,
            "_view_module": "@jupyter-widgets/base",
            "_view_module_version": "1.2.0",
            "_view_name": "LayoutView",
            "align_content": null,
            "align_items": null,
            "align_self": null,
            "border": null,
            "bottom": null,
            "display": null,
            "flex": null,
            "flex_flow": null,
            "grid_area": null,
            "grid_auto_columns": null,
            "grid_auto_flow": null,
            "grid_auto_rows": null,
            "grid_column": null,
            "grid_gap": null,
            "grid_row": null,
            "grid_template_areas": null,
            "grid_template_columns": null,
            "grid_template_rows": null,
            "height": null,
            "justify_content": null,
            "justify_items": null,
            "left": null,
            "margin": null,
            "max_height": null,
            "max_width": null,
            "min_height": null,
            "min_width": null,
            "object_fit": null,
            "object_position": null,
            "order": null,
            "overflow": null,
            "overflow_x": null,
            "overflow_y": null,
            "padding": null,
            "right": null,
            "top": null,
            "visibility": null,
            "width": null
          }
        },
        "0db0ed43ce8b4f70839e102786979f44": {
          "model_module": "@jupyter-widgets/controls",
          "model_name": "DescriptionStyleModel",
          "model_module_version": "1.5.0",
          "state": {
            "_model_module": "@jupyter-widgets/controls",
            "_model_module_version": "1.5.0",
            "_model_name": "DescriptionStyleModel",
            "_view_count": null,
            "_view_module": "@jupyter-widgets/base",
            "_view_module_version": "1.2.0",
            "_view_name": "StyleView",
            "description_width": ""
          }
        },
        "549da9f1e8e44c34a98dfeda9e60fd72": {
          "model_module": "@jupyter-widgets/controls",
          "model_name": "HBoxModel",
          "model_module_version": "1.5.0",
          "state": {
            "_dom_classes": [],
            "_model_module": "@jupyter-widgets/controls",
            "_model_module_version": "1.5.0",
            "_model_name": "HBoxModel",
            "_view_count": null,
            "_view_module": "@jupyter-widgets/controls",
            "_view_module_version": "1.5.0",
            "_view_name": "HBoxView",
            "box_style": "",
            "children": [
              "IPY_MODEL_14b09dbbad674e4489e3667b2f89b971",
              "IPY_MODEL_55050ad497c84846b78f397ff820090c",
              "IPY_MODEL_7e1d657b3174402096a2d9f2aa0b5da1"
            ],
            "layout": "IPY_MODEL_7d3f2322343340348b9a400ace26c41d"
          }
        },
        "14b09dbbad674e4489e3667b2f89b971": {
          "model_module": "@jupyter-widgets/controls",
          "model_name": "HTMLModel",
          "model_module_version": "1.5.0",
          "state": {
            "_dom_classes": [],
            "_model_module": "@jupyter-widgets/controls",
            "_model_module_version": "1.5.0",
            "_model_name": "HTMLModel",
            "_view_count": null,
            "_view_module": "@jupyter-widgets/controls",
            "_view_module_version": "1.5.0",
            "_view_name": "HTMLView",
            "description": "",
            "description_tooltip": null,
            "layout": "IPY_MODEL_50188b39acf44f76aa527f2ba68b956a",
            "placeholder": "​",
            "style": "IPY_MODEL_280e84339440496385cde2731fd8775c",
            "value": "100%"
          }
        },
        "55050ad497c84846b78f397ff820090c": {
          "model_module": "@jupyter-widgets/controls",
          "model_name": "FloatProgressModel",
          "model_module_version": "1.5.0",
          "state": {
            "_dom_classes": [],
            "_model_module": "@jupyter-widgets/controls",
            "_model_module_version": "1.5.0",
            "_model_name": "FloatProgressModel",
            "_view_count": null,
            "_view_module": "@jupyter-widgets/controls",
            "_view_module_version": "1.5.0",
            "_view_name": "ProgressView",
            "bar_style": "success",
            "description": "",
            "description_tooltip": null,
            "layout": "IPY_MODEL_edbb8d6b277c4e7d842080e5c48ec4fd",
            "max": 2485,
            "min": 0,
            "orientation": "horizontal",
            "style": "IPY_MODEL_3fefc3152edc4c7f9b61b222627e9a5c",
            "value": 2485
          }
        },
        "7e1d657b3174402096a2d9f2aa0b5da1": {
          "model_module": "@jupyter-widgets/controls",
          "model_name": "HTMLModel",
          "model_module_version": "1.5.0",
          "state": {
            "_dom_classes": [],
            "_model_module": "@jupyter-widgets/controls",
            "_model_module_version": "1.5.0",
            "_model_name": "HTMLModel",
            "_view_count": null,
            "_view_module": "@jupyter-widgets/controls",
            "_view_module_version": "1.5.0",
            "_view_name": "HTMLView",
            "description": "",
            "description_tooltip": null,
            "layout": "IPY_MODEL_0fddd0ce0f81483eaa2cc08322a22811",
            "placeholder": "​",
            "style": "IPY_MODEL_4a842e5942cb44d3b45bb29f2874c4a5",
            "value": " 2485/2485 [00:54&lt;00:00, 49.48it/s]"
          }
        },
        "7d3f2322343340348b9a400ace26c41d": {
          "model_module": "@jupyter-widgets/base",
          "model_name": "LayoutModel",
          "model_module_version": "1.2.0",
          "state": {
            "_model_module": "@jupyter-widgets/base",
            "_model_module_version": "1.2.0",
            "_model_name": "LayoutModel",
            "_view_count": null,
            "_view_module": "@jupyter-widgets/base",
            "_view_module_version": "1.2.0",
            "_view_name": "LayoutView",
            "align_content": null,
            "align_items": null,
            "align_self": null,
            "border": null,
            "bottom": null,
            "display": null,
            "flex": null,
            "flex_flow": null,
            "grid_area": null,
            "grid_auto_columns": null,
            "grid_auto_flow": null,
            "grid_auto_rows": null,
            "grid_column": null,
            "grid_gap": null,
            "grid_row": null,
            "grid_template_areas": null,
            "grid_template_columns": null,
            "grid_template_rows": null,
            "height": null,
            "justify_content": null,
            "justify_items": null,
            "left": null,
            "margin": null,
            "max_height": null,
            "max_width": null,
            "min_height": null,
            "min_width": null,
            "object_fit": null,
            "object_position": null,
            "order": null,
            "overflow": null,
            "overflow_x": null,
            "overflow_y": null,
            "padding": null,
            "right": null,
            "top": null,
            "visibility": null,
            "width": null
          }
        },
        "50188b39acf44f76aa527f2ba68b956a": {
          "model_module": "@jupyter-widgets/base",
          "model_name": "LayoutModel",
          "model_module_version": "1.2.0",
          "state": {
            "_model_module": "@jupyter-widgets/base",
            "_model_module_version": "1.2.0",
            "_model_name": "LayoutModel",
            "_view_count": null,
            "_view_module": "@jupyter-widgets/base",
            "_view_module_version": "1.2.0",
            "_view_name": "LayoutView",
            "align_content": null,
            "align_items": null,
            "align_self": null,
            "border": null,
            "bottom": null,
            "display": null,
            "flex": null,
            "flex_flow": null,
            "grid_area": null,
            "grid_auto_columns": null,
            "grid_auto_flow": null,
            "grid_auto_rows": null,
            "grid_column": null,
            "grid_gap": null,
            "grid_row": null,
            "grid_template_areas": null,
            "grid_template_columns": null,
            "grid_template_rows": null,
            "height": null,
            "justify_content": null,
            "justify_items": null,
            "left": null,
            "margin": null,
            "max_height": null,
            "max_width": null,
            "min_height": null,
            "min_width": null,
            "object_fit": null,
            "object_position": null,
            "order": null,
            "overflow": null,
            "overflow_x": null,
            "overflow_y": null,
            "padding": null,
            "right": null,
            "top": null,
            "visibility": null,
            "width": null
          }
        },
        "280e84339440496385cde2731fd8775c": {
          "model_module": "@jupyter-widgets/controls",
          "model_name": "DescriptionStyleModel",
          "model_module_version": "1.5.0",
          "state": {
            "_model_module": "@jupyter-widgets/controls",
            "_model_module_version": "1.5.0",
            "_model_name": "DescriptionStyleModel",
            "_view_count": null,
            "_view_module": "@jupyter-widgets/base",
            "_view_module_version": "1.2.0",
            "_view_name": "StyleView",
            "description_width": ""
          }
        },
        "edbb8d6b277c4e7d842080e5c48ec4fd": {
          "model_module": "@jupyter-widgets/base",
          "model_name": "LayoutModel",
          "model_module_version": "1.2.0",
          "state": {
            "_model_module": "@jupyter-widgets/base",
            "_model_module_version": "1.2.0",
            "_model_name": "LayoutModel",
            "_view_count": null,
            "_view_module": "@jupyter-widgets/base",
            "_view_module_version": "1.2.0",
            "_view_name": "LayoutView",
            "align_content": null,
            "align_items": null,
            "align_self": null,
            "border": null,
            "bottom": null,
            "display": null,
            "flex": null,
            "flex_flow": null,
            "grid_area": null,
            "grid_auto_columns": null,
            "grid_auto_flow": null,
            "grid_auto_rows": null,
            "grid_column": null,
            "grid_gap": null,
            "grid_row": null,
            "grid_template_areas": null,
            "grid_template_columns": null,
            "grid_template_rows": null,
            "height": null,
            "justify_content": null,
            "justify_items": null,
            "left": null,
            "margin": null,
            "max_height": null,
            "max_width": null,
            "min_height": null,
            "min_width": null,
            "object_fit": null,
            "object_position": null,
            "order": null,
            "overflow": null,
            "overflow_x": null,
            "overflow_y": null,
            "padding": null,
            "right": null,
            "top": null,
            "visibility": null,
            "width": null
          }
        },
        "3fefc3152edc4c7f9b61b222627e9a5c": {
          "model_module": "@jupyter-widgets/controls",
          "model_name": "ProgressStyleModel",
          "model_module_version": "1.5.0",
          "state": {
            "_model_module": "@jupyter-widgets/controls",
            "_model_module_version": "1.5.0",
            "_model_name": "ProgressStyleModel",
            "_view_count": null,
            "_view_module": "@jupyter-widgets/base",
            "_view_module_version": "1.2.0",
            "_view_name": "StyleView",
            "bar_color": null,
            "description_width": ""
          }
        },
        "0fddd0ce0f81483eaa2cc08322a22811": {
          "model_module": "@jupyter-widgets/base",
          "model_name": "LayoutModel",
          "model_module_version": "1.2.0",
          "state": {
            "_model_module": "@jupyter-widgets/base",
            "_model_module_version": "1.2.0",
            "_model_name": "LayoutModel",
            "_view_count": null,
            "_view_module": "@jupyter-widgets/base",
            "_view_module_version": "1.2.0",
            "_view_name": "LayoutView",
            "align_content": null,
            "align_items": null,
            "align_self": null,
            "border": null,
            "bottom": null,
            "display": null,
            "flex": null,
            "flex_flow": null,
            "grid_area": null,
            "grid_auto_columns": null,
            "grid_auto_flow": null,
            "grid_auto_rows": null,
            "grid_column": null,
            "grid_gap": null,
            "grid_row": null,
            "grid_template_areas": null,
            "grid_template_columns": null,
            "grid_template_rows": null,
            "height": null,
            "justify_content": null,
            "justify_items": null,
            "left": null,
            "margin": null,
            "max_height": null,
            "max_width": null,
            "min_height": null,
            "min_width": null,
            "object_fit": null,
            "object_position": null,
            "order": null,
            "overflow": null,
            "overflow_x": null,
            "overflow_y": null,
            "padding": null,
            "right": null,
            "top": null,
            "visibility": null,
            "width": null
          }
        },
        "4a842e5942cb44d3b45bb29f2874c4a5": {
          "model_module": "@jupyter-widgets/controls",
          "model_name": "DescriptionStyleModel",
          "model_module_version": "1.5.0",
          "state": {
            "_model_module": "@jupyter-widgets/controls",
            "_model_module_version": "1.5.0",
            "_model_name": "DescriptionStyleModel",
            "_view_count": null,
            "_view_module": "@jupyter-widgets/base",
            "_view_module_version": "1.2.0",
            "_view_name": "StyleView",
            "description_width": ""
          }
        }
      }
    }
  },
  "nbformat": 4,
  "nbformat_minor": 0
}